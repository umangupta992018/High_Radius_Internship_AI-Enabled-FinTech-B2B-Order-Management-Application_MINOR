{
 "cells": [
  {
   "cell_type": "code",
   "execution_count": 1,
   "metadata": {},
   "outputs": [],
   "source": [
    "import pandas as pd\n",
    "import numpy as np\n",
    "from sklearn import datasets, linear_model\n",
    "from sklearn.model_selection import train_test_split\n",
    "import sklearn.model_selection as model_selection\n",
    "from sklearn.preprocessing import LabelEncoder\n",
    "import datetime\n",
    "from sklearn.model_selection import train_test_split\n",
    "from sklearn.ensemble import RandomForestRegressor\n",
    "from sklearn.feature_selection import VarianceThreshold\n",
    "from sklearn.metrics import r2_score,mean_absolute_error\n",
    "from sklearn.model_selection import GridSearchCV\n",
    "import matplotlib.pyplot as plt\n",
    "import seaborn as sns\n",
    "import warnings \n",
    "%matplotlib inline\n",
    "\n",
    "warnings.filterwarnings('ignore')"
   ]
  },
  {
   "cell_type": "code",
   "execution_count": 2,
   "metadata": {},
   "outputs": [],
   "source": [
    "data=pd.read_csv('1805084__.csv')"
   ]
  },
  {
   "cell_type": "code",
   "execution_count": 3,
   "metadata": {},
   "outputs": [],
   "source": [
    "data['clear_date']=pd.to_datetime(data['clear_date'].astype(str),format='%Y-%m-%d')\n",
    "data['posting_date']=pd.to_datetime(data['posting_date'],format='%Y-%m-%d')\n",
    "data['document_create_date']=pd.to_datetime(data['document_create_date'].astype(str),format='%Y-%m-%d')\n",
    "data['document_create_date.1']=pd.to_datetime(data['document_create_date.1'].astype(str),format='%Y-%m-%d')\n",
    "data['baseline_create_date']=pd.to_datetime(data['baseline_create_date'].astype(str),format='%Y%m%d')\n",
    "data['due_in_date']=pd.to_datetime(data['due_in_date'].astype(str),format='%Y%m%d')"
   ]
  },
  {
   "cell_type": "code",
   "execution_count": 4,
   "metadata": {},
   "outputs": [],
   "source": [
    "\n",
    "data['Delay']=((data['clear_date']-data['due_in_date']).dt.days)"
   ]
  },
  {
   "cell_type": "code",
   "execution_count": 5,
   "metadata": {},
   "outputs": [
    {
     "data": {
      "text/plain": [
       "223.0"
      ]
     },
     "execution_count": 5,
     "metadata": {},
     "output_type": "execute_result"
    }
   ],
   "source": [
    "data['Delay'].max()"
   ]
  },
  {
   "cell_type": "code",
   "execution_count": 6,
   "metadata": {},
   "outputs": [],
   "source": [
    "train_set = pd.DataFrame(data[(data['clear_date'].notnull())&(data['isOpen']==0)])\n",
    "\n",
    "test_set = pd.DataFrame(data[(data['clear_date'].isnull())&(data['isOpen']==1)])"
   ]
  },
  {
   "cell_type": "code",
   "execution_count": 7,
   "metadata": {},
   "outputs": [
    {
     "data": {
      "text/plain": [
       "((46587, 20), (3413, 20))"
      ]
     },
     "execution_count": 7,
     "metadata": {},
     "output_type": "execute_result"
    }
   ],
   "source": [
    "train_set.shape,test_set.shape"
   ]
  },
  {
   "cell_type": "code",
   "execution_count": 8,
   "metadata": {},
   "outputs": [
    {
     "data": {
      "text/plain": [
       "(46587, 20)"
      ]
     },
     "execution_count": 8,
     "metadata": {},
     "output_type": "execute_result"
    }
   ],
   "source": [
    "train_set.sort_values(by='document_create_date.1',ascending=True).shape"
   ]
  },
  {
   "cell_type": "code",
   "execution_count": 9,
   "metadata": {},
   "outputs": [],
   "source": [
    "train_data,val=train_test_split(train_set,test_size=0.3,shuffle=False,stratify=None)"
   ]
  },
  {
   "cell_type": "code",
   "execution_count": 10,
   "metadata": {},
   "outputs": [
    {
     "data": {
      "text/plain": [
       "((32610, 20), (13977, 20))"
      ]
     },
     "execution_count": 10,
     "metadata": {},
     "output_type": "execute_result"
    }
   ],
   "source": [
    "train_data.shape,val.shape"
   ]
  },
  {
   "cell_type": "code",
   "execution_count": 11,
   "metadata": {},
   "outputs": [
    {
     "data": {
      "text/plain": [
       "(32610, 20)"
      ]
     },
     "execution_count": 11,
     "metadata": {},
     "output_type": "execute_result"
    }
   ],
   "source": [
    "train_data.sort_values(by='document_create_date.1',ascending=True).shape"
   ]
  },
  {
   "cell_type": "markdown",
   "metadata": {},
   "source": [
    "train_data.nunique()"
   ]
  },
  {
   "cell_type": "code",
   "execution_count": 12,
   "metadata": {},
   "outputs": [],
   "source": [
    "train_data=train_data[train_data['document_create_date.1']<=train_data['posting_date']]"
   ]
  },
  {
   "cell_type": "code",
   "execution_count": 13,
   "metadata": {},
   "outputs": [
    {
     "data": {
      "text/plain": [
       "(32610, 20)"
      ]
     },
     "execution_count": 13,
     "metadata": {},
     "output_type": "execute_result"
    }
   ],
   "source": [
    "train_data.shape"
   ]
  },
  {
   "cell_type": "code",
   "execution_count": 14,
   "metadata": {},
   "outputs": [],
   "source": [
    "train_data=train_data[train_data['document_create_date.1']<=train_data['baseline_create_date']]\n",
    "train_data=train_data[train_data['document_create_date.1']<=train_data['due_in_date']]\n",
    "train_data=train_data[train_data['document_create_date.1']<=train_data['clear_date']]\n",
    "train_data=train_data[train_data['posting_date']<=train_data['baseline_create_date']]\n",
    "train_data=train_data[train_data['posting_date']<=train_data['due_in_date']]\n",
    "train_data=train_data[train_data['posting_date']<=train_data['clear_date']]\n",
    "train_data=train_data[train_data['baseline_create_date']<=train_data['due_in_date']]\n",
    "train_data=train_data[train_data['baseline_create_date']<=train_data['clear_date']]"
   ]
  },
  {
   "cell_type": "code",
   "execution_count": 15,
   "metadata": {},
   "outputs": [
    {
     "data": {
      "text/plain": [
       "(31193, 20)"
      ]
     },
     "execution_count": 15,
     "metadata": {},
     "output_type": "execute_result"
    }
   ],
   "source": [
    "train_data.shape"
   ]
  },
  {
   "cell_type": "code",
   "execution_count": 16,
   "metadata": {},
   "outputs": [],
   "source": [
    "train_data=train_data[((train_data['due_in_date']<=train_data['clear_date'])&(train_data['Delay']>=0))|((train_data['due_in_date']>train_data['clear_date'])&(train_data['Delay']<=0))]"
   ]
  },
  {
   "cell_type": "code",
   "execution_count": 17,
   "metadata": {},
   "outputs": [
    {
     "data": {
      "text/plain": [
       "(31193, 20)"
      ]
     },
     "execution_count": 17,
     "metadata": {},
     "output_type": "execute_result"
    }
   ],
   "source": [
    "train_data.shape"
   ]
  },
  {
   "cell_type": "code",
   "execution_count": 18,
   "metadata": {},
   "outputs": [
    {
     "data": {
      "text/plain": [
       "business_code                     object\n",
       "cust_number                       object\n",
       "name_customer                     object\n",
       "clear_date                datetime64[ns]\n",
       "buisness_year                    float64\n",
       "doc_id                           float64\n",
       "posting_date              datetime64[ns]\n",
       "document_create_date      datetime64[ns]\n",
       "document_create_date.1    datetime64[ns]\n",
       "due_in_date               datetime64[ns]\n",
       "invoice_currency                  object\n",
       "document type                     object\n",
       "posting_id                       float64\n",
       "area_business                    float64\n",
       "total_open_amount                float64\n",
       "baseline_create_date      datetime64[ns]\n",
       "cust_payment_terms                object\n",
       "invoice_id                       float64\n",
       "isOpen                             int64\n",
       "Delay                            float64\n",
       "dtype: object"
      ]
     },
     "execution_count": 18,
     "metadata": {},
     "output_type": "execute_result"
    }
   ],
   "source": [
    "train_data.dtypes"
   ]
  },
  {
   "cell_type": "code",
   "execution_count": 19,
   "metadata": {},
   "outputs": [
    {
     "data": {
      "text/html": [
       "<div>\n",
       "<style scoped>\n",
       "    .dataframe tbody tr th:only-of-type {\n",
       "        vertical-align: middle;\n",
       "    }\n",
       "\n",
       "    .dataframe tbody tr th {\n",
       "        vertical-align: top;\n",
       "    }\n",
       "\n",
       "    .dataframe thead th {\n",
       "        text-align: right;\n",
       "    }\n",
       "</style>\n",
       "<table border=\"1\" class=\"dataframe\">\n",
       "  <thead>\n",
       "    <tr style=\"text-align: right;\">\n",
       "      <th></th>\n",
       "      <th>business_code</th>\n",
       "      <th>cust_number</th>\n",
       "      <th>name_customer</th>\n",
       "      <th>clear_date</th>\n",
       "      <th>buisness_year</th>\n",
       "      <th>doc_id</th>\n",
       "      <th>posting_date</th>\n",
       "      <th>document_create_date</th>\n",
       "      <th>document_create_date.1</th>\n",
       "      <th>due_in_date</th>\n",
       "      <th>invoice_currency</th>\n",
       "      <th>document type</th>\n",
       "      <th>posting_id</th>\n",
       "      <th>area_business</th>\n",
       "      <th>total_open_amount</th>\n",
       "      <th>baseline_create_date</th>\n",
       "      <th>cust_payment_terms</th>\n",
       "      <th>invoice_id</th>\n",
       "      <th>isOpen</th>\n",
       "      <th>Delay</th>\n",
       "    </tr>\n",
       "  </thead>\n",
       "  <tbody>\n",
       "    <tr>\n",
       "      <th>0</th>\n",
       "      <td>U001</td>\n",
       "      <td>0200705742</td>\n",
       "      <td>DOT corp</td>\n",
       "      <td>2020-03-16</td>\n",
       "      <td>2020.0</td>\n",
       "      <td>1.930523e+09</td>\n",
       "      <td>2020-02-12</td>\n",
       "      <td>2020-02-13</td>\n",
       "      <td>2020-02-12</td>\n",
       "      <td>2020-03-17</td>\n",
       "      <td>USD</td>\n",
       "      <td>RV</td>\n",
       "      <td>1.0</td>\n",
       "      <td>NaN</td>\n",
       "      <td>7786.44</td>\n",
       "      <td>2020-02-12</td>\n",
       "      <td>NAAW</td>\n",
       "      <td>1.930523e+09</td>\n",
       "      <td>0</td>\n",
       "      <td>-1.0</td>\n",
       "    </tr>\n",
       "    <tr>\n",
       "      <th>1</th>\n",
       "      <td>CA02</td>\n",
       "      <td>0140104423</td>\n",
       "      <td>METRO  systems</td>\n",
       "      <td>2020-02-17</td>\n",
       "      <td>2020.0</td>\n",
       "      <td>2.960613e+09</td>\n",
       "      <td>2020-02-07</td>\n",
       "      <td>2020-02-07</td>\n",
       "      <td>2020-02-07</td>\n",
       "      <td>2020-02-21</td>\n",
       "      <td>CAD</td>\n",
       "      <td>RV</td>\n",
       "      <td>1.0</td>\n",
       "      <td>NaN</td>\n",
       "      <td>36987.58</td>\n",
       "      <td>2020-02-11</td>\n",
       "      <td>CA10</td>\n",
       "      <td>2.960613e+09</td>\n",
       "      <td>0</td>\n",
       "      <td>-4.0</td>\n",
       "    </tr>\n",
       "    <tr>\n",
       "      <th>2</th>\n",
       "      <td>U001</td>\n",
       "      <td>0200920735</td>\n",
       "      <td>ALBERT us</td>\n",
       "      <td>2019-08-06</td>\n",
       "      <td>2019.0</td>\n",
       "      <td>1.929645e+09</td>\n",
       "      <td>2019-07-22</td>\n",
       "      <td>2019-07-20</td>\n",
       "      <td>2019-07-22</td>\n",
       "      <td>2019-08-06</td>\n",
       "      <td>USD</td>\n",
       "      <td>RV</td>\n",
       "      <td>1.0</td>\n",
       "      <td>NaN</td>\n",
       "      <td>71807.69</td>\n",
       "      <td>2019-07-22</td>\n",
       "      <td>NAA8</td>\n",
       "      <td>1.929645e+09</td>\n",
       "      <td>0</td>\n",
       "      <td>0.0</td>\n",
       "    </tr>\n",
       "    <tr>\n",
       "      <th>3</th>\n",
       "      <td>U001</td>\n",
       "      <td>0200701314</td>\n",
       "      <td>MBM  associates</td>\n",
       "      <td>2019-11-26</td>\n",
       "      <td>2019.0</td>\n",
       "      <td>1.930124e+09</td>\n",
       "      <td>2019-11-08</td>\n",
       "      <td>2019-11-07</td>\n",
       "      <td>2019-11-08</td>\n",
       "      <td>2019-11-23</td>\n",
       "      <td>USD</td>\n",
       "      <td>RV</td>\n",
       "      <td>1.0</td>\n",
       "      <td>NaN</td>\n",
       "      <td>2575.46</td>\n",
       "      <td>2019-11-08</td>\n",
       "      <td>NAA8</td>\n",
       "      <td>1.930124e+09</td>\n",
       "      <td>0</td>\n",
       "      <td>3.0</td>\n",
       "    </tr>\n",
       "    <tr>\n",
       "      <th>4</th>\n",
       "      <td>U001</td>\n",
       "      <td>0200769623</td>\n",
       "      <td>WAL-MAR in</td>\n",
       "      <td>2019-02-01</td>\n",
       "      <td>2019.0</td>\n",
       "      <td>1.928649e+09</td>\n",
       "      <td>2019-01-20</td>\n",
       "      <td>2019-01-19</td>\n",
       "      <td>2019-01-20</td>\n",
       "      <td>2019-02-04</td>\n",
       "      <td>USD</td>\n",
       "      <td>RV</td>\n",
       "      <td>1.0</td>\n",
       "      <td>NaN</td>\n",
       "      <td>15576.52</td>\n",
       "      <td>2019-01-20</td>\n",
       "      <td>NAH4</td>\n",
       "      <td>1.928649e+09</td>\n",
       "      <td>0</td>\n",
       "      <td>-3.0</td>\n",
       "    </tr>\n",
       "    <tr>\n",
       "      <th>...</th>\n",
       "      <td>...</td>\n",
       "      <td>...</td>\n",
       "      <td>...</td>\n",
       "      <td>...</td>\n",
       "      <td>...</td>\n",
       "      <td>...</td>\n",
       "      <td>...</td>\n",
       "      <td>...</td>\n",
       "      <td>...</td>\n",
       "      <td>...</td>\n",
       "      <td>...</td>\n",
       "      <td>...</td>\n",
       "      <td>...</td>\n",
       "      <td>...</td>\n",
       "      <td>...</td>\n",
       "      <td>...</td>\n",
       "      <td>...</td>\n",
       "      <td>...</td>\n",
       "      <td>...</td>\n",
       "      <td>...</td>\n",
       "    </tr>\n",
       "    <tr>\n",
       "      <th>32605</th>\n",
       "      <td>U001</td>\n",
       "      <td>0200704858</td>\n",
       "      <td>WAKE</td>\n",
       "      <td>2019-07-10</td>\n",
       "      <td>2019.0</td>\n",
       "      <td>1.929535e+09</td>\n",
       "      <td>2019-06-25</td>\n",
       "      <td>2019-06-24</td>\n",
       "      <td>2019-06-25</td>\n",
       "      <td>2019-07-10</td>\n",
       "      <td>USD</td>\n",
       "      <td>RV</td>\n",
       "      <td>1.0</td>\n",
       "      <td>NaN</td>\n",
       "      <td>11300.18</td>\n",
       "      <td>2019-06-25</td>\n",
       "      <td>NAA8</td>\n",
       "      <td>1.929535e+09</td>\n",
       "      <td>0</td>\n",
       "      <td>0.0</td>\n",
       "    </tr>\n",
       "    <tr>\n",
       "      <th>32606</th>\n",
       "      <td>U001</td>\n",
       "      <td>CCU013</td>\n",
       "      <td>KRAFT F corporation</td>\n",
       "      <td>2019-05-03</td>\n",
       "      <td>2019.0</td>\n",
       "      <td>1.929039e+09</td>\n",
       "      <td>2019-03-30</td>\n",
       "      <td>2019-03-28</td>\n",
       "      <td>2019-03-30</td>\n",
       "      <td>2019-03-30</td>\n",
       "      <td>USD</td>\n",
       "      <td>RV</td>\n",
       "      <td>1.0</td>\n",
       "      <td>NaN</td>\n",
       "      <td>28341.16</td>\n",
       "      <td>2019-03-30</td>\n",
       "      <td>NAX2</td>\n",
       "      <td>1.929039e+09</td>\n",
       "      <td>0</td>\n",
       "      <td>34.0</td>\n",
       "    </tr>\n",
       "    <tr>\n",
       "      <th>32607</th>\n",
       "      <td>U001</td>\n",
       "      <td>0200769623</td>\n",
       "      <td>WAL-MAR corp</td>\n",
       "      <td>2019-09-04</td>\n",
       "      <td>2019.0</td>\n",
       "      <td>1.929760e+09</td>\n",
       "      <td>2019-08-23</td>\n",
       "      <td>2019-08-18</td>\n",
       "      <td>2019-08-23</td>\n",
       "      <td>2019-09-07</td>\n",
       "      <td>USD</td>\n",
       "      <td>RV</td>\n",
       "      <td>1.0</td>\n",
       "      <td>NaN</td>\n",
       "      <td>22310.99</td>\n",
       "      <td>2019-08-23</td>\n",
       "      <td>NAH4</td>\n",
       "      <td>1.929760e+09</td>\n",
       "      <td>0</td>\n",
       "      <td>-3.0</td>\n",
       "    </tr>\n",
       "    <tr>\n",
       "      <th>32608</th>\n",
       "      <td>U001</td>\n",
       "      <td>0200794332</td>\n",
       "      <td>COST associates</td>\n",
       "      <td>2019-12-19</td>\n",
       "      <td>2019.0</td>\n",
       "      <td>1.930211e+09</td>\n",
       "      <td>2019-12-05</td>\n",
       "      <td>2019-12-03</td>\n",
       "      <td>2019-12-05</td>\n",
       "      <td>2019-12-20</td>\n",
       "      <td>USD</td>\n",
       "      <td>RV</td>\n",
       "      <td>1.0</td>\n",
       "      <td>NaN</td>\n",
       "      <td>15791.62</td>\n",
       "      <td>2019-12-05</td>\n",
       "      <td>NAAX</td>\n",
       "      <td>1.930211e+09</td>\n",
       "      <td>0</td>\n",
       "      <td>-1.0</td>\n",
       "    </tr>\n",
       "    <tr>\n",
       "      <th>32609</th>\n",
       "      <td>U001</td>\n",
       "      <td>0200793513</td>\n",
       "      <td>KROGER trust</td>\n",
       "      <td>2019-09-25</td>\n",
       "      <td>2019.0</td>\n",
       "      <td>1.929859e+09</td>\n",
       "      <td>2019-09-10</td>\n",
       "      <td>2019-09-10</td>\n",
       "      <td>2019-09-10</td>\n",
       "      <td>2019-09-25</td>\n",
       "      <td>USD</td>\n",
       "      <td>RV</td>\n",
       "      <td>1.0</td>\n",
       "      <td>NaN</td>\n",
       "      <td>82572.76</td>\n",
       "      <td>2019-09-10</td>\n",
       "      <td>NAA8</td>\n",
       "      <td>1.929859e+09</td>\n",
       "      <td>0</td>\n",
       "      <td>0.0</td>\n",
       "    </tr>\n",
       "  </tbody>\n",
       "</table>\n",
       "<p>31193 rows × 20 columns</p>\n",
       "</div>"
      ],
      "text/plain": [
       "      business_code cust_number        name_customer clear_date  \\\n",
       "0              U001  0200705742             DOT corp 2020-03-16   \n",
       "1              CA02  0140104423       METRO  systems 2020-02-17   \n",
       "2              U001  0200920735            ALBERT us 2019-08-06   \n",
       "3              U001  0200701314      MBM  associates 2019-11-26   \n",
       "4              U001  0200769623           WAL-MAR in 2019-02-01   \n",
       "...             ...         ...                  ...        ...   \n",
       "32605          U001  0200704858                WAKE  2019-07-10   \n",
       "32606          U001      CCU013  KRAFT F corporation 2019-05-03   \n",
       "32607          U001  0200769623         WAL-MAR corp 2019-09-04   \n",
       "32608          U001  0200794332      COST associates 2019-12-19   \n",
       "32609          U001  0200793513         KROGER trust 2019-09-25   \n",
       "\n",
       "       buisness_year        doc_id posting_date document_create_date  \\\n",
       "0             2020.0  1.930523e+09   2020-02-12           2020-02-13   \n",
       "1             2020.0  2.960613e+09   2020-02-07           2020-02-07   \n",
       "2             2019.0  1.929645e+09   2019-07-22           2019-07-20   \n",
       "3             2019.0  1.930124e+09   2019-11-08           2019-11-07   \n",
       "4             2019.0  1.928649e+09   2019-01-20           2019-01-19   \n",
       "...              ...           ...          ...                  ...   \n",
       "32605         2019.0  1.929535e+09   2019-06-25           2019-06-24   \n",
       "32606         2019.0  1.929039e+09   2019-03-30           2019-03-28   \n",
       "32607         2019.0  1.929760e+09   2019-08-23           2019-08-18   \n",
       "32608         2019.0  1.930211e+09   2019-12-05           2019-12-03   \n",
       "32609         2019.0  1.929859e+09   2019-09-10           2019-09-10   \n",
       "\n",
       "      document_create_date.1 due_in_date invoice_currency document type  \\\n",
       "0                 2020-02-12  2020-03-17              USD            RV   \n",
       "1                 2020-02-07  2020-02-21              CAD            RV   \n",
       "2                 2019-07-22  2019-08-06              USD            RV   \n",
       "3                 2019-11-08  2019-11-23              USD            RV   \n",
       "4                 2019-01-20  2019-02-04              USD            RV   \n",
       "...                      ...         ...              ...           ...   \n",
       "32605             2019-06-25  2019-07-10              USD            RV   \n",
       "32606             2019-03-30  2019-03-30              USD            RV   \n",
       "32607             2019-08-23  2019-09-07              USD            RV   \n",
       "32608             2019-12-05  2019-12-20              USD            RV   \n",
       "32609             2019-09-10  2019-09-25              USD            RV   \n",
       "\n",
       "       posting_id  area_business  total_open_amount baseline_create_date  \\\n",
       "0             1.0            NaN            7786.44           2020-02-12   \n",
       "1             1.0            NaN           36987.58           2020-02-11   \n",
       "2             1.0            NaN           71807.69           2019-07-22   \n",
       "3             1.0            NaN            2575.46           2019-11-08   \n",
       "4             1.0            NaN           15576.52           2019-01-20   \n",
       "...           ...            ...                ...                  ...   \n",
       "32605         1.0            NaN           11300.18           2019-06-25   \n",
       "32606         1.0            NaN           28341.16           2019-03-30   \n",
       "32607         1.0            NaN           22310.99           2019-08-23   \n",
       "32608         1.0            NaN           15791.62           2019-12-05   \n",
       "32609         1.0            NaN           82572.76           2019-09-10   \n",
       "\n",
       "      cust_payment_terms    invoice_id  isOpen  Delay  \n",
       "0                   NAAW  1.930523e+09       0   -1.0  \n",
       "1                   CA10  2.960613e+09       0   -4.0  \n",
       "2                   NAA8  1.929645e+09       0    0.0  \n",
       "3                   NAA8  1.930124e+09       0    3.0  \n",
       "4                   NAH4  1.928649e+09       0   -3.0  \n",
       "...                  ...           ...     ...    ...  \n",
       "32605               NAA8  1.929535e+09       0    0.0  \n",
       "32606               NAX2  1.929039e+09       0   34.0  \n",
       "32607               NAH4  1.929760e+09       0   -3.0  \n",
       "32608               NAAX  1.930211e+09       0   -1.0  \n",
       "32609               NAA8  1.929859e+09       0    0.0  \n",
       "\n",
       "[31193 rows x 20 columns]"
      ]
     },
     "execution_count": 19,
     "metadata": {},
     "output_type": "execute_result"
    }
   ],
   "source": [
    "train_data[train_data.isnull().any(axis=1)]"
   ]
  },
  {
   "cell_type": "code",
   "execution_count": 20,
   "metadata": {},
   "outputs": [
    {
     "data": {
      "text/plain": [
       "U001    28144\n",
       "CA02     2521\n",
       "U013      402\n",
       "U002      119\n",
       "U005        5\n",
       "U007        2\n",
       "Name: business_code, dtype: int64"
      ]
     },
     "execution_count": 20,
     "metadata": {},
     "output_type": "execute_result"
    }
   ],
   "source": [
    "train_data['business_code'].value_counts()"
   ]
  },
  {
   "cell_type": "code",
   "execution_count": 21,
   "metadata": {},
   "outputs": [
    {
     "data": {
      "text/html": [
       "<div>\n",
       "<style scoped>\n",
       "    .dataframe tbody tr th:only-of-type {\n",
       "        vertical-align: middle;\n",
       "    }\n",
       "\n",
       "    .dataframe tbody tr th {\n",
       "        vertical-align: top;\n",
       "    }\n",
       "\n",
       "    .dataframe thead th {\n",
       "        text-align: right;\n",
       "    }\n",
       "</style>\n",
       "<table border=\"1\" class=\"dataframe\">\n",
       "  <thead>\n",
       "    <tr style=\"text-align: right;\">\n",
       "      <th></th>\n",
       "      <th>business_code</th>\n",
       "      <th>cust_number</th>\n",
       "      <th>name_customer</th>\n",
       "      <th>clear_date</th>\n",
       "      <th>buisness_year</th>\n",
       "      <th>doc_id</th>\n",
       "      <th>posting_date</th>\n",
       "      <th>document_create_date</th>\n",
       "      <th>document_create_date.1</th>\n",
       "      <th>due_in_date</th>\n",
       "      <th>invoice_currency</th>\n",
       "      <th>document type</th>\n",
       "      <th>posting_id</th>\n",
       "      <th>area_business</th>\n",
       "      <th>total_open_amount</th>\n",
       "      <th>baseline_create_date</th>\n",
       "      <th>cust_payment_terms</th>\n",
       "      <th>invoice_id</th>\n",
       "      <th>isOpen</th>\n",
       "      <th>Delay</th>\n",
       "    </tr>\n",
       "  </thead>\n",
       "  <tbody>\n",
       "    <tr>\n",
       "      <th>17929</th>\n",
       "      <td>U007</td>\n",
       "      <td>0100024767</td>\n",
       "      <td>GREEN  systems</td>\n",
       "      <td>2019-06-12</td>\n",
       "      <td>2019.0</td>\n",
       "      <td>1.928626e+09</td>\n",
       "      <td>2019-01-15</td>\n",
       "      <td>2019-01-15</td>\n",
       "      <td>2019-01-15</td>\n",
       "      <td>2019-02-19</td>\n",
       "      <td>USD</td>\n",
       "      <td>RV</td>\n",
       "      <td>1.0</td>\n",
       "      <td>NaN</td>\n",
       "      <td>716.0</td>\n",
       "      <td>2019-01-15</td>\n",
       "      <td>NAG2</td>\n",
       "      <td>1.928626e+09</td>\n",
       "      <td>0</td>\n",
       "      <td>113.0</td>\n",
       "    </tr>\n",
       "    <tr>\n",
       "      <th>30984</th>\n",
       "      <td>U007</td>\n",
       "      <td>0100024767</td>\n",
       "      <td>GREEN  systems</td>\n",
       "      <td>2019-06-05</td>\n",
       "      <td>2019.0</td>\n",
       "      <td>1.928932e+09</td>\n",
       "      <td>2019-03-08</td>\n",
       "      <td>2019-03-08</td>\n",
       "      <td>2019-03-08</td>\n",
       "      <td>2019-04-12</td>\n",
       "      <td>USD</td>\n",
       "      <td>RV</td>\n",
       "      <td>1.0</td>\n",
       "      <td>NaN</td>\n",
       "      <td>1443.2</td>\n",
       "      <td>2019-03-08</td>\n",
       "      <td>NAG2</td>\n",
       "      <td>1.928932e+09</td>\n",
       "      <td>0</td>\n",
       "      <td>54.0</td>\n",
       "    </tr>\n",
       "  </tbody>\n",
       "</table>\n",
       "</div>"
      ],
      "text/plain": [
       "      business_code cust_number   name_customer clear_date  buisness_year  \\\n",
       "17929          U007  0100024767  GREEN  systems 2019-06-12         2019.0   \n",
       "30984          U007  0100024767  GREEN  systems 2019-06-05         2019.0   \n",
       "\n",
       "             doc_id posting_date document_create_date document_create_date.1  \\\n",
       "17929  1.928626e+09   2019-01-15           2019-01-15             2019-01-15   \n",
       "30984  1.928932e+09   2019-03-08           2019-03-08             2019-03-08   \n",
       "\n",
       "      due_in_date invoice_currency document type  posting_id  area_business  \\\n",
       "17929  2019-02-19              USD            RV         1.0            NaN   \n",
       "30984  2019-04-12              USD            RV         1.0            NaN   \n",
       "\n",
       "       total_open_amount baseline_create_date cust_payment_terms  \\\n",
       "17929              716.0           2019-01-15               NAG2   \n",
       "30984             1443.2           2019-03-08               NAG2   \n",
       "\n",
       "         invoice_id  isOpen  Delay  \n",
       "17929  1.928626e+09       0  113.0  \n",
       "30984  1.928932e+09       0   54.0  "
      ]
     },
     "execution_count": 21,
     "metadata": {},
     "output_type": "execute_result"
    }
   ],
   "source": [
    "train_data[train_data['business_code']=='U007']"
   ]
  },
  {
   "cell_type": "code",
   "execution_count": 22,
   "metadata": {},
   "outputs": [],
   "source": [
    "train_data1=pd.get_dummies(train_data,columns=[\"business_code\"])"
   ]
  },
  {
   "cell_type": "code",
   "execution_count": 23,
   "metadata": {},
   "outputs": [
    {
     "data": {
      "text/plain": [
       "(31193, 25)"
      ]
     },
     "execution_count": 23,
     "metadata": {},
     "output_type": "execute_result"
    }
   ],
   "source": [
    "#train_data1.info()\n",
    "train_data1.shape"
   ]
  },
  {
   "cell_type": "code",
   "execution_count": 24,
   "metadata": {},
   "outputs": [
    {
     "data": {
      "text/plain": [
       "0    31191\n",
       "1        2\n",
       "Name: business_code_U007, dtype: int64"
      ]
     },
     "execution_count": 24,
     "metadata": {},
     "output_type": "execute_result"
    }
   ],
   "source": [
    "train_data1['business_code_U007'].value_counts()"
   ]
  },
  {
   "cell_type": "code",
   "execution_count": 25,
   "metadata": {},
   "outputs": [
    {
     "data": {
      "text/html": [
       "<div>\n",
       "<style scoped>\n",
       "    .dataframe tbody tr th:only-of-type {\n",
       "        vertical-align: middle;\n",
       "    }\n",
       "\n",
       "    .dataframe tbody tr th {\n",
       "        vertical-align: top;\n",
       "    }\n",
       "\n",
       "    .dataframe thead th {\n",
       "        text-align: right;\n",
       "    }\n",
       "</style>\n",
       "<table border=\"1\" class=\"dataframe\">\n",
       "  <thead>\n",
       "    <tr style=\"text-align: right;\">\n",
       "      <th></th>\n",
       "      <th>cust_number</th>\n",
       "      <th>name_customer</th>\n",
       "      <th>clear_date</th>\n",
       "      <th>buisness_year</th>\n",
       "      <th>doc_id</th>\n",
       "      <th>posting_date</th>\n",
       "      <th>document_create_date</th>\n",
       "      <th>document_create_date.1</th>\n",
       "      <th>due_in_date</th>\n",
       "      <th>invoice_currency</th>\n",
       "      <th>...</th>\n",
       "      <th>cust_payment_terms</th>\n",
       "      <th>invoice_id</th>\n",
       "      <th>isOpen</th>\n",
       "      <th>Delay</th>\n",
       "      <th>business_code_CA02</th>\n",
       "      <th>business_code_U001</th>\n",
       "      <th>business_code_U002</th>\n",
       "      <th>business_code_U005</th>\n",
       "      <th>business_code_U007</th>\n",
       "      <th>business_code_U013</th>\n",
       "    </tr>\n",
       "  </thead>\n",
       "  <tbody>\n",
       "    <tr>\n",
       "      <th>0</th>\n",
       "      <td>0200705742</td>\n",
       "      <td>DOT corp</td>\n",
       "      <td>2020-03-16</td>\n",
       "      <td>2020.0</td>\n",
       "      <td>1.930523e+09</td>\n",
       "      <td>2020-02-12</td>\n",
       "      <td>2020-02-13</td>\n",
       "      <td>2020-02-12</td>\n",
       "      <td>2020-03-17</td>\n",
       "      <td>USD</td>\n",
       "      <td>...</td>\n",
       "      <td>NAAW</td>\n",
       "      <td>1.930523e+09</td>\n",
       "      <td>0</td>\n",
       "      <td>-1.0</td>\n",
       "      <td>0</td>\n",
       "      <td>1</td>\n",
       "      <td>0</td>\n",
       "      <td>0</td>\n",
       "      <td>0</td>\n",
       "      <td>0</td>\n",
       "    </tr>\n",
       "    <tr>\n",
       "      <th>1</th>\n",
       "      <td>0140104423</td>\n",
       "      <td>METRO  systems</td>\n",
       "      <td>2020-02-17</td>\n",
       "      <td>2020.0</td>\n",
       "      <td>2.960613e+09</td>\n",
       "      <td>2020-02-07</td>\n",
       "      <td>2020-02-07</td>\n",
       "      <td>2020-02-07</td>\n",
       "      <td>2020-02-21</td>\n",
       "      <td>CAD</td>\n",
       "      <td>...</td>\n",
       "      <td>CA10</td>\n",
       "      <td>2.960613e+09</td>\n",
       "      <td>0</td>\n",
       "      <td>-4.0</td>\n",
       "      <td>1</td>\n",
       "      <td>0</td>\n",
       "      <td>0</td>\n",
       "      <td>0</td>\n",
       "      <td>0</td>\n",
       "      <td>0</td>\n",
       "    </tr>\n",
       "    <tr>\n",
       "      <th>2</th>\n",
       "      <td>0200920735</td>\n",
       "      <td>ALBERT us</td>\n",
       "      <td>2019-08-06</td>\n",
       "      <td>2019.0</td>\n",
       "      <td>1.929645e+09</td>\n",
       "      <td>2019-07-22</td>\n",
       "      <td>2019-07-20</td>\n",
       "      <td>2019-07-22</td>\n",
       "      <td>2019-08-06</td>\n",
       "      <td>USD</td>\n",
       "      <td>...</td>\n",
       "      <td>NAA8</td>\n",
       "      <td>1.929645e+09</td>\n",
       "      <td>0</td>\n",
       "      <td>0.0</td>\n",
       "      <td>0</td>\n",
       "      <td>1</td>\n",
       "      <td>0</td>\n",
       "      <td>0</td>\n",
       "      <td>0</td>\n",
       "      <td>0</td>\n",
       "    </tr>\n",
       "    <tr>\n",
       "      <th>3</th>\n",
       "      <td>0200701314</td>\n",
       "      <td>MBM  associates</td>\n",
       "      <td>2019-11-26</td>\n",
       "      <td>2019.0</td>\n",
       "      <td>1.930124e+09</td>\n",
       "      <td>2019-11-08</td>\n",
       "      <td>2019-11-07</td>\n",
       "      <td>2019-11-08</td>\n",
       "      <td>2019-11-23</td>\n",
       "      <td>USD</td>\n",
       "      <td>...</td>\n",
       "      <td>NAA8</td>\n",
       "      <td>1.930124e+09</td>\n",
       "      <td>0</td>\n",
       "      <td>3.0</td>\n",
       "      <td>0</td>\n",
       "      <td>1</td>\n",
       "      <td>0</td>\n",
       "      <td>0</td>\n",
       "      <td>0</td>\n",
       "      <td>0</td>\n",
       "    </tr>\n",
       "    <tr>\n",
       "      <th>4</th>\n",
       "      <td>0200769623</td>\n",
       "      <td>WAL-MAR in</td>\n",
       "      <td>2019-02-01</td>\n",
       "      <td>2019.0</td>\n",
       "      <td>1.928649e+09</td>\n",
       "      <td>2019-01-20</td>\n",
       "      <td>2019-01-19</td>\n",
       "      <td>2019-01-20</td>\n",
       "      <td>2019-02-04</td>\n",
       "      <td>USD</td>\n",
       "      <td>...</td>\n",
       "      <td>NAH4</td>\n",
       "      <td>1.928649e+09</td>\n",
       "      <td>0</td>\n",
       "      <td>-3.0</td>\n",
       "      <td>0</td>\n",
       "      <td>1</td>\n",
       "      <td>0</td>\n",
       "      <td>0</td>\n",
       "      <td>0</td>\n",
       "      <td>0</td>\n",
       "    </tr>\n",
       "    <tr>\n",
       "      <th>...</th>\n",
       "      <td>...</td>\n",
       "      <td>...</td>\n",
       "      <td>...</td>\n",
       "      <td>...</td>\n",
       "      <td>...</td>\n",
       "      <td>...</td>\n",
       "      <td>...</td>\n",
       "      <td>...</td>\n",
       "      <td>...</td>\n",
       "      <td>...</td>\n",
       "      <td>...</td>\n",
       "      <td>...</td>\n",
       "      <td>...</td>\n",
       "      <td>...</td>\n",
       "      <td>...</td>\n",
       "      <td>...</td>\n",
       "      <td>...</td>\n",
       "      <td>...</td>\n",
       "      <td>...</td>\n",
       "      <td>...</td>\n",
       "      <td>...</td>\n",
       "    </tr>\n",
       "    <tr>\n",
       "      <th>32605</th>\n",
       "      <td>0200704858</td>\n",
       "      <td>WAKE</td>\n",
       "      <td>2019-07-10</td>\n",
       "      <td>2019.0</td>\n",
       "      <td>1.929535e+09</td>\n",
       "      <td>2019-06-25</td>\n",
       "      <td>2019-06-24</td>\n",
       "      <td>2019-06-25</td>\n",
       "      <td>2019-07-10</td>\n",
       "      <td>USD</td>\n",
       "      <td>...</td>\n",
       "      <td>NAA8</td>\n",
       "      <td>1.929535e+09</td>\n",
       "      <td>0</td>\n",
       "      <td>0.0</td>\n",
       "      <td>0</td>\n",
       "      <td>1</td>\n",
       "      <td>0</td>\n",
       "      <td>0</td>\n",
       "      <td>0</td>\n",
       "      <td>0</td>\n",
       "    </tr>\n",
       "    <tr>\n",
       "      <th>32606</th>\n",
       "      <td>CCU013</td>\n",
       "      <td>KRAFT F corporation</td>\n",
       "      <td>2019-05-03</td>\n",
       "      <td>2019.0</td>\n",
       "      <td>1.929039e+09</td>\n",
       "      <td>2019-03-30</td>\n",
       "      <td>2019-03-28</td>\n",
       "      <td>2019-03-30</td>\n",
       "      <td>2019-03-30</td>\n",
       "      <td>USD</td>\n",
       "      <td>...</td>\n",
       "      <td>NAX2</td>\n",
       "      <td>1.929039e+09</td>\n",
       "      <td>0</td>\n",
       "      <td>34.0</td>\n",
       "      <td>0</td>\n",
       "      <td>1</td>\n",
       "      <td>0</td>\n",
       "      <td>0</td>\n",
       "      <td>0</td>\n",
       "      <td>0</td>\n",
       "    </tr>\n",
       "    <tr>\n",
       "      <th>32607</th>\n",
       "      <td>0200769623</td>\n",
       "      <td>WAL-MAR corp</td>\n",
       "      <td>2019-09-04</td>\n",
       "      <td>2019.0</td>\n",
       "      <td>1.929760e+09</td>\n",
       "      <td>2019-08-23</td>\n",
       "      <td>2019-08-18</td>\n",
       "      <td>2019-08-23</td>\n",
       "      <td>2019-09-07</td>\n",
       "      <td>USD</td>\n",
       "      <td>...</td>\n",
       "      <td>NAH4</td>\n",
       "      <td>1.929760e+09</td>\n",
       "      <td>0</td>\n",
       "      <td>-3.0</td>\n",
       "      <td>0</td>\n",
       "      <td>1</td>\n",
       "      <td>0</td>\n",
       "      <td>0</td>\n",
       "      <td>0</td>\n",
       "      <td>0</td>\n",
       "    </tr>\n",
       "    <tr>\n",
       "      <th>32608</th>\n",
       "      <td>0200794332</td>\n",
       "      <td>COST associates</td>\n",
       "      <td>2019-12-19</td>\n",
       "      <td>2019.0</td>\n",
       "      <td>1.930211e+09</td>\n",
       "      <td>2019-12-05</td>\n",
       "      <td>2019-12-03</td>\n",
       "      <td>2019-12-05</td>\n",
       "      <td>2019-12-20</td>\n",
       "      <td>USD</td>\n",
       "      <td>...</td>\n",
       "      <td>NAAX</td>\n",
       "      <td>1.930211e+09</td>\n",
       "      <td>0</td>\n",
       "      <td>-1.0</td>\n",
       "      <td>0</td>\n",
       "      <td>1</td>\n",
       "      <td>0</td>\n",
       "      <td>0</td>\n",
       "      <td>0</td>\n",
       "      <td>0</td>\n",
       "    </tr>\n",
       "    <tr>\n",
       "      <th>32609</th>\n",
       "      <td>0200793513</td>\n",
       "      <td>KROGER trust</td>\n",
       "      <td>2019-09-25</td>\n",
       "      <td>2019.0</td>\n",
       "      <td>1.929859e+09</td>\n",
       "      <td>2019-09-10</td>\n",
       "      <td>2019-09-10</td>\n",
       "      <td>2019-09-10</td>\n",
       "      <td>2019-09-25</td>\n",
       "      <td>USD</td>\n",
       "      <td>...</td>\n",
       "      <td>NAA8</td>\n",
       "      <td>1.929859e+09</td>\n",
       "      <td>0</td>\n",
       "      <td>0.0</td>\n",
       "      <td>0</td>\n",
       "      <td>1</td>\n",
       "      <td>0</td>\n",
       "      <td>0</td>\n",
       "      <td>0</td>\n",
       "      <td>0</td>\n",
       "    </tr>\n",
       "  </tbody>\n",
       "</table>\n",
       "<p>31193 rows × 25 columns</p>\n",
       "</div>"
      ],
      "text/plain": [
       "      cust_number        name_customer clear_date  buisness_year  \\\n",
       "0      0200705742             DOT corp 2020-03-16         2020.0   \n",
       "1      0140104423       METRO  systems 2020-02-17         2020.0   \n",
       "2      0200920735            ALBERT us 2019-08-06         2019.0   \n",
       "3      0200701314      MBM  associates 2019-11-26         2019.0   \n",
       "4      0200769623           WAL-MAR in 2019-02-01         2019.0   \n",
       "...           ...                  ...        ...            ...   \n",
       "32605  0200704858                WAKE  2019-07-10         2019.0   \n",
       "32606      CCU013  KRAFT F corporation 2019-05-03         2019.0   \n",
       "32607  0200769623         WAL-MAR corp 2019-09-04         2019.0   \n",
       "32608  0200794332      COST associates 2019-12-19         2019.0   \n",
       "32609  0200793513         KROGER trust 2019-09-25         2019.0   \n",
       "\n",
       "             doc_id posting_date document_create_date document_create_date.1  \\\n",
       "0      1.930523e+09   2020-02-12           2020-02-13             2020-02-12   \n",
       "1      2.960613e+09   2020-02-07           2020-02-07             2020-02-07   \n",
       "2      1.929645e+09   2019-07-22           2019-07-20             2019-07-22   \n",
       "3      1.930124e+09   2019-11-08           2019-11-07             2019-11-08   \n",
       "4      1.928649e+09   2019-01-20           2019-01-19             2019-01-20   \n",
       "...             ...          ...                  ...                    ...   \n",
       "32605  1.929535e+09   2019-06-25           2019-06-24             2019-06-25   \n",
       "32606  1.929039e+09   2019-03-30           2019-03-28             2019-03-30   \n",
       "32607  1.929760e+09   2019-08-23           2019-08-18             2019-08-23   \n",
       "32608  1.930211e+09   2019-12-05           2019-12-03             2019-12-05   \n",
       "32609  1.929859e+09   2019-09-10           2019-09-10             2019-09-10   \n",
       "\n",
       "      due_in_date invoice_currency  ... cust_payment_terms    invoice_id  \\\n",
       "0      2020-03-17              USD  ...               NAAW  1.930523e+09   \n",
       "1      2020-02-21              CAD  ...               CA10  2.960613e+09   \n",
       "2      2019-08-06              USD  ...               NAA8  1.929645e+09   \n",
       "3      2019-11-23              USD  ...               NAA8  1.930124e+09   \n",
       "4      2019-02-04              USD  ...               NAH4  1.928649e+09   \n",
       "...           ...              ...  ...                ...           ...   \n",
       "32605  2019-07-10              USD  ...               NAA8  1.929535e+09   \n",
       "32606  2019-03-30              USD  ...               NAX2  1.929039e+09   \n",
       "32607  2019-09-07              USD  ...               NAH4  1.929760e+09   \n",
       "32608  2019-12-20              USD  ...               NAAX  1.930211e+09   \n",
       "32609  2019-09-25              USD  ...               NAA8  1.929859e+09   \n",
       "\n",
       "       isOpen  Delay business_code_CA02 business_code_U001  \\\n",
       "0           0   -1.0                  0                  1   \n",
       "1           0   -4.0                  1                  0   \n",
       "2           0    0.0                  0                  1   \n",
       "3           0    3.0                  0                  1   \n",
       "4           0   -3.0                  0                  1   \n",
       "...       ...    ...                ...                ...   \n",
       "32605       0    0.0                  0                  1   \n",
       "32606       0   34.0                  0                  1   \n",
       "32607       0   -3.0                  0                  1   \n",
       "32608       0   -1.0                  0                  1   \n",
       "32609       0    0.0                  0                  1   \n",
       "\n",
       "       business_code_U002  business_code_U005  business_code_U007  \\\n",
       "0                       0                   0                   0   \n",
       "1                       0                   0                   0   \n",
       "2                       0                   0                   0   \n",
       "3                       0                   0                   0   \n",
       "4                       0                   0                   0   \n",
       "...                   ...                 ...                 ...   \n",
       "32605                   0                   0                   0   \n",
       "32606                   0                   0                   0   \n",
       "32607                   0                   0                   0   \n",
       "32608                   0                   0                   0   \n",
       "32609                   0                   0                   0   \n",
       "\n",
       "       business_code_U013  \n",
       "0                       0  \n",
       "1                       0  \n",
       "2                       0  \n",
       "3                       0  \n",
       "4                       0  \n",
       "...                   ...  \n",
       "32605                   0  \n",
       "32606                   0  \n",
       "32607                   0  \n",
       "32608                   0  \n",
       "32609                   0  \n",
       "\n",
       "[31193 rows x 25 columns]"
      ]
     },
     "execution_count": 25,
     "metadata": {},
     "output_type": "execute_result"
    }
   ],
   "source": [
    "train_data1"
   ]
  },
  {
   "cell_type": "code",
   "execution_count": 26,
   "metadata": {},
   "outputs": [],
   "source": [
    "train_data1['document_create_date.1.year']=train_data1['document_create_date.1'].dt.year\n",
    "train_data1['document_create_date.1.month']=train_data1['document_create_date.1'].dt.month\n",
    "train_data1['document_create_date.1.Day']=train_data1['document_create_date.1'].dt.day"
   ]
  },
  {
   "cell_type": "code",
   "execution_count": 27,
   "metadata": {},
   "outputs": [
    {
     "data": {
      "text/plain": [
       "(31193, 28)"
      ]
     },
     "execution_count": 27,
     "metadata": {},
     "output_type": "execute_result"
    }
   ],
   "source": [
    "train_data1.shape"
   ]
  },
  {
   "cell_type": "code",
   "execution_count": 28,
   "metadata": {},
   "outputs": [],
   "source": [
    "train_data1['due_in_date.year']=train_data1['due_in_date'].dt.year\n",
    "train_data1['due_in_date.month']=train_data1['due_in_date'].dt.month\n",
    "train_data1['due_in_date.Day']=train_data1['due_in_date'].dt.day"
   ]
  },
  {
   "cell_type": "code",
   "execution_count": 29,
   "metadata": {},
   "outputs": [
    {
     "data": {
      "text/plain": [
       "(31193, 31)"
      ]
     },
     "execution_count": 29,
     "metadata": {},
     "output_type": "execute_result"
    }
   ],
   "source": [
    "train_data1.shape"
   ]
  },
  {
   "cell_type": "code",
   "execution_count": 30,
   "metadata": {},
   "outputs": [
    {
     "data": {
      "text/plain": [
       "USD    28671\n",
       "CAD     2522\n",
       "Name: invoice_currency, dtype: int64"
      ]
     },
     "execution_count": 30,
     "metadata": {},
     "output_type": "execute_result"
    }
   ],
   "source": [
    "train_data1['invoice_currency'].value_counts()"
   ]
  },
  {
   "cell_type": "code",
   "execution_count": 31,
   "metadata": {},
   "outputs": [],
   "source": [
    "train_data1[\"invoice_currency\"]=train_data1[\"invoice_currency\"].astype('category')"
   ]
  },
  {
   "cell_type": "code",
   "execution_count": 32,
   "metadata": {},
   "outputs": [],
   "source": [
    "train_data1[\"invoice_currency_labelencoded\"]=train_data1[\"invoice_currency\"].cat.codes"
   ]
  },
  {
   "cell_type": "code",
   "execution_count": 33,
   "metadata": {},
   "outputs": [
    {
     "data": {
      "text/plain": [
       "(31193, 32)"
      ]
     },
     "execution_count": 33,
     "metadata": {},
     "output_type": "execute_result"
    }
   ],
   "source": [
    "train_data1.shape\n",
    "#train_data1.head()"
   ]
  },
  {
   "cell_type": "code",
   "execution_count": 34,
   "metadata": {},
   "outputs": [
    {
     "data": {
      "text/plain": [
       "1    28671\n",
       "0     2522\n",
       "Name: invoice_currency_labelencoded, dtype: int64"
      ]
     },
     "execution_count": 34,
     "metadata": {},
     "output_type": "execute_result"
    }
   ],
   "source": [
    "train_data1[\"invoice_currency_labelencoded\"].value_counts()"
   ]
  },
  {
   "cell_type": "code",
   "execution_count": 35,
   "metadata": {},
   "outputs": [
    {
     "data": {
      "text/plain": [
       "NAA8    13110\n",
       "NAH4     8655\n",
       "CA10     2456\n",
       "NAC6     1122\n",
       "NAAX      772\n",
       "        ...  \n",
       "NATX        1\n",
       "NACE        1\n",
       "CAX2        1\n",
       "BR12        1\n",
       "NAWK        1\n",
       "Name: cust_payment_terms, Length: 66, dtype: int64"
      ]
     },
     "execution_count": 35,
     "metadata": {},
     "output_type": "execute_result"
    }
   ],
   "source": [
    "train_data1['cust_payment_terms'].value_counts()"
   ]
  },
  {
   "cell_type": "code",
   "execution_count": 36,
   "metadata": {},
   "outputs": [],
   "source": [
    "train_data1_mean=train_data1.groupby('cust_payment_terms').mean()\n",
    "#train_data1_mean"
   ]
  },
  {
   "cell_type": "code",
   "execution_count": 37,
   "metadata": {},
   "outputs": [
    {
     "data": {
      "text/plain": [
       "(66, 21)"
      ]
     },
     "execution_count": 37,
     "metadata": {},
     "output_type": "execute_result"
    }
   ],
   "source": [
    "#train_data1_mean\n",
    "train_data1_mean.shape"
   ]
  },
  {
   "cell_type": "code",
   "execution_count": 38,
   "metadata": {},
   "outputs": [
    {
     "data": {
      "text/plain": [
       "(31193, 32)"
      ]
     },
     "execution_count": 38,
     "metadata": {},
     "output_type": "execute_result"
    }
   ],
   "source": [
    "train_data1.shape"
   ]
  },
  {
   "cell_type": "code",
   "execution_count": 39,
   "metadata": {},
   "outputs": [
    {
     "data": {
      "text/plain": [
       "count     31193\n",
       "unique       66\n",
       "top        NAA8\n",
       "freq      13110\n",
       "Name: cust_payment_terms, dtype: object"
      ]
     },
     "execution_count": 39,
     "metadata": {},
     "output_type": "execute_result"
    }
   ],
   "source": [
    "train_data1['cust_payment_terms'].describe()"
   ]
  },
  {
   "cell_type": "code",
   "execution_count": 40,
   "metadata": {},
   "outputs": [
    {
     "data": {
      "text/html": [
       "<div>\n",
       "<style scoped>\n",
       "    .dataframe tbody tr th:only-of-type {\n",
       "        vertical-align: middle;\n",
       "    }\n",
       "\n",
       "    .dataframe tbody tr th {\n",
       "        vertical-align: top;\n",
       "    }\n",
       "\n",
       "    .dataframe thead th {\n",
       "        text-align: right;\n",
       "    }\n",
       "</style>\n",
       "<table border=\"1\" class=\"dataframe\">\n",
       "  <thead>\n",
       "    <tr style=\"text-align: right;\">\n",
       "      <th></th>\n",
       "      <th>cust_payment_terms</th>\n",
       "      <th>Delay</th>\n",
       "    </tr>\n",
       "  </thead>\n",
       "  <tbody>\n",
       "    <tr>\n",
       "      <th>0</th>\n",
       "      <td>NAAW</td>\n",
       "      <td>-1.0</td>\n",
       "    </tr>\n",
       "    <tr>\n",
       "      <th>1</th>\n",
       "      <td>CA10</td>\n",
       "      <td>-4.0</td>\n",
       "    </tr>\n",
       "    <tr>\n",
       "      <th>2</th>\n",
       "      <td>NAA8</td>\n",
       "      <td>0.0</td>\n",
       "    </tr>\n",
       "    <tr>\n",
       "      <th>3</th>\n",
       "      <td>NAA8</td>\n",
       "      <td>3.0</td>\n",
       "    </tr>\n",
       "    <tr>\n",
       "      <th>4</th>\n",
       "      <td>NAH4</td>\n",
       "      <td>-3.0</td>\n",
       "    </tr>\n",
       "    <tr>\n",
       "      <th>...</th>\n",
       "      <td>...</td>\n",
       "      <td>...</td>\n",
       "    </tr>\n",
       "    <tr>\n",
       "      <th>32605</th>\n",
       "      <td>NAA8</td>\n",
       "      <td>0.0</td>\n",
       "    </tr>\n",
       "    <tr>\n",
       "      <th>32606</th>\n",
       "      <td>NAX2</td>\n",
       "      <td>34.0</td>\n",
       "    </tr>\n",
       "    <tr>\n",
       "      <th>32607</th>\n",
       "      <td>NAH4</td>\n",
       "      <td>-3.0</td>\n",
       "    </tr>\n",
       "    <tr>\n",
       "      <th>32608</th>\n",
       "      <td>NAAX</td>\n",
       "      <td>-1.0</td>\n",
       "    </tr>\n",
       "    <tr>\n",
       "      <th>32609</th>\n",
       "      <td>NAA8</td>\n",
       "      <td>0.0</td>\n",
       "    </tr>\n",
       "  </tbody>\n",
       "</table>\n",
       "<p>31193 rows × 2 columns</p>\n",
       "</div>"
      ],
      "text/plain": [
       "      cust_payment_terms  Delay\n",
       "0                   NAAW   -1.0\n",
       "1                   CA10   -4.0\n",
       "2                   NAA8    0.0\n",
       "3                   NAA8    3.0\n",
       "4                   NAH4   -3.0\n",
       "...                  ...    ...\n",
       "32605               NAA8    0.0\n",
       "32606               NAX2   34.0\n",
       "32607               NAH4   -3.0\n",
       "32608               NAAX   -1.0\n",
       "32609               NAA8    0.0\n",
       "\n",
       "[31193 rows x 2 columns]"
      ]
     },
     "execution_count": 40,
     "metadata": {},
     "output_type": "execute_result"
    }
   ],
   "source": [
    "train_data1[['cust_payment_terms','Delay']]"
   ]
  },
  {
   "cell_type": "code",
   "execution_count": 41,
   "metadata": {},
   "outputs": [],
   "source": [
    "x=train_data1.groupby(['cust_payment_terms'])['Delay'].mean().to_dict()"
   ]
  },
  {
   "cell_type": "code",
   "execution_count": 42,
   "metadata": {},
   "outputs": [],
   "source": [
    "#x"
   ]
  },
  {
   "cell_type": "code",
   "execution_count": 43,
   "metadata": {},
   "outputs": [],
   "source": [
    "train_data1['cust_payment_terms_tencoded']=train_data1['cust_payment_terms'].map(x)"
   ]
  },
  {
   "cell_type": "code",
   "execution_count": 44,
   "metadata": {},
   "outputs": [
    {
     "data": {
      "text/plain": [
       "(31193, 33)"
      ]
     },
     "execution_count": 44,
     "metadata": {},
     "output_type": "execute_result"
    }
   ],
   "source": [
    "train_data1.shape"
   ]
  },
  {
   "cell_type": "code",
   "execution_count": 45,
   "metadata": {},
   "outputs": [
    {
     "data": {
      "text/plain": [
       "0        -1.0\n",
       "1        -4.0\n",
       "2         0.0\n",
       "3         3.0\n",
       "4        -3.0\n",
       "         ... \n",
       "32605     0.0\n",
       "32606    34.0\n",
       "32607    -3.0\n",
       "32608    -1.0\n",
       "32609     0.0\n",
       "Name: Delay, Length: 31193, dtype: float64"
      ]
     },
     "execution_count": 45,
     "metadata": {},
     "output_type": "execute_result"
    }
   ],
   "source": [
    "\n",
    "\n",
    "train_data1['Delay']"
   ]
  },
  {
   "cell_type": "code",
   "execution_count": 46,
   "metadata": {},
   "outputs": [],
   "source": [
    "train_data1.drop(['cust_number','name_customer','invoice_currency','document type','cust_payment_terms','clear_date','posting_date','document_create_date','document_create_date.1','due_in_date','baseline_create_date'],axis=1,inplace=True)"
   ]
  },
  {
   "cell_type": "code",
   "execution_count": 47,
   "metadata": {},
   "outputs": [
    {
     "data": {
      "text/plain": [
       "(31193, 22)"
      ]
     },
     "execution_count": 47,
     "metadata": {},
     "output_type": "execute_result"
    }
   ],
   "source": [
    "train_data1.shape"
   ]
  },
  {
   "cell_type": "code",
   "execution_count": 48,
   "metadata": {},
   "outputs": [
    {
     "data": {
      "text/plain": [
       "VarianceThreshold(threshold=0)"
      ]
     },
     "execution_count": 48,
     "metadata": {},
     "output_type": "execute_result"
    }
   ],
   "source": [
    "constant_filter1=VarianceThreshold(threshold=0)\n",
    "constant_filter1.fit(train_data1)"
   ]
  },
  {
   "cell_type": "code",
   "execution_count": 49,
   "metadata": {},
   "outputs": [
    {
     "data": {
      "text/plain": [
       "19"
      ]
     },
     "execution_count": 49,
     "metadata": {},
     "output_type": "execute_result"
    }
   ],
   "source": [
    "constant_filter1.get_support().sum()"
   ]
  },
  {
   "cell_type": "code",
   "execution_count": 50,
   "metadata": {},
   "outputs": [
    {
     "name": "stdout",
     "output_type": "stream",
     "text": [
      "['posting_id', 'area_business', 'isOpen']\n"
     ]
    }
   ],
   "source": [
    "constant_columns = [column for column in train_data1.columns\n",
    "                    if column not in train_data1.columns[constant_filter1.get_support()]]\n",
    "\n",
    "print((constant_columns))"
   ]
  },
  {
   "cell_type": "code",
   "execution_count": 51,
   "metadata": {},
   "outputs": [],
   "source": [
    "quasi_constant_filter1=VarianceThreshold(threshold=0.01)"
   ]
  },
  {
   "cell_type": "code",
   "execution_count": 52,
   "metadata": {},
   "outputs": [
    {
     "data": {
      "text/plain": [
       "VarianceThreshold(threshold=0.01)"
      ]
     },
     "execution_count": 52,
     "metadata": {},
     "output_type": "execute_result"
    }
   ],
   "source": [
    "quasi_constant_filter1.fit(train_data1)"
   ]
  },
  {
   "cell_type": "code",
   "execution_count": 53,
   "metadata": {},
   "outputs": [
    {
     "data": {
      "text/plain": [
       "16"
      ]
     },
     "execution_count": 53,
     "metadata": {},
     "output_type": "execute_result"
    }
   ],
   "source": [
    "quasi_constant_filter1.get_support().sum()"
   ]
  },
  {
   "cell_type": "code",
   "execution_count": 54,
   "metadata": {},
   "outputs": [
    {
     "name": "stdout",
     "output_type": "stream",
     "text": [
      "['posting_id', 'area_business', 'isOpen', 'business_code_U002', 'business_code_U005', 'business_code_U007']\n"
     ]
    }
   ],
   "source": [
    "constant_columns = [column for column in train_data1.columns\n",
    "                    if column not in train_data1.columns[quasi_constant_filter1.get_support()]]\n",
    "\n",
    "print((constant_columns))"
   ]
  },
  {
   "cell_type": "code",
   "execution_count": 55,
   "metadata": {},
   "outputs": [],
   "source": [
    "train_data1.drop(['posting_id','area_business','isOpen','business_code_U002','business_code_U005', 'business_code_U007'],axis=1,inplace=True)"
   ]
  },
  {
   "cell_type": "code",
   "execution_count": 56,
   "metadata": {},
   "outputs": [],
   "source": [
    "X_train_T=train_data1.T"
   ]
  },
  {
   "cell_type": "code",
   "execution_count": 57,
   "metadata": {},
   "outputs": [
    {
     "data": {
      "text/plain": [
       "(16, 31193)"
      ]
     },
     "execution_count": 57,
     "metadata": {},
     "output_type": "execute_result"
    }
   ],
   "source": [
    "X_train_T.shape"
   ]
  },
  {
   "cell_type": "code",
   "execution_count": 58,
   "metadata": {},
   "outputs": [],
   "source": [
    "X_train_T=pd.DataFrame(X_train_T)"
   ]
  },
  {
   "cell_type": "code",
   "execution_count": 59,
   "metadata": {},
   "outputs": [
    {
     "data": {
      "text/plain": [
       "1"
      ]
     },
     "execution_count": 59,
     "metadata": {},
     "output_type": "execute_result"
    }
   ],
   "source": [
    "X_train_T.duplicated().sum()"
   ]
  },
  {
   "cell_type": "code",
   "execution_count": 60,
   "metadata": {},
   "outputs": [
    {
     "data": {
      "text/plain": [
       "buisness_year                    False\n",
       "doc_id                           False\n",
       "total_open_amount                False\n",
       "invoice_id                        True\n",
       "Delay                            False\n",
       "business_code_CA02               False\n",
       "business_code_U001               False\n",
       "business_code_U013               False\n",
       "document_create_date.1.year      False\n",
       "document_create_date.1.month     False\n",
       "document_create_date.1.Day       False\n",
       "due_in_date.year                 False\n",
       "due_in_date.month                False\n",
       "due_in_date.Day                  False\n",
       "invoice_currency_labelencoded    False\n",
       "cust_payment_terms_tencoded      False\n",
       "dtype: bool"
      ]
     },
     "execution_count": 60,
     "metadata": {},
     "output_type": "execute_result"
    }
   ],
   "source": [
    "duplicated_feature1=X_train_T.duplicated()\n",
    "duplicated_feature1"
   ]
  },
  {
   "cell_type": "code",
   "execution_count": 61,
   "metadata": {},
   "outputs": [],
   "source": [
    "features_to_keep1=[not index for index in duplicated_feature1]"
   ]
  },
  {
   "cell_type": "code",
   "execution_count": 62,
   "metadata": {},
   "outputs": [],
   "source": [
    "X_train_unique=X_train_T[features_to_keep1].T"
   ]
  },
  {
   "cell_type": "code",
   "execution_count": 63,
   "metadata": {},
   "outputs": [
    {
     "data": {
      "text/plain": [
       "(31193, 15)"
      ]
     },
     "execution_count": 63,
     "metadata": {},
     "output_type": "execute_result"
    }
   ],
   "source": [
    "X_train_unique.shape"
   ]
  },
  {
   "cell_type": "code",
   "execution_count": 64,
   "metadata": {},
   "outputs": [],
   "source": [
    "train_data1=X_train_unique"
   ]
  },
  {
   "cell_type": "code",
   "execution_count": 65,
   "metadata": {},
   "outputs": [
    {
     "data": {
      "text/html": [
       "<div>\n",
       "<style scoped>\n",
       "    .dataframe tbody tr th:only-of-type {\n",
       "        vertical-align: middle;\n",
       "    }\n",
       "\n",
       "    .dataframe tbody tr th {\n",
       "        vertical-align: top;\n",
       "    }\n",
       "\n",
       "    .dataframe thead th {\n",
       "        text-align: right;\n",
       "    }\n",
       "</style>\n",
       "<table border=\"1\" class=\"dataframe\">\n",
       "  <thead>\n",
       "    <tr style=\"text-align: right;\">\n",
       "      <th></th>\n",
       "      <th>buisness_year</th>\n",
       "      <th>doc_id</th>\n",
       "      <th>total_open_amount</th>\n",
       "      <th>Delay</th>\n",
       "      <th>business_code_CA02</th>\n",
       "      <th>business_code_U001</th>\n",
       "      <th>business_code_U013</th>\n",
       "      <th>document_create_date.1.year</th>\n",
       "      <th>document_create_date.1.month</th>\n",
       "      <th>document_create_date.1.Day</th>\n",
       "      <th>due_in_date.year</th>\n",
       "      <th>due_in_date.month</th>\n",
       "      <th>due_in_date.Day</th>\n",
       "      <th>invoice_currency_labelencoded</th>\n",
       "      <th>cust_payment_terms_tencoded</th>\n",
       "    </tr>\n",
       "  </thead>\n",
       "  <tbody>\n",
       "    <tr>\n",
       "      <th>0</th>\n",
       "      <td>2020.0</td>\n",
       "      <td>1.930523e+09</td>\n",
       "      <td>7786.44</td>\n",
       "      <td>-1.0</td>\n",
       "      <td>0.0</td>\n",
       "      <td>1.0</td>\n",
       "      <td>0.0</td>\n",
       "      <td>2020.0</td>\n",
       "      <td>2.0</td>\n",
       "      <td>12.0</td>\n",
       "      <td>2020.0</td>\n",
       "      <td>3.0</td>\n",
       "      <td>17.0</td>\n",
       "      <td>1.0</td>\n",
       "      <td>-15.150000</td>\n",
       "    </tr>\n",
       "    <tr>\n",
       "      <th>1</th>\n",
       "      <td>2020.0</td>\n",
       "      <td>2.960613e+09</td>\n",
       "      <td>36987.58</td>\n",
       "      <td>-4.0</td>\n",
       "      <td>1.0</td>\n",
       "      <td>0.0</td>\n",
       "      <td>0.0</td>\n",
       "      <td>2020.0</td>\n",
       "      <td>2.0</td>\n",
       "      <td>7.0</td>\n",
       "      <td>2020.0</td>\n",
       "      <td>2.0</td>\n",
       "      <td>21.0</td>\n",
       "      <td>0.0</td>\n",
       "      <td>5.545603</td>\n",
       "    </tr>\n",
       "    <tr>\n",
       "      <th>2</th>\n",
       "      <td>2019.0</td>\n",
       "      <td>1.929645e+09</td>\n",
       "      <td>71807.69</td>\n",
       "      <td>0.0</td>\n",
       "      <td>0.0</td>\n",
       "      <td>1.0</td>\n",
       "      <td>0.0</td>\n",
       "      <td>2019.0</td>\n",
       "      <td>7.0</td>\n",
       "      <td>22.0</td>\n",
       "      <td>2019.0</td>\n",
       "      <td>8.0</td>\n",
       "      <td>6.0</td>\n",
       "      <td>1.0</td>\n",
       "      <td>1.329291</td>\n",
       "    </tr>\n",
       "    <tr>\n",
       "      <th>3</th>\n",
       "      <td>2019.0</td>\n",
       "      <td>1.930124e+09</td>\n",
       "      <td>2575.46</td>\n",
       "      <td>3.0</td>\n",
       "      <td>0.0</td>\n",
       "      <td>1.0</td>\n",
       "      <td>0.0</td>\n",
       "      <td>2019.0</td>\n",
       "      <td>11.0</td>\n",
       "      <td>8.0</td>\n",
       "      <td>2019.0</td>\n",
       "      <td>11.0</td>\n",
       "      <td>23.0</td>\n",
       "      <td>1.0</td>\n",
       "      <td>1.329291</td>\n",
       "    </tr>\n",
       "    <tr>\n",
       "      <th>4</th>\n",
       "      <td>2019.0</td>\n",
       "      <td>1.928649e+09</td>\n",
       "      <td>15576.52</td>\n",
       "      <td>-3.0</td>\n",
       "      <td>0.0</td>\n",
       "      <td>1.0</td>\n",
       "      <td>0.0</td>\n",
       "      <td>2019.0</td>\n",
       "      <td>1.0</td>\n",
       "      <td>20.0</td>\n",
       "      <td>2019.0</td>\n",
       "      <td>2.0</td>\n",
       "      <td>4.0</td>\n",
       "      <td>1.0</td>\n",
       "      <td>-1.887464</td>\n",
       "    </tr>\n",
       "    <tr>\n",
       "      <th>...</th>\n",
       "      <td>...</td>\n",
       "      <td>...</td>\n",
       "      <td>...</td>\n",
       "      <td>...</td>\n",
       "      <td>...</td>\n",
       "      <td>...</td>\n",
       "      <td>...</td>\n",
       "      <td>...</td>\n",
       "      <td>...</td>\n",
       "      <td>...</td>\n",
       "      <td>...</td>\n",
       "      <td>...</td>\n",
       "      <td>...</td>\n",
       "      <td>...</td>\n",
       "      <td>...</td>\n",
       "    </tr>\n",
       "    <tr>\n",
       "      <th>32605</th>\n",
       "      <td>2019.0</td>\n",
       "      <td>1.929535e+09</td>\n",
       "      <td>11300.18</td>\n",
       "      <td>0.0</td>\n",
       "      <td>0.0</td>\n",
       "      <td>1.0</td>\n",
       "      <td>0.0</td>\n",
       "      <td>2019.0</td>\n",
       "      <td>6.0</td>\n",
       "      <td>25.0</td>\n",
       "      <td>2019.0</td>\n",
       "      <td>7.0</td>\n",
       "      <td>10.0</td>\n",
       "      <td>1.0</td>\n",
       "      <td>1.329291</td>\n",
       "    </tr>\n",
       "    <tr>\n",
       "      <th>32606</th>\n",
       "      <td>2019.0</td>\n",
       "      <td>1.929039e+09</td>\n",
       "      <td>28341.16</td>\n",
       "      <td>34.0</td>\n",
       "      <td>0.0</td>\n",
       "      <td>1.0</td>\n",
       "      <td>0.0</td>\n",
       "      <td>2019.0</td>\n",
       "      <td>3.0</td>\n",
       "      <td>30.0</td>\n",
       "      <td>2019.0</td>\n",
       "      <td>3.0</td>\n",
       "      <td>30.0</td>\n",
       "      <td>1.0</td>\n",
       "      <td>43.228216</td>\n",
       "    </tr>\n",
       "    <tr>\n",
       "      <th>32607</th>\n",
       "      <td>2019.0</td>\n",
       "      <td>1.929760e+09</td>\n",
       "      <td>22310.99</td>\n",
       "      <td>-3.0</td>\n",
       "      <td>0.0</td>\n",
       "      <td>1.0</td>\n",
       "      <td>0.0</td>\n",
       "      <td>2019.0</td>\n",
       "      <td>8.0</td>\n",
       "      <td>23.0</td>\n",
       "      <td>2019.0</td>\n",
       "      <td>9.0</td>\n",
       "      <td>7.0</td>\n",
       "      <td>1.0</td>\n",
       "      <td>-1.887464</td>\n",
       "    </tr>\n",
       "    <tr>\n",
       "      <th>32608</th>\n",
       "      <td>2019.0</td>\n",
       "      <td>1.930211e+09</td>\n",
       "      <td>15791.62</td>\n",
       "      <td>-1.0</td>\n",
       "      <td>0.0</td>\n",
       "      <td>1.0</td>\n",
       "      <td>0.0</td>\n",
       "      <td>2019.0</td>\n",
       "      <td>12.0</td>\n",
       "      <td>5.0</td>\n",
       "      <td>2019.0</td>\n",
       "      <td>12.0</td>\n",
       "      <td>20.0</td>\n",
       "      <td>1.0</td>\n",
       "      <td>0.527202</td>\n",
       "    </tr>\n",
       "    <tr>\n",
       "      <th>32609</th>\n",
       "      <td>2019.0</td>\n",
       "      <td>1.929859e+09</td>\n",
       "      <td>82572.76</td>\n",
       "      <td>0.0</td>\n",
       "      <td>0.0</td>\n",
       "      <td>1.0</td>\n",
       "      <td>0.0</td>\n",
       "      <td>2019.0</td>\n",
       "      <td>9.0</td>\n",
       "      <td>10.0</td>\n",
       "      <td>2019.0</td>\n",
       "      <td>9.0</td>\n",
       "      <td>25.0</td>\n",
       "      <td>1.0</td>\n",
       "      <td>1.329291</td>\n",
       "    </tr>\n",
       "  </tbody>\n",
       "</table>\n",
       "<p>31193 rows × 15 columns</p>\n",
       "</div>"
      ],
      "text/plain": [
       "       buisness_year        doc_id  total_open_amount  Delay  \\\n",
       "0             2020.0  1.930523e+09            7786.44   -1.0   \n",
       "1             2020.0  2.960613e+09           36987.58   -4.0   \n",
       "2             2019.0  1.929645e+09           71807.69    0.0   \n",
       "3             2019.0  1.930124e+09            2575.46    3.0   \n",
       "4             2019.0  1.928649e+09           15576.52   -3.0   \n",
       "...              ...           ...                ...    ...   \n",
       "32605         2019.0  1.929535e+09           11300.18    0.0   \n",
       "32606         2019.0  1.929039e+09           28341.16   34.0   \n",
       "32607         2019.0  1.929760e+09           22310.99   -3.0   \n",
       "32608         2019.0  1.930211e+09           15791.62   -1.0   \n",
       "32609         2019.0  1.929859e+09           82572.76    0.0   \n",
       "\n",
       "       business_code_CA02  business_code_U001  business_code_U013  \\\n",
       "0                     0.0                 1.0                 0.0   \n",
       "1                     1.0                 0.0                 0.0   \n",
       "2                     0.0                 1.0                 0.0   \n",
       "3                     0.0                 1.0                 0.0   \n",
       "4                     0.0                 1.0                 0.0   \n",
       "...                   ...                 ...                 ...   \n",
       "32605                 0.0                 1.0                 0.0   \n",
       "32606                 0.0                 1.0                 0.0   \n",
       "32607                 0.0                 1.0                 0.0   \n",
       "32608                 0.0                 1.0                 0.0   \n",
       "32609                 0.0                 1.0                 0.0   \n",
       "\n",
       "       document_create_date.1.year  document_create_date.1.month  \\\n",
       "0                           2020.0                           2.0   \n",
       "1                           2020.0                           2.0   \n",
       "2                           2019.0                           7.0   \n",
       "3                           2019.0                          11.0   \n",
       "4                           2019.0                           1.0   \n",
       "...                            ...                           ...   \n",
       "32605                       2019.0                           6.0   \n",
       "32606                       2019.0                           3.0   \n",
       "32607                       2019.0                           8.0   \n",
       "32608                       2019.0                          12.0   \n",
       "32609                       2019.0                           9.0   \n",
       "\n",
       "       document_create_date.1.Day  due_in_date.year  due_in_date.month  \\\n",
       "0                            12.0            2020.0                3.0   \n",
       "1                             7.0            2020.0                2.0   \n",
       "2                            22.0            2019.0                8.0   \n",
       "3                             8.0            2019.0               11.0   \n",
       "4                            20.0            2019.0                2.0   \n",
       "...                           ...               ...                ...   \n",
       "32605                        25.0            2019.0                7.0   \n",
       "32606                        30.0            2019.0                3.0   \n",
       "32607                        23.0            2019.0                9.0   \n",
       "32608                         5.0            2019.0               12.0   \n",
       "32609                        10.0            2019.0                9.0   \n",
       "\n",
       "       due_in_date.Day  invoice_currency_labelencoded  \\\n",
       "0                 17.0                            1.0   \n",
       "1                 21.0                            0.0   \n",
       "2                  6.0                            1.0   \n",
       "3                 23.0                            1.0   \n",
       "4                  4.0                            1.0   \n",
       "...                ...                            ...   \n",
       "32605             10.0                            1.0   \n",
       "32606             30.0                            1.0   \n",
       "32607              7.0                            1.0   \n",
       "32608             20.0                            1.0   \n",
       "32609             25.0                            1.0   \n",
       "\n",
       "       cust_payment_terms_tencoded  \n",
       "0                       -15.150000  \n",
       "1                         5.545603  \n",
       "2                         1.329291  \n",
       "3                         1.329291  \n",
       "4                        -1.887464  \n",
       "...                            ...  \n",
       "32605                     1.329291  \n",
       "32606                    43.228216  \n",
       "32607                    -1.887464  \n",
       "32608                     0.527202  \n",
       "32609                     1.329291  \n",
       "\n",
       "[31193 rows x 15 columns]"
      ]
     },
     "execution_count": 65,
     "metadata": {},
     "output_type": "execute_result"
    }
   ],
   "source": [
    "train_data1"
   ]
  },
  {
   "cell_type": "code",
   "execution_count": 66,
   "metadata": {},
   "outputs": [
    {
     "name": "stdout",
     "output_type": "stream",
     "text": [
      "<class 'pandas.core.frame.DataFrame'>\n",
      "Int64Index: 31193 entries, 0 to 32609\n",
      "Data columns (total 15 columns):\n",
      " #   Column                         Non-Null Count  Dtype  \n",
      "---  ------                         --------------  -----  \n",
      " 0   buisness_year                  31193 non-null  float64\n",
      " 1   doc_id                         31193 non-null  float64\n",
      " 2   total_open_amount              31193 non-null  float64\n",
      " 3   Delay                          31193 non-null  float64\n",
      " 4   business_code_CA02             31193 non-null  float64\n",
      " 5   business_code_U001             31193 non-null  float64\n",
      " 6   business_code_U013             31193 non-null  float64\n",
      " 7   document_create_date.1.year    31193 non-null  float64\n",
      " 8   document_create_date.1.month   31193 non-null  float64\n",
      " 9   document_create_date.1.Day     31193 non-null  float64\n",
      " 10  due_in_date.year               31193 non-null  float64\n",
      " 11  due_in_date.month              31193 non-null  float64\n",
      " 12  due_in_date.Day                31193 non-null  float64\n",
      " 13  invoice_currency_labelencoded  31193 non-null  float64\n",
      " 14  cust_payment_terms_tencoded    31193 non-null  float64\n",
      "dtypes: float64(15)\n",
      "memory usage: 4.8 MB\n"
     ]
    }
   ],
   "source": [
    "train_data1.info()"
   ]
  },
  {
   "cell_type": "code",
   "execution_count": null,
   "metadata": {},
   "outputs": [],
   "source": []
  },
  {
   "cell_type": "code",
   "execution_count": null,
   "metadata": {},
   "outputs": [],
   "source": []
  },
  {
   "cell_type": "code",
   "execution_count": null,
   "metadata": {},
   "outputs": [],
   "source": []
  },
  {
   "cell_type": "code",
   "execution_count": null,
   "metadata": {},
   "outputs": [],
   "source": []
  },
  {
   "cell_type": "code",
   "execution_count": null,
   "metadata": {},
   "outputs": [],
   "source": []
  },
  {
   "cell_type": "code",
   "execution_count": null,
   "metadata": {},
   "outputs": [],
   "source": []
  },
  {
   "cell_type": "code",
   "execution_count": null,
   "metadata": {},
   "outputs": [],
   "source": []
  },
  {
   "cell_type": "code",
   "execution_count": null,
   "metadata": {},
   "outputs": [],
   "source": []
  },
  {
   "cell_type": "code",
   "execution_count": null,
   "metadata": {},
   "outputs": [],
   "source": []
  },
  {
   "cell_type": "code",
   "execution_count": 67,
   "metadata": {},
   "outputs": [
    {
     "data": {
      "text/plain": [
       "(13977, 20)"
      ]
     },
     "execution_count": 67,
     "metadata": {},
     "output_type": "execute_result"
    }
   ],
   "source": [
    "val.sort_values(by='document_create_date.1',ascending=True).shape"
   ]
  },
  {
   "cell_type": "code",
   "execution_count": 68,
   "metadata": {},
   "outputs": [
    {
     "data": {
      "text/plain": [
       "business_code                 6\n",
       "cust_number                 955\n",
       "name_customer              2406\n",
       "clear_date                  357\n",
       "buisness_year                 2\n",
       "doc_id                    13977\n",
       "posting_date                420\n",
       "document_create_date        422\n",
       "document_create_date.1      420\n",
       "due_in_date                 471\n",
       "invoice_currency              2\n",
       "document type                 1\n",
       "posting_id                    1\n",
       "area_business                 0\n",
       "total_open_amount         13215\n",
       "baseline_create_date        423\n",
       "cust_payment_terms           59\n",
       "invoice_id                13977\n",
       "isOpen                        1\n",
       "Delay                       146\n",
       "dtype: int64"
      ]
     },
     "execution_count": 68,
     "metadata": {},
     "output_type": "execute_result"
    }
   ],
   "source": [
    "val.nunique()"
   ]
  },
  {
   "cell_type": "code",
   "execution_count": 69,
   "metadata": {},
   "outputs": [],
   "source": [
    "val=val[val['document_create_date.1']<=val['posting_date']]"
   ]
  },
  {
   "cell_type": "code",
   "execution_count": 70,
   "metadata": {},
   "outputs": [
    {
     "data": {
      "text/plain": [
       "(13977, 20)"
      ]
     },
     "execution_count": 70,
     "metadata": {},
     "output_type": "execute_result"
    }
   ],
   "source": [
    "val.shape"
   ]
  },
  {
   "cell_type": "code",
   "execution_count": 71,
   "metadata": {},
   "outputs": [],
   "source": [
    "val=val[val['document_create_date.1']<=val['baseline_create_date']]\n",
    "val=val[val['document_create_date.1']<=val['due_in_date']]\n",
    "val=val[val['document_create_date.1']<=val['clear_date']]\n",
    "val=val[val['posting_date']<=val['baseline_create_date']]\n",
    "val=val[val['posting_date']<=val['due_in_date']]\n",
    "val=val[val['posting_date']<=val['clear_date']]\n",
    "val=val[val['baseline_create_date']<=val['due_in_date']]\n",
    "val=val[val['baseline_create_date']<=val['clear_date']]"
   ]
  },
  {
   "cell_type": "code",
   "execution_count": 72,
   "metadata": {},
   "outputs": [
    {
     "data": {
      "text/plain": [
       "(13333, 20)"
      ]
     },
     "execution_count": 72,
     "metadata": {},
     "output_type": "execute_result"
    }
   ],
   "source": [
    "val.shape"
   ]
  },
  {
   "cell_type": "code",
   "execution_count": 73,
   "metadata": {},
   "outputs": [],
   "source": [
    "val=val[((val['due_in_date']<=val['clear_date'])&(val['Delay']>=0))|((val['due_in_date']>val['clear_date'])&(val['Delay']<=0))]"
   ]
  },
  {
   "cell_type": "code",
   "execution_count": 74,
   "metadata": {},
   "outputs": [
    {
     "data": {
      "text/plain": [
       "(13333, 20)"
      ]
     },
     "execution_count": 74,
     "metadata": {},
     "output_type": "execute_result"
    }
   ],
   "source": [
    "val.shape"
   ]
  },
  {
   "cell_type": "code",
   "execution_count": 75,
   "metadata": {},
   "outputs": [
    {
     "data": {
      "text/plain": [
       "business_code                     object\n",
       "cust_number                       object\n",
       "name_customer                     object\n",
       "clear_date                datetime64[ns]\n",
       "buisness_year                    float64\n",
       "doc_id                           float64\n",
       "posting_date              datetime64[ns]\n",
       "document_create_date      datetime64[ns]\n",
       "document_create_date.1    datetime64[ns]\n",
       "due_in_date               datetime64[ns]\n",
       "invoice_currency                  object\n",
       "document type                     object\n",
       "posting_id                       float64\n",
       "area_business                    float64\n",
       "total_open_amount                float64\n",
       "baseline_create_date      datetime64[ns]\n",
       "cust_payment_terms                object\n",
       "invoice_id                       float64\n",
       "isOpen                             int64\n",
       "Delay                            float64\n",
       "dtype: object"
      ]
     },
     "execution_count": 75,
     "metadata": {},
     "output_type": "execute_result"
    }
   ],
   "source": [
    "val.dtypes"
   ]
  },
  {
   "cell_type": "code",
   "execution_count": 76,
   "metadata": {},
   "outputs": [
    {
     "data": {
      "text/html": [
       "<div>\n",
       "<style scoped>\n",
       "    .dataframe tbody tr th:only-of-type {\n",
       "        vertical-align: middle;\n",
       "    }\n",
       "\n",
       "    .dataframe tbody tr th {\n",
       "        vertical-align: top;\n",
       "    }\n",
       "\n",
       "    .dataframe thead th {\n",
       "        text-align: right;\n",
       "    }\n",
       "</style>\n",
       "<table border=\"1\" class=\"dataframe\">\n",
       "  <thead>\n",
       "    <tr style=\"text-align: right;\">\n",
       "      <th></th>\n",
       "      <th>business_code</th>\n",
       "      <th>cust_number</th>\n",
       "      <th>name_customer</th>\n",
       "      <th>clear_date</th>\n",
       "      <th>buisness_year</th>\n",
       "      <th>doc_id</th>\n",
       "      <th>posting_date</th>\n",
       "      <th>document_create_date</th>\n",
       "      <th>document_create_date.1</th>\n",
       "      <th>due_in_date</th>\n",
       "      <th>invoice_currency</th>\n",
       "      <th>document type</th>\n",
       "      <th>posting_id</th>\n",
       "      <th>area_business</th>\n",
       "      <th>total_open_amount</th>\n",
       "      <th>baseline_create_date</th>\n",
       "      <th>cust_payment_terms</th>\n",
       "      <th>invoice_id</th>\n",
       "      <th>isOpen</th>\n",
       "      <th>Delay</th>\n",
       "    </tr>\n",
       "  </thead>\n",
       "  <tbody>\n",
       "    <tr>\n",
       "      <th>32610</th>\n",
       "      <td>U001</td>\n",
       "      <td>0200769623</td>\n",
       "      <td>WAL-MAR</td>\n",
       "      <td>2020-02-28</td>\n",
       "      <td>2020.0</td>\n",
       "      <td>1.930517e+09</td>\n",
       "      <td>2020-02-12</td>\n",
       "      <td>2020-02-12</td>\n",
       "      <td>2020-02-12</td>\n",
       "      <td>2020-02-27</td>\n",
       "      <td>USD</td>\n",
       "      <td>RV</td>\n",
       "      <td>1.0</td>\n",
       "      <td>NaN</td>\n",
       "      <td>6899.20</td>\n",
       "      <td>2020-02-12</td>\n",
       "      <td>NAH4</td>\n",
       "      <td>1.930517e+09</td>\n",
       "      <td>0</td>\n",
       "      <td>1.0</td>\n",
       "    </tr>\n",
       "    <tr>\n",
       "      <th>32611</th>\n",
       "      <td>U001</td>\n",
       "      <td>0200769623</td>\n",
       "      <td>WAL-MAR in</td>\n",
       "      <td>2019-12-09</td>\n",
       "      <td>2019.0</td>\n",
       "      <td>1.930198e+09</td>\n",
       "      <td>2019-11-28</td>\n",
       "      <td>2019-11-27</td>\n",
       "      <td>2019-11-28</td>\n",
       "      <td>2019-12-13</td>\n",
       "      <td>USD</td>\n",
       "      <td>RV</td>\n",
       "      <td>1.0</td>\n",
       "      <td>NaN</td>\n",
       "      <td>1897.50</td>\n",
       "      <td>2019-11-28</td>\n",
       "      <td>NAH4</td>\n",
       "      <td>1.930198e+09</td>\n",
       "      <td>0</td>\n",
       "      <td>-4.0</td>\n",
       "    </tr>\n",
       "    <tr>\n",
       "      <th>32612</th>\n",
       "      <td>U001</td>\n",
       "      <td>0200210681</td>\n",
       "      <td>HUB</td>\n",
       "      <td>2019-09-11</td>\n",
       "      <td>2019.0</td>\n",
       "      <td>1.929774e+09</td>\n",
       "      <td>2019-08-23</td>\n",
       "      <td>2019-08-22</td>\n",
       "      <td>2019-08-23</td>\n",
       "      <td>2019-09-12</td>\n",
       "      <td>USD</td>\n",
       "      <td>RV</td>\n",
       "      <td>1.0</td>\n",
       "      <td>NaN</td>\n",
       "      <td>13479.51</td>\n",
       "      <td>2019-08-23</td>\n",
       "      <td>NAD1</td>\n",
       "      <td>1.929774e+09</td>\n",
       "      <td>0</td>\n",
       "      <td>-1.0</td>\n",
       "    </tr>\n",
       "    <tr>\n",
       "      <th>32613</th>\n",
       "      <td>U001</td>\n",
       "      <td>0200729942</td>\n",
       "      <td>SA llc</td>\n",
       "      <td>2019-03-18</td>\n",
       "      <td>2019.0</td>\n",
       "      <td>1.928857e+09</td>\n",
       "      <td>2019-02-25</td>\n",
       "      <td>2019-02-25</td>\n",
       "      <td>2019-02-25</td>\n",
       "      <td>2019-03-12</td>\n",
       "      <td>USD</td>\n",
       "      <td>RV</td>\n",
       "      <td>1.0</td>\n",
       "      <td>NaN</td>\n",
       "      <td>9508.41</td>\n",
       "      <td>2019-02-25</td>\n",
       "      <td>NAA8</td>\n",
       "      <td>1.928857e+09</td>\n",
       "      <td>0</td>\n",
       "      <td>6.0</td>\n",
       "    </tr>\n",
       "    <tr>\n",
       "      <th>32615</th>\n",
       "      <td>U001</td>\n",
       "      <td>0200726979</td>\n",
       "      <td>BJ'S  in</td>\n",
       "      <td>2019-02-19</td>\n",
       "      <td>2019.0</td>\n",
       "      <td>1.928727e+09</td>\n",
       "      <td>2019-02-02</td>\n",
       "      <td>2019-02-02</td>\n",
       "      <td>2019-02-02</td>\n",
       "      <td>2019-02-17</td>\n",
       "      <td>USD</td>\n",
       "      <td>RV</td>\n",
       "      <td>1.0</td>\n",
       "      <td>NaN</td>\n",
       "      <td>1831.09</td>\n",
       "      <td>2019-02-02</td>\n",
       "      <td>NAA8</td>\n",
       "      <td>1.928727e+09</td>\n",
       "      <td>0</td>\n",
       "      <td>2.0</td>\n",
       "    </tr>\n",
       "    <tr>\n",
       "      <th>...</th>\n",
       "      <td>...</td>\n",
       "      <td>...</td>\n",
       "      <td>...</td>\n",
       "      <td>...</td>\n",
       "      <td>...</td>\n",
       "      <td>...</td>\n",
       "      <td>...</td>\n",
       "      <td>...</td>\n",
       "      <td>...</td>\n",
       "      <td>...</td>\n",
       "      <td>...</td>\n",
       "      <td>...</td>\n",
       "      <td>...</td>\n",
       "      <td>...</td>\n",
       "      <td>...</td>\n",
       "      <td>...</td>\n",
       "      <td>...</td>\n",
       "      <td>...</td>\n",
       "      <td>...</td>\n",
       "      <td>...</td>\n",
       "    </tr>\n",
       "    <tr>\n",
       "      <th>46582</th>\n",
       "      <td>U001</td>\n",
       "      <td>0200759878</td>\n",
       "      <td>SA</td>\n",
       "      <td>2019-06-04</td>\n",
       "      <td>2019.0</td>\n",
       "      <td>1.929343e+09</td>\n",
       "      <td>2019-05-18</td>\n",
       "      <td>2019-05-18</td>\n",
       "      <td>2019-05-18</td>\n",
       "      <td>2019-06-02</td>\n",
       "      <td>USD</td>\n",
       "      <td>RV</td>\n",
       "      <td>1.0</td>\n",
       "      <td>NaN</td>\n",
       "      <td>39747.01</td>\n",
       "      <td>2019-05-18</td>\n",
       "      <td>NAH4</td>\n",
       "      <td>1.929343e+09</td>\n",
       "      <td>0</td>\n",
       "      <td>2.0</td>\n",
       "    </tr>\n",
       "    <tr>\n",
       "      <th>46583</th>\n",
       "      <td>CA02</td>\n",
       "      <td>0140104440</td>\n",
       "      <td>SO co</td>\n",
       "      <td>2019-04-03</td>\n",
       "      <td>2019.0</td>\n",
       "      <td>2.960536e+09</td>\n",
       "      <td>2019-03-17</td>\n",
       "      <td>2019-03-17</td>\n",
       "      <td>2019-03-17</td>\n",
       "      <td>2019-03-29</td>\n",
       "      <td>CAD</td>\n",
       "      <td>RV</td>\n",
       "      <td>1.0</td>\n",
       "      <td>NaN</td>\n",
       "      <td>19996.62</td>\n",
       "      <td>2019-03-19</td>\n",
       "      <td>CA10</td>\n",
       "      <td>2.960536e+09</td>\n",
       "      <td>0</td>\n",
       "      <td>5.0</td>\n",
       "    </tr>\n",
       "    <tr>\n",
       "      <th>46584</th>\n",
       "      <td>U001</td>\n",
       "      <td>0200486270</td>\n",
       "      <td>BAR corp</td>\n",
       "      <td>2019-12-18</td>\n",
       "      <td>2019.0</td>\n",
       "      <td>1.930196e+09</td>\n",
       "      <td>2019-12-03</td>\n",
       "      <td>2019-12-02</td>\n",
       "      <td>2019-12-03</td>\n",
       "      <td>2019-12-18</td>\n",
       "      <td>USD</td>\n",
       "      <td>RV</td>\n",
       "      <td>1.0</td>\n",
       "      <td>NaN</td>\n",
       "      <td>2678.97</td>\n",
       "      <td>2019-12-03</td>\n",
       "      <td>NAA8</td>\n",
       "      <td>1.930196e+09</td>\n",
       "      <td>0</td>\n",
       "      <td>0.0</td>\n",
       "    </tr>\n",
       "    <tr>\n",
       "      <th>46585</th>\n",
       "      <td>U001</td>\n",
       "      <td>0200886415</td>\n",
       "      <td>COSTCO systems</td>\n",
       "      <td>2020-03-05</td>\n",
       "      <td>2020.0</td>\n",
       "      <td>1.930527e+09</td>\n",
       "      <td>2020-02-18</td>\n",
       "      <td>2020-02-14</td>\n",
       "      <td>2020-02-18</td>\n",
       "      <td>2020-03-04</td>\n",
       "      <td>USD</td>\n",
       "      <td>RV</td>\n",
       "      <td>1.0</td>\n",
       "      <td>NaN</td>\n",
       "      <td>17642.88</td>\n",
       "      <td>2020-02-18</td>\n",
       "      <td>NAA8</td>\n",
       "      <td>1.930527e+09</td>\n",
       "      <td>0</td>\n",
       "      <td>1.0</td>\n",
       "    </tr>\n",
       "    <tr>\n",
       "      <th>46586</th>\n",
       "      <td>U001</td>\n",
       "      <td>CCCA02</td>\n",
       "      <td>KRAFT</td>\n",
       "      <td>2019-12-20</td>\n",
       "      <td>2019.0</td>\n",
       "      <td>1.930183e+09</td>\n",
       "      <td>2019-11-22</td>\n",
       "      <td>2019-11-21</td>\n",
       "      <td>2019-11-22</td>\n",
       "      <td>2019-12-27</td>\n",
       "      <td>USD</td>\n",
       "      <td>RV</td>\n",
       "      <td>1.0</td>\n",
       "      <td>NaN</td>\n",
       "      <td>26847.00</td>\n",
       "      <td>2019-11-22</td>\n",
       "      <td>NAG2</td>\n",
       "      <td>1.930183e+09</td>\n",
       "      <td>0</td>\n",
       "      <td>-7.0</td>\n",
       "    </tr>\n",
       "  </tbody>\n",
       "</table>\n",
       "<p>13333 rows × 20 columns</p>\n",
       "</div>"
      ],
      "text/plain": [
       "      business_code cust_number   name_customer clear_date  buisness_year  \\\n",
       "32610          U001  0200769623        WAL-MAR  2020-02-28         2020.0   \n",
       "32611          U001  0200769623      WAL-MAR in 2019-12-09         2019.0   \n",
       "32612          U001  0200210681           HUB   2019-09-11         2019.0   \n",
       "32613          U001  0200729942          SA llc 2019-03-18         2019.0   \n",
       "32615          U001  0200726979        BJ'S  in 2019-02-19         2019.0   \n",
       "...             ...         ...             ...        ...            ...   \n",
       "46582          U001  0200759878             SA  2019-06-04         2019.0   \n",
       "46583          CA02  0140104440           SO co 2019-04-03         2019.0   \n",
       "46584          U001  0200486270        BAR corp 2019-12-18         2019.0   \n",
       "46585          U001  0200886415  COSTCO systems 2020-03-05         2020.0   \n",
       "46586          U001      CCCA02         KRAFT   2019-12-20         2019.0   \n",
       "\n",
       "             doc_id posting_date document_create_date document_create_date.1  \\\n",
       "32610  1.930517e+09   2020-02-12           2020-02-12             2020-02-12   \n",
       "32611  1.930198e+09   2019-11-28           2019-11-27             2019-11-28   \n",
       "32612  1.929774e+09   2019-08-23           2019-08-22             2019-08-23   \n",
       "32613  1.928857e+09   2019-02-25           2019-02-25             2019-02-25   \n",
       "32615  1.928727e+09   2019-02-02           2019-02-02             2019-02-02   \n",
       "...             ...          ...                  ...                    ...   \n",
       "46582  1.929343e+09   2019-05-18           2019-05-18             2019-05-18   \n",
       "46583  2.960536e+09   2019-03-17           2019-03-17             2019-03-17   \n",
       "46584  1.930196e+09   2019-12-03           2019-12-02             2019-12-03   \n",
       "46585  1.930527e+09   2020-02-18           2020-02-14             2020-02-18   \n",
       "46586  1.930183e+09   2019-11-22           2019-11-21             2019-11-22   \n",
       "\n",
       "      due_in_date invoice_currency document type  posting_id  area_business  \\\n",
       "32610  2020-02-27              USD            RV         1.0            NaN   \n",
       "32611  2019-12-13              USD            RV         1.0            NaN   \n",
       "32612  2019-09-12              USD            RV         1.0            NaN   \n",
       "32613  2019-03-12              USD            RV         1.0            NaN   \n",
       "32615  2019-02-17              USD            RV         1.0            NaN   \n",
       "...           ...              ...           ...         ...            ...   \n",
       "46582  2019-06-02              USD            RV         1.0            NaN   \n",
       "46583  2019-03-29              CAD            RV         1.0            NaN   \n",
       "46584  2019-12-18              USD            RV         1.0            NaN   \n",
       "46585  2020-03-04              USD            RV         1.0            NaN   \n",
       "46586  2019-12-27              USD            RV         1.0            NaN   \n",
       "\n",
       "       total_open_amount baseline_create_date cust_payment_terms  \\\n",
       "32610            6899.20           2020-02-12               NAH4   \n",
       "32611            1897.50           2019-11-28               NAH4   \n",
       "32612           13479.51           2019-08-23               NAD1   \n",
       "32613            9508.41           2019-02-25               NAA8   \n",
       "32615            1831.09           2019-02-02               NAA8   \n",
       "...                  ...                  ...                ...   \n",
       "46582           39747.01           2019-05-18               NAH4   \n",
       "46583           19996.62           2019-03-19               CA10   \n",
       "46584            2678.97           2019-12-03               NAA8   \n",
       "46585           17642.88           2020-02-18               NAA8   \n",
       "46586           26847.00           2019-11-22               NAG2   \n",
       "\n",
       "         invoice_id  isOpen  Delay  \n",
       "32610  1.930517e+09       0    1.0  \n",
       "32611  1.930198e+09       0   -4.0  \n",
       "32612  1.929774e+09       0   -1.0  \n",
       "32613  1.928857e+09       0    6.0  \n",
       "32615  1.928727e+09       0    2.0  \n",
       "...             ...     ...    ...  \n",
       "46582  1.929343e+09       0    2.0  \n",
       "46583  2.960536e+09       0    5.0  \n",
       "46584  1.930196e+09       0    0.0  \n",
       "46585  1.930527e+09       0    1.0  \n",
       "46586  1.930183e+09       0   -7.0  \n",
       "\n",
       "[13333 rows x 20 columns]"
      ]
     },
     "execution_count": 76,
     "metadata": {},
     "output_type": "execute_result"
    }
   ],
   "source": [
    "val[val.isnull().any(axis=1)]"
   ]
  },
  {
   "cell_type": "code",
   "execution_count": 77,
   "metadata": {},
   "outputs": [
    {
     "data": {
      "text/plain": [
       "U001    11963\n",
       "CA02     1151\n",
       "U013      171\n",
       "U002       45\n",
       "U005        2\n",
       "U007        1\n",
       "Name: business_code, dtype: int64"
      ]
     },
     "execution_count": 77,
     "metadata": {},
     "output_type": "execute_result"
    }
   ],
   "source": [
    "val['business_code'].value_counts()"
   ]
  },
  {
   "cell_type": "code",
   "execution_count": 78,
   "metadata": {},
   "outputs": [
    {
     "data": {
      "text/plain": [
       "U001    11963\n",
       "CA02     1151\n",
       "U013      171\n",
       "U002       45\n",
       "U005        2\n",
       "U007        1\n",
       "Name: business_code, dtype: int64"
      ]
     },
     "execution_count": 78,
     "metadata": {},
     "output_type": "execute_result"
    }
   ],
   "source": [
    "val['business_code'].value_counts()"
   ]
  },
  {
   "cell_type": "code",
   "execution_count": 79,
   "metadata": {},
   "outputs": [
    {
     "data": {
      "text/html": [
       "<div>\n",
       "<style scoped>\n",
       "    .dataframe tbody tr th:only-of-type {\n",
       "        vertical-align: middle;\n",
       "    }\n",
       "\n",
       "    .dataframe tbody tr th {\n",
       "        vertical-align: top;\n",
       "    }\n",
       "\n",
       "    .dataframe thead th {\n",
       "        text-align: right;\n",
       "    }\n",
       "</style>\n",
       "<table border=\"1\" class=\"dataframe\">\n",
       "  <thead>\n",
       "    <tr style=\"text-align: right;\">\n",
       "      <th></th>\n",
       "      <th>business_code</th>\n",
       "      <th>cust_number</th>\n",
       "      <th>name_customer</th>\n",
       "      <th>clear_date</th>\n",
       "      <th>buisness_year</th>\n",
       "      <th>doc_id</th>\n",
       "      <th>posting_date</th>\n",
       "      <th>document_create_date</th>\n",
       "      <th>document_create_date.1</th>\n",
       "      <th>due_in_date</th>\n",
       "      <th>invoice_currency</th>\n",
       "      <th>document type</th>\n",
       "      <th>posting_id</th>\n",
       "      <th>area_business</th>\n",
       "      <th>total_open_amount</th>\n",
       "      <th>baseline_create_date</th>\n",
       "      <th>cust_payment_terms</th>\n",
       "      <th>invoice_id</th>\n",
       "      <th>isOpen</th>\n",
       "      <th>Delay</th>\n",
       "    </tr>\n",
       "  </thead>\n",
       "  <tbody>\n",
       "    <tr>\n",
       "      <th>39689</th>\n",
       "      <td>U007</td>\n",
       "      <td>0100024767</td>\n",
       "      <td>GREEN</td>\n",
       "      <td>2019-08-23</td>\n",
       "      <td>2019.0</td>\n",
       "      <td>1.929724e+09</td>\n",
       "      <td>2019-08-08</td>\n",
       "      <td>2019-08-08</td>\n",
       "      <td>2019-08-08</td>\n",
       "      <td>2019-09-12</td>\n",
       "      <td>USD</td>\n",
       "      <td>RV</td>\n",
       "      <td>1.0</td>\n",
       "      <td>NaN</td>\n",
       "      <td>641.04</td>\n",
       "      <td>2019-08-08</td>\n",
       "      <td>NAG2</td>\n",
       "      <td>1.929724e+09</td>\n",
       "      <td>0</td>\n",
       "      <td>-20.0</td>\n",
       "    </tr>\n",
       "  </tbody>\n",
       "</table>\n",
       "</div>"
      ],
      "text/plain": [
       "      business_code cust_number name_customer clear_date  buisness_year  \\\n",
       "39689          U007  0100024767       GREEN   2019-08-23         2019.0   \n",
       "\n",
       "             doc_id posting_date document_create_date document_create_date.1  \\\n",
       "39689  1.929724e+09   2019-08-08           2019-08-08             2019-08-08   \n",
       "\n",
       "      due_in_date invoice_currency document type  posting_id  area_business  \\\n",
       "39689  2019-09-12              USD            RV         1.0            NaN   \n",
       "\n",
       "       total_open_amount baseline_create_date cust_payment_terms  \\\n",
       "39689             641.04           2019-08-08               NAG2   \n",
       "\n",
       "         invoice_id  isOpen  Delay  \n",
       "39689  1.929724e+09       0  -20.0  "
      ]
     },
     "execution_count": 79,
     "metadata": {},
     "output_type": "execute_result"
    }
   ],
   "source": [
    "val[val['business_code']=='U007']"
   ]
  },
  {
   "cell_type": "code",
   "execution_count": 80,
   "metadata": {},
   "outputs": [],
   "source": [
    "val=pd.get_dummies(val,columns=[\"business_code\"])"
   ]
  },
  {
   "cell_type": "code",
   "execution_count": 81,
   "metadata": {},
   "outputs": [
    {
     "data": {
      "text/plain": [
       "(13333, 25)"
      ]
     },
     "execution_count": 81,
     "metadata": {},
     "output_type": "execute_result"
    }
   ],
   "source": [
    "val.shape"
   ]
  },
  {
   "cell_type": "code",
   "execution_count": 82,
   "metadata": {},
   "outputs": [
    {
     "data": {
      "text/plain": [
       "0    13288\n",
       "1       45\n",
       "Name: business_code_U002, dtype: int64"
      ]
     },
     "execution_count": 82,
     "metadata": {},
     "output_type": "execute_result"
    }
   ],
   "source": [
    "val['business_code_U002'].value_counts()"
   ]
  },
  {
   "cell_type": "code",
   "execution_count": 83,
   "metadata": {},
   "outputs": [
    {
     "data": {
      "text/html": [
       "<div>\n",
       "<style scoped>\n",
       "    .dataframe tbody tr th:only-of-type {\n",
       "        vertical-align: middle;\n",
       "    }\n",
       "\n",
       "    .dataframe tbody tr th {\n",
       "        vertical-align: top;\n",
       "    }\n",
       "\n",
       "    .dataframe thead th {\n",
       "        text-align: right;\n",
       "    }\n",
       "</style>\n",
       "<table border=\"1\" class=\"dataframe\">\n",
       "  <thead>\n",
       "    <tr style=\"text-align: right;\">\n",
       "      <th></th>\n",
       "      <th>cust_number</th>\n",
       "      <th>name_customer</th>\n",
       "      <th>clear_date</th>\n",
       "      <th>buisness_year</th>\n",
       "      <th>doc_id</th>\n",
       "      <th>posting_date</th>\n",
       "      <th>document_create_date</th>\n",
       "      <th>document_create_date.1</th>\n",
       "      <th>due_in_date</th>\n",
       "      <th>invoice_currency</th>\n",
       "      <th>...</th>\n",
       "      <th>cust_payment_terms</th>\n",
       "      <th>invoice_id</th>\n",
       "      <th>isOpen</th>\n",
       "      <th>Delay</th>\n",
       "      <th>business_code_CA02</th>\n",
       "      <th>business_code_U001</th>\n",
       "      <th>business_code_U002</th>\n",
       "      <th>business_code_U005</th>\n",
       "      <th>business_code_U007</th>\n",
       "      <th>business_code_U013</th>\n",
       "    </tr>\n",
       "  </thead>\n",
       "  <tbody>\n",
       "    <tr>\n",
       "      <th>32610</th>\n",
       "      <td>0200769623</td>\n",
       "      <td>WAL-MAR</td>\n",
       "      <td>2020-02-28</td>\n",
       "      <td>2020.0</td>\n",
       "      <td>1.930517e+09</td>\n",
       "      <td>2020-02-12</td>\n",
       "      <td>2020-02-12</td>\n",
       "      <td>2020-02-12</td>\n",
       "      <td>2020-02-27</td>\n",
       "      <td>USD</td>\n",
       "      <td>...</td>\n",
       "      <td>NAH4</td>\n",
       "      <td>1.930517e+09</td>\n",
       "      <td>0</td>\n",
       "      <td>1.0</td>\n",
       "      <td>0</td>\n",
       "      <td>1</td>\n",
       "      <td>0</td>\n",
       "      <td>0</td>\n",
       "      <td>0</td>\n",
       "      <td>0</td>\n",
       "    </tr>\n",
       "    <tr>\n",
       "      <th>32611</th>\n",
       "      <td>0200769623</td>\n",
       "      <td>WAL-MAR in</td>\n",
       "      <td>2019-12-09</td>\n",
       "      <td>2019.0</td>\n",
       "      <td>1.930198e+09</td>\n",
       "      <td>2019-11-28</td>\n",
       "      <td>2019-11-27</td>\n",
       "      <td>2019-11-28</td>\n",
       "      <td>2019-12-13</td>\n",
       "      <td>USD</td>\n",
       "      <td>...</td>\n",
       "      <td>NAH4</td>\n",
       "      <td>1.930198e+09</td>\n",
       "      <td>0</td>\n",
       "      <td>-4.0</td>\n",
       "      <td>0</td>\n",
       "      <td>1</td>\n",
       "      <td>0</td>\n",
       "      <td>0</td>\n",
       "      <td>0</td>\n",
       "      <td>0</td>\n",
       "    </tr>\n",
       "    <tr>\n",
       "      <th>32612</th>\n",
       "      <td>0200210681</td>\n",
       "      <td>HUB</td>\n",
       "      <td>2019-09-11</td>\n",
       "      <td>2019.0</td>\n",
       "      <td>1.929774e+09</td>\n",
       "      <td>2019-08-23</td>\n",
       "      <td>2019-08-22</td>\n",
       "      <td>2019-08-23</td>\n",
       "      <td>2019-09-12</td>\n",
       "      <td>USD</td>\n",
       "      <td>...</td>\n",
       "      <td>NAD1</td>\n",
       "      <td>1.929774e+09</td>\n",
       "      <td>0</td>\n",
       "      <td>-1.0</td>\n",
       "      <td>0</td>\n",
       "      <td>1</td>\n",
       "      <td>0</td>\n",
       "      <td>0</td>\n",
       "      <td>0</td>\n",
       "      <td>0</td>\n",
       "    </tr>\n",
       "    <tr>\n",
       "      <th>32613</th>\n",
       "      <td>0200729942</td>\n",
       "      <td>SA llc</td>\n",
       "      <td>2019-03-18</td>\n",
       "      <td>2019.0</td>\n",
       "      <td>1.928857e+09</td>\n",
       "      <td>2019-02-25</td>\n",
       "      <td>2019-02-25</td>\n",
       "      <td>2019-02-25</td>\n",
       "      <td>2019-03-12</td>\n",
       "      <td>USD</td>\n",
       "      <td>...</td>\n",
       "      <td>NAA8</td>\n",
       "      <td>1.928857e+09</td>\n",
       "      <td>0</td>\n",
       "      <td>6.0</td>\n",
       "      <td>0</td>\n",
       "      <td>1</td>\n",
       "      <td>0</td>\n",
       "      <td>0</td>\n",
       "      <td>0</td>\n",
       "      <td>0</td>\n",
       "    </tr>\n",
       "    <tr>\n",
       "      <th>32615</th>\n",
       "      <td>0200726979</td>\n",
       "      <td>BJ'S  in</td>\n",
       "      <td>2019-02-19</td>\n",
       "      <td>2019.0</td>\n",
       "      <td>1.928727e+09</td>\n",
       "      <td>2019-02-02</td>\n",
       "      <td>2019-02-02</td>\n",
       "      <td>2019-02-02</td>\n",
       "      <td>2019-02-17</td>\n",
       "      <td>USD</td>\n",
       "      <td>...</td>\n",
       "      <td>NAA8</td>\n",
       "      <td>1.928727e+09</td>\n",
       "      <td>0</td>\n",
       "      <td>2.0</td>\n",
       "      <td>0</td>\n",
       "      <td>1</td>\n",
       "      <td>0</td>\n",
       "      <td>0</td>\n",
       "      <td>0</td>\n",
       "      <td>0</td>\n",
       "    </tr>\n",
       "    <tr>\n",
       "      <th>...</th>\n",
       "      <td>...</td>\n",
       "      <td>...</td>\n",
       "      <td>...</td>\n",
       "      <td>...</td>\n",
       "      <td>...</td>\n",
       "      <td>...</td>\n",
       "      <td>...</td>\n",
       "      <td>...</td>\n",
       "      <td>...</td>\n",
       "      <td>...</td>\n",
       "      <td>...</td>\n",
       "      <td>...</td>\n",
       "      <td>...</td>\n",
       "      <td>...</td>\n",
       "      <td>...</td>\n",
       "      <td>...</td>\n",
       "      <td>...</td>\n",
       "      <td>...</td>\n",
       "      <td>...</td>\n",
       "      <td>...</td>\n",
       "      <td>...</td>\n",
       "    </tr>\n",
       "    <tr>\n",
       "      <th>46582</th>\n",
       "      <td>0200759878</td>\n",
       "      <td>SA</td>\n",
       "      <td>2019-06-04</td>\n",
       "      <td>2019.0</td>\n",
       "      <td>1.929343e+09</td>\n",
       "      <td>2019-05-18</td>\n",
       "      <td>2019-05-18</td>\n",
       "      <td>2019-05-18</td>\n",
       "      <td>2019-06-02</td>\n",
       "      <td>USD</td>\n",
       "      <td>...</td>\n",
       "      <td>NAH4</td>\n",
       "      <td>1.929343e+09</td>\n",
       "      <td>0</td>\n",
       "      <td>2.0</td>\n",
       "      <td>0</td>\n",
       "      <td>1</td>\n",
       "      <td>0</td>\n",
       "      <td>0</td>\n",
       "      <td>0</td>\n",
       "      <td>0</td>\n",
       "    </tr>\n",
       "    <tr>\n",
       "      <th>46583</th>\n",
       "      <td>0140104440</td>\n",
       "      <td>SO co</td>\n",
       "      <td>2019-04-03</td>\n",
       "      <td>2019.0</td>\n",
       "      <td>2.960536e+09</td>\n",
       "      <td>2019-03-17</td>\n",
       "      <td>2019-03-17</td>\n",
       "      <td>2019-03-17</td>\n",
       "      <td>2019-03-29</td>\n",
       "      <td>CAD</td>\n",
       "      <td>...</td>\n",
       "      <td>CA10</td>\n",
       "      <td>2.960536e+09</td>\n",
       "      <td>0</td>\n",
       "      <td>5.0</td>\n",
       "      <td>1</td>\n",
       "      <td>0</td>\n",
       "      <td>0</td>\n",
       "      <td>0</td>\n",
       "      <td>0</td>\n",
       "      <td>0</td>\n",
       "    </tr>\n",
       "    <tr>\n",
       "      <th>46584</th>\n",
       "      <td>0200486270</td>\n",
       "      <td>BAR corp</td>\n",
       "      <td>2019-12-18</td>\n",
       "      <td>2019.0</td>\n",
       "      <td>1.930196e+09</td>\n",
       "      <td>2019-12-03</td>\n",
       "      <td>2019-12-02</td>\n",
       "      <td>2019-12-03</td>\n",
       "      <td>2019-12-18</td>\n",
       "      <td>USD</td>\n",
       "      <td>...</td>\n",
       "      <td>NAA8</td>\n",
       "      <td>1.930196e+09</td>\n",
       "      <td>0</td>\n",
       "      <td>0.0</td>\n",
       "      <td>0</td>\n",
       "      <td>1</td>\n",
       "      <td>0</td>\n",
       "      <td>0</td>\n",
       "      <td>0</td>\n",
       "      <td>0</td>\n",
       "    </tr>\n",
       "    <tr>\n",
       "      <th>46585</th>\n",
       "      <td>0200886415</td>\n",
       "      <td>COSTCO systems</td>\n",
       "      <td>2020-03-05</td>\n",
       "      <td>2020.0</td>\n",
       "      <td>1.930527e+09</td>\n",
       "      <td>2020-02-18</td>\n",
       "      <td>2020-02-14</td>\n",
       "      <td>2020-02-18</td>\n",
       "      <td>2020-03-04</td>\n",
       "      <td>USD</td>\n",
       "      <td>...</td>\n",
       "      <td>NAA8</td>\n",
       "      <td>1.930527e+09</td>\n",
       "      <td>0</td>\n",
       "      <td>1.0</td>\n",
       "      <td>0</td>\n",
       "      <td>1</td>\n",
       "      <td>0</td>\n",
       "      <td>0</td>\n",
       "      <td>0</td>\n",
       "      <td>0</td>\n",
       "    </tr>\n",
       "    <tr>\n",
       "      <th>46586</th>\n",
       "      <td>CCCA02</td>\n",
       "      <td>KRAFT</td>\n",
       "      <td>2019-12-20</td>\n",
       "      <td>2019.0</td>\n",
       "      <td>1.930183e+09</td>\n",
       "      <td>2019-11-22</td>\n",
       "      <td>2019-11-21</td>\n",
       "      <td>2019-11-22</td>\n",
       "      <td>2019-12-27</td>\n",
       "      <td>USD</td>\n",
       "      <td>...</td>\n",
       "      <td>NAG2</td>\n",
       "      <td>1.930183e+09</td>\n",
       "      <td>0</td>\n",
       "      <td>-7.0</td>\n",
       "      <td>0</td>\n",
       "      <td>1</td>\n",
       "      <td>0</td>\n",
       "      <td>0</td>\n",
       "      <td>0</td>\n",
       "      <td>0</td>\n",
       "    </tr>\n",
       "  </tbody>\n",
       "</table>\n",
       "<p>13333 rows × 25 columns</p>\n",
       "</div>"
      ],
      "text/plain": [
       "      cust_number   name_customer clear_date  buisness_year        doc_id  \\\n",
       "32610  0200769623        WAL-MAR  2020-02-28         2020.0  1.930517e+09   \n",
       "32611  0200769623      WAL-MAR in 2019-12-09         2019.0  1.930198e+09   \n",
       "32612  0200210681           HUB   2019-09-11         2019.0  1.929774e+09   \n",
       "32613  0200729942          SA llc 2019-03-18         2019.0  1.928857e+09   \n",
       "32615  0200726979        BJ'S  in 2019-02-19         2019.0  1.928727e+09   \n",
       "...           ...             ...        ...            ...           ...   \n",
       "46582  0200759878             SA  2019-06-04         2019.0  1.929343e+09   \n",
       "46583  0140104440           SO co 2019-04-03         2019.0  2.960536e+09   \n",
       "46584  0200486270        BAR corp 2019-12-18         2019.0  1.930196e+09   \n",
       "46585  0200886415  COSTCO systems 2020-03-05         2020.0  1.930527e+09   \n",
       "46586      CCCA02         KRAFT   2019-12-20         2019.0  1.930183e+09   \n",
       "\n",
       "      posting_date document_create_date document_create_date.1 due_in_date  \\\n",
       "32610   2020-02-12           2020-02-12             2020-02-12  2020-02-27   \n",
       "32611   2019-11-28           2019-11-27             2019-11-28  2019-12-13   \n",
       "32612   2019-08-23           2019-08-22             2019-08-23  2019-09-12   \n",
       "32613   2019-02-25           2019-02-25             2019-02-25  2019-03-12   \n",
       "32615   2019-02-02           2019-02-02             2019-02-02  2019-02-17   \n",
       "...            ...                  ...                    ...         ...   \n",
       "46582   2019-05-18           2019-05-18             2019-05-18  2019-06-02   \n",
       "46583   2019-03-17           2019-03-17             2019-03-17  2019-03-29   \n",
       "46584   2019-12-03           2019-12-02             2019-12-03  2019-12-18   \n",
       "46585   2020-02-18           2020-02-14             2020-02-18  2020-03-04   \n",
       "46586   2019-11-22           2019-11-21             2019-11-22  2019-12-27   \n",
       "\n",
       "      invoice_currency  ... cust_payment_terms    invoice_id  isOpen  Delay  \\\n",
       "32610              USD  ...               NAH4  1.930517e+09       0    1.0   \n",
       "32611              USD  ...               NAH4  1.930198e+09       0   -4.0   \n",
       "32612              USD  ...               NAD1  1.929774e+09       0   -1.0   \n",
       "32613              USD  ...               NAA8  1.928857e+09       0    6.0   \n",
       "32615              USD  ...               NAA8  1.928727e+09       0    2.0   \n",
       "...                ...  ...                ...           ...     ...    ...   \n",
       "46582              USD  ...               NAH4  1.929343e+09       0    2.0   \n",
       "46583              CAD  ...               CA10  2.960536e+09       0    5.0   \n",
       "46584              USD  ...               NAA8  1.930196e+09       0    0.0   \n",
       "46585              USD  ...               NAA8  1.930527e+09       0    1.0   \n",
       "46586              USD  ...               NAG2  1.930183e+09       0   -7.0   \n",
       "\n",
       "      business_code_CA02 business_code_U001  business_code_U002  \\\n",
       "32610                  0                  1                   0   \n",
       "32611                  0                  1                   0   \n",
       "32612                  0                  1                   0   \n",
       "32613                  0                  1                   0   \n",
       "32615                  0                  1                   0   \n",
       "...                  ...                ...                 ...   \n",
       "46582                  0                  1                   0   \n",
       "46583                  1                  0                   0   \n",
       "46584                  0                  1                   0   \n",
       "46585                  0                  1                   0   \n",
       "46586                  0                  1                   0   \n",
       "\n",
       "       business_code_U005  business_code_U007  business_code_U013  \n",
       "32610                   0                   0                   0  \n",
       "32611                   0                   0                   0  \n",
       "32612                   0                   0                   0  \n",
       "32613                   0                   0                   0  \n",
       "32615                   0                   0                   0  \n",
       "...                   ...                 ...                 ...  \n",
       "46582                   0                   0                   0  \n",
       "46583                   0                   0                   0  \n",
       "46584                   0                   0                   0  \n",
       "46585                   0                   0                   0  \n",
       "46586                   0                   0                   0  \n",
       "\n",
       "[13333 rows x 25 columns]"
      ]
     },
     "execution_count": 83,
     "metadata": {},
     "output_type": "execute_result"
    }
   ],
   "source": [
    "val"
   ]
  },
  {
   "cell_type": "code",
   "execution_count": 84,
   "metadata": {},
   "outputs": [
    {
     "data": {
      "text/plain": [
       "USD    12182\n",
       "CAD     1151\n",
       "Name: invoice_currency, dtype: int64"
      ]
     },
     "execution_count": 84,
     "metadata": {},
     "output_type": "execute_result"
    }
   ],
   "source": [
    "val['invoice_currency'].value_counts()"
   ]
  },
  {
   "cell_type": "code",
   "execution_count": 85,
   "metadata": {},
   "outputs": [],
   "source": [
    "val['document_create_date.1.year']=val['document_create_date.1'].dt.year\n",
    "val['document_create_date.1.month']=val['document_create_date.1'].dt.month\n",
    "val['document_create_date.1.Day']=val['document_create_date.1'].dt.day"
   ]
  },
  {
   "cell_type": "code",
   "execution_count": 86,
   "metadata": {},
   "outputs": [],
   "source": [
    "val['due_in_date.year']=val['due_in_date'].dt.year\n",
    "val['due_in_date.month']=val['due_in_date'].dt.month\n",
    "val['due_in_date.Day']=val['due_in_date'].dt.day"
   ]
  },
  {
   "cell_type": "code",
   "execution_count": 87,
   "metadata": {},
   "outputs": [
    {
     "data": {
      "text/plain": [
       "(13333, 31)"
      ]
     },
     "execution_count": 87,
     "metadata": {},
     "output_type": "execute_result"
    }
   ],
   "source": [
    "val.shape"
   ]
  },
  {
   "cell_type": "code",
   "execution_count": 88,
   "metadata": {},
   "outputs": [
    {
     "data": {
      "text/plain": [
       "USD    12182\n",
       "CAD     1151\n",
       "Name: invoice_currency, dtype: int64"
      ]
     },
     "execution_count": 88,
     "metadata": {},
     "output_type": "execute_result"
    }
   ],
   "source": [
    "val['invoice_currency'].value_counts()"
   ]
  },
  {
   "cell_type": "code",
   "execution_count": 89,
   "metadata": {},
   "outputs": [],
   "source": [
    "val[\"invoice_currency\"]=val[\"invoice_currency\"].astype('category')"
   ]
  },
  {
   "cell_type": "code",
   "execution_count": 90,
   "metadata": {},
   "outputs": [],
   "source": [
    "val[\"invoice_currency_labelencoded\"]=val[\"invoice_currency\"].cat.codes"
   ]
  },
  {
   "cell_type": "code",
   "execution_count": 91,
   "metadata": {},
   "outputs": [
    {
     "data": {
      "text/plain": [
       "(13333, 32)"
      ]
     },
     "execution_count": 91,
     "metadata": {},
     "output_type": "execute_result"
    }
   ],
   "source": [
    "val.shape"
   ]
  },
  {
   "cell_type": "code",
   "execution_count": 92,
   "metadata": {},
   "outputs": [
    {
     "data": {
      "text/plain": [
       "1    12182\n",
       "0     1151\n",
       "Name: invoice_currency_labelencoded, dtype: int64"
      ]
     },
     "execution_count": 92,
     "metadata": {},
     "output_type": "execute_result"
    }
   ],
   "source": [
    "val[\"invoice_currency_labelencoded\"].value_counts()"
   ]
  },
  {
   "cell_type": "code",
   "execution_count": 93,
   "metadata": {},
   "outputs": [
    {
     "data": {
      "text/plain": [
       "NAA8    5607\n",
       "NAH4    3680\n",
       "CA10    1124\n",
       "NAC6     487\n",
       "NAAX     345\n",
       "NAD1     278\n",
       "NAG2     275\n",
       "NAU5     239\n",
       "NA32     233\n",
       "NAGD     209\n",
       "NAX2     170\n",
       "NA10      93\n",
       "NAVE      83\n",
       "NAD5      79\n",
       "NAVF      68\n",
       "NAAW      53\n",
       "NAWU      43\n",
       "NAVQ      36\n",
       "NAVR      29\n",
       "NAWN      26\n",
       "NAWP      22\n",
       "NA3B      15\n",
       "NAVM      12\n",
       "CA30      11\n",
       "NAUZ      11\n",
       "NACB      10\n",
       "NAD4      10\n",
       "NABG      10\n",
       "NA38      10\n",
       "C106       6\n",
       "NAVD       6\n",
       "NAB1       5\n",
       "NA31       5\n",
       "NA84       4\n",
       "NA3F       4\n",
       "NA9X       3\n",
       "NAUI       3\n",
       "NAVL       3\n",
       "BR56       2\n",
       "NATU       2\n",
       "B052       2\n",
       "NA8Q       2\n",
       "CAX2       2\n",
       "CAB1       2\n",
       "BR12       2\n",
       "NATV       2\n",
       "NATJ       2\n",
       "NATL       1\n",
       "C129       1\n",
       "NAV2       1\n",
       "NAV9       1\n",
       "NAUP       1\n",
       "NATZ       1\n",
       "NAWM       1\n",
       "NANC       1\n",
       "Name: cust_payment_terms, dtype: int64"
      ]
     },
     "execution_count": 93,
     "metadata": {},
     "output_type": "execute_result"
    }
   ],
   "source": [
    "val['cust_payment_terms'].value_counts()"
   ]
  },
  {
   "cell_type": "code",
   "execution_count": 94,
   "metadata": {},
   "outputs": [],
   "source": [
    "val_mean=val.groupby('cust_payment_terms').mean()"
   ]
  },
  {
   "cell_type": "code",
   "execution_count": 95,
   "metadata": {},
   "outputs": [
    {
     "data": {
      "text/plain": [
       "(55, 21)"
      ]
     },
     "execution_count": 95,
     "metadata": {},
     "output_type": "execute_result"
    }
   ],
   "source": [
    "val_mean.shape"
   ]
  },
  {
   "cell_type": "code",
   "execution_count": 96,
   "metadata": {},
   "outputs": [
    {
     "data": {
      "text/plain": [
       "(13333, 32)"
      ]
     },
     "execution_count": 96,
     "metadata": {},
     "output_type": "execute_result"
    }
   ],
   "source": [
    "val.shape"
   ]
  },
  {
   "cell_type": "code",
   "execution_count": 97,
   "metadata": {},
   "outputs": [
    {
     "data": {
      "text/plain": [
       "count     13333\n",
       "unique       55\n",
       "top        NAA8\n",
       "freq       5607\n",
       "Name: cust_payment_terms, dtype: object"
      ]
     },
     "execution_count": 97,
     "metadata": {},
     "output_type": "execute_result"
    }
   ],
   "source": [
    "val['cust_payment_terms'].describe()"
   ]
  },
  {
   "cell_type": "code",
   "execution_count": 98,
   "metadata": {},
   "outputs": [
    {
     "data": {
      "text/html": [
       "<div>\n",
       "<style scoped>\n",
       "    .dataframe tbody tr th:only-of-type {\n",
       "        vertical-align: middle;\n",
       "    }\n",
       "\n",
       "    .dataframe tbody tr th {\n",
       "        vertical-align: top;\n",
       "    }\n",
       "\n",
       "    .dataframe thead th {\n",
       "        text-align: right;\n",
       "    }\n",
       "</style>\n",
       "<table border=\"1\" class=\"dataframe\">\n",
       "  <thead>\n",
       "    <tr style=\"text-align: right;\">\n",
       "      <th></th>\n",
       "      <th>cust_payment_terms</th>\n",
       "      <th>Delay</th>\n",
       "    </tr>\n",
       "  </thead>\n",
       "  <tbody>\n",
       "    <tr>\n",
       "      <th>32610</th>\n",
       "      <td>NAH4</td>\n",
       "      <td>1.0</td>\n",
       "    </tr>\n",
       "    <tr>\n",
       "      <th>32611</th>\n",
       "      <td>NAH4</td>\n",
       "      <td>-4.0</td>\n",
       "    </tr>\n",
       "    <tr>\n",
       "      <th>32612</th>\n",
       "      <td>NAD1</td>\n",
       "      <td>-1.0</td>\n",
       "    </tr>\n",
       "    <tr>\n",
       "      <th>32613</th>\n",
       "      <td>NAA8</td>\n",
       "      <td>6.0</td>\n",
       "    </tr>\n",
       "    <tr>\n",
       "      <th>32615</th>\n",
       "      <td>NAA8</td>\n",
       "      <td>2.0</td>\n",
       "    </tr>\n",
       "    <tr>\n",
       "      <th>...</th>\n",
       "      <td>...</td>\n",
       "      <td>...</td>\n",
       "    </tr>\n",
       "    <tr>\n",
       "      <th>46582</th>\n",
       "      <td>NAH4</td>\n",
       "      <td>2.0</td>\n",
       "    </tr>\n",
       "    <tr>\n",
       "      <th>46583</th>\n",
       "      <td>CA10</td>\n",
       "      <td>5.0</td>\n",
       "    </tr>\n",
       "    <tr>\n",
       "      <th>46584</th>\n",
       "      <td>NAA8</td>\n",
       "      <td>0.0</td>\n",
       "    </tr>\n",
       "    <tr>\n",
       "      <th>46585</th>\n",
       "      <td>NAA8</td>\n",
       "      <td>1.0</td>\n",
       "    </tr>\n",
       "    <tr>\n",
       "      <th>46586</th>\n",
       "      <td>NAG2</td>\n",
       "      <td>-7.0</td>\n",
       "    </tr>\n",
       "  </tbody>\n",
       "</table>\n",
       "<p>13333 rows × 2 columns</p>\n",
       "</div>"
      ],
      "text/plain": [
       "      cust_payment_terms  Delay\n",
       "32610               NAH4    1.0\n",
       "32611               NAH4   -4.0\n",
       "32612               NAD1   -1.0\n",
       "32613               NAA8    6.0\n",
       "32615               NAA8    2.0\n",
       "...                  ...    ...\n",
       "46582               NAH4    2.0\n",
       "46583               CA10    5.0\n",
       "46584               NAA8    0.0\n",
       "46585               NAA8    1.0\n",
       "46586               NAG2   -7.0\n",
       "\n",
       "[13333 rows x 2 columns]"
      ]
     },
     "execution_count": 98,
     "metadata": {},
     "output_type": "execute_result"
    }
   ],
   "source": [
    "val[['cust_payment_terms','Delay']]"
   ]
  },
  {
   "cell_type": "code",
   "execution_count": 99,
   "metadata": {},
   "outputs": [],
   "source": [
    "x1=val.groupby(['cust_payment_terms'])['Delay'].mean().to_dict()"
   ]
  },
  {
   "cell_type": "code",
   "execution_count": 100,
   "metadata": {},
   "outputs": [
    {
     "data": {
      "text/plain": [
       "{'B052': -5.0,\n",
       " 'BR12': 6.5,\n",
       " 'BR56': 4.5,\n",
       " 'C106': -1.3333333333333333,\n",
       " 'C129': -14.0,\n",
       " 'CA10': 5.8336298932384345,\n",
       " 'CA30': -12.818181818181818,\n",
       " 'CAB1': 2.5,\n",
       " 'CAX2': 89.0,\n",
       " 'NA10': 2.6881720430107525,\n",
       " 'NA31': -5.6,\n",
       " 'NA32': -3.570815450643777,\n",
       " 'NA38': 0.8,\n",
       " 'NA3B': -6.666666666666667,\n",
       " 'NA3F': 2.0,\n",
       " 'NA84': -4.25,\n",
       " 'NA8Q': 19.0,\n",
       " 'NA9X': -7.0,\n",
       " 'NAA8': 1.2200820403067594,\n",
       " 'NAAW': -16.30188679245283,\n",
       " 'NAAX': 0.008695652173913044,\n",
       " 'NAB1': 7.2,\n",
       " 'NABG': -2.1,\n",
       " 'NAC6': 0.7145790554414785,\n",
       " 'NACB': 5.0,\n",
       " 'NAD1': -0.14388489208633093,\n",
       " 'NAD4': 4.6,\n",
       " 'NAD5': 9.708860759493671,\n",
       " 'NAG2': 6.4363636363636365,\n",
       " 'NAGD': -13.430622009569378,\n",
       " 'NAH4': -1.9293478260869565,\n",
       " 'NANC': 3.0,\n",
       " 'NATJ': 1.0,\n",
       " 'NATL': 15.0,\n",
       " 'NATU': 1.0,\n",
       " 'NATV': 1.0,\n",
       " 'NATZ': 3.0,\n",
       " 'NAU5': 1.0711297071129706,\n",
       " 'NAUI': 40.333333333333336,\n",
       " 'NAUP': 1.0,\n",
       " 'NAUZ': 6.2727272727272725,\n",
       " 'NAV2': -74.0,\n",
       " 'NAV9': 33.0,\n",
       " 'NAVD': 4.666666666666667,\n",
       " 'NAVE': 1.963855421686747,\n",
       " 'NAVF': 15.911764705882353,\n",
       " 'NAVL': -9.333333333333334,\n",
       " 'NAVM': 6.0,\n",
       " 'NAVQ': 3.25,\n",
       " 'NAVR': -1.6206896551724137,\n",
       " 'NAWM': 4.0,\n",
       " 'NAWN': -1.1153846153846154,\n",
       " 'NAWP': -8.181818181818182,\n",
       " 'NAWU': -7.604651162790698,\n",
       " 'NAX2': 42.72352941176471}"
      ]
     },
     "execution_count": 100,
     "metadata": {},
     "output_type": "execute_result"
    }
   ],
   "source": [
    "x1"
   ]
  },
  {
   "cell_type": "code",
   "execution_count": 101,
   "metadata": {},
   "outputs": [],
   "source": [
    "val['cust_payment_terms_tencoded']=val['cust_payment_terms'].map(x1)"
   ]
  },
  {
   "cell_type": "code",
   "execution_count": 102,
   "metadata": {},
   "outputs": [
    {
     "data": {
      "text/plain": [
       "(13333, 33)"
      ]
     },
     "execution_count": 102,
     "metadata": {},
     "output_type": "execute_result"
    }
   ],
   "source": [
    "val.shape"
   ]
  },
  {
   "cell_type": "code",
   "execution_count": 103,
   "metadata": {},
   "outputs": [
    {
     "data": {
      "text/html": [
       "<div>\n",
       "<style scoped>\n",
       "    .dataframe tbody tr th:only-of-type {\n",
       "        vertical-align: middle;\n",
       "    }\n",
       "\n",
       "    .dataframe tbody tr th {\n",
       "        vertical-align: top;\n",
       "    }\n",
       "\n",
       "    .dataframe thead th {\n",
       "        text-align: right;\n",
       "    }\n",
       "</style>\n",
       "<table border=\"1\" class=\"dataframe\">\n",
       "  <thead>\n",
       "    <tr style=\"text-align: right;\">\n",
       "      <th></th>\n",
       "      <th>cust_number</th>\n",
       "      <th>name_customer</th>\n",
       "      <th>clear_date</th>\n",
       "      <th>buisness_year</th>\n",
       "      <th>doc_id</th>\n",
       "      <th>posting_date</th>\n",
       "      <th>document_create_date</th>\n",
       "      <th>document_create_date.1</th>\n",
       "      <th>due_in_date</th>\n",
       "      <th>invoice_currency</th>\n",
       "      <th>...</th>\n",
       "      <th>business_code_U007</th>\n",
       "      <th>business_code_U013</th>\n",
       "      <th>document_create_date.1.year</th>\n",
       "      <th>document_create_date.1.month</th>\n",
       "      <th>document_create_date.1.Day</th>\n",
       "      <th>due_in_date.year</th>\n",
       "      <th>due_in_date.month</th>\n",
       "      <th>due_in_date.Day</th>\n",
       "      <th>invoice_currency_labelencoded</th>\n",
       "      <th>cust_payment_terms_tencoded</th>\n",
       "    </tr>\n",
       "  </thead>\n",
       "  <tbody>\n",
       "    <tr>\n",
       "      <th>32610</th>\n",
       "      <td>0200769623</td>\n",
       "      <td>WAL-MAR</td>\n",
       "      <td>2020-02-28</td>\n",
       "      <td>2020.0</td>\n",
       "      <td>1.930517e+09</td>\n",
       "      <td>2020-02-12</td>\n",
       "      <td>2020-02-12</td>\n",
       "      <td>2020-02-12</td>\n",
       "      <td>2020-02-27</td>\n",
       "      <td>USD</td>\n",
       "      <td>...</td>\n",
       "      <td>0</td>\n",
       "      <td>0</td>\n",
       "      <td>2020</td>\n",
       "      <td>2</td>\n",
       "      <td>12</td>\n",
       "      <td>2020</td>\n",
       "      <td>2</td>\n",
       "      <td>27</td>\n",
       "      <td>1</td>\n",
       "      <td>-1.929348</td>\n",
       "    </tr>\n",
       "    <tr>\n",
       "      <th>32611</th>\n",
       "      <td>0200769623</td>\n",
       "      <td>WAL-MAR in</td>\n",
       "      <td>2019-12-09</td>\n",
       "      <td>2019.0</td>\n",
       "      <td>1.930198e+09</td>\n",
       "      <td>2019-11-28</td>\n",
       "      <td>2019-11-27</td>\n",
       "      <td>2019-11-28</td>\n",
       "      <td>2019-12-13</td>\n",
       "      <td>USD</td>\n",
       "      <td>...</td>\n",
       "      <td>0</td>\n",
       "      <td>0</td>\n",
       "      <td>2019</td>\n",
       "      <td>11</td>\n",
       "      <td>28</td>\n",
       "      <td>2019</td>\n",
       "      <td>12</td>\n",
       "      <td>13</td>\n",
       "      <td>1</td>\n",
       "      <td>-1.929348</td>\n",
       "    </tr>\n",
       "    <tr>\n",
       "      <th>32612</th>\n",
       "      <td>0200210681</td>\n",
       "      <td>HUB</td>\n",
       "      <td>2019-09-11</td>\n",
       "      <td>2019.0</td>\n",
       "      <td>1.929774e+09</td>\n",
       "      <td>2019-08-23</td>\n",
       "      <td>2019-08-22</td>\n",
       "      <td>2019-08-23</td>\n",
       "      <td>2019-09-12</td>\n",
       "      <td>USD</td>\n",
       "      <td>...</td>\n",
       "      <td>0</td>\n",
       "      <td>0</td>\n",
       "      <td>2019</td>\n",
       "      <td>8</td>\n",
       "      <td>23</td>\n",
       "      <td>2019</td>\n",
       "      <td>9</td>\n",
       "      <td>12</td>\n",
       "      <td>1</td>\n",
       "      <td>-0.143885</td>\n",
       "    </tr>\n",
       "    <tr>\n",
       "      <th>32613</th>\n",
       "      <td>0200729942</td>\n",
       "      <td>SA llc</td>\n",
       "      <td>2019-03-18</td>\n",
       "      <td>2019.0</td>\n",
       "      <td>1.928857e+09</td>\n",
       "      <td>2019-02-25</td>\n",
       "      <td>2019-02-25</td>\n",
       "      <td>2019-02-25</td>\n",
       "      <td>2019-03-12</td>\n",
       "      <td>USD</td>\n",
       "      <td>...</td>\n",
       "      <td>0</td>\n",
       "      <td>0</td>\n",
       "      <td>2019</td>\n",
       "      <td>2</td>\n",
       "      <td>25</td>\n",
       "      <td>2019</td>\n",
       "      <td>3</td>\n",
       "      <td>12</td>\n",
       "      <td>1</td>\n",
       "      <td>1.220082</td>\n",
       "    </tr>\n",
       "    <tr>\n",
       "      <th>32615</th>\n",
       "      <td>0200726979</td>\n",
       "      <td>BJ'S  in</td>\n",
       "      <td>2019-02-19</td>\n",
       "      <td>2019.0</td>\n",
       "      <td>1.928727e+09</td>\n",
       "      <td>2019-02-02</td>\n",
       "      <td>2019-02-02</td>\n",
       "      <td>2019-02-02</td>\n",
       "      <td>2019-02-17</td>\n",
       "      <td>USD</td>\n",
       "      <td>...</td>\n",
       "      <td>0</td>\n",
       "      <td>0</td>\n",
       "      <td>2019</td>\n",
       "      <td>2</td>\n",
       "      <td>2</td>\n",
       "      <td>2019</td>\n",
       "      <td>2</td>\n",
       "      <td>17</td>\n",
       "      <td>1</td>\n",
       "      <td>1.220082</td>\n",
       "    </tr>\n",
       "  </tbody>\n",
       "</table>\n",
       "<p>5 rows × 33 columns</p>\n",
       "</div>"
      ],
      "text/plain": [
       "      cust_number name_customer clear_date  buisness_year        doc_id  \\\n",
       "32610  0200769623      WAL-MAR  2020-02-28         2020.0  1.930517e+09   \n",
       "32611  0200769623    WAL-MAR in 2019-12-09         2019.0  1.930198e+09   \n",
       "32612  0200210681         HUB   2019-09-11         2019.0  1.929774e+09   \n",
       "32613  0200729942        SA llc 2019-03-18         2019.0  1.928857e+09   \n",
       "32615  0200726979      BJ'S  in 2019-02-19         2019.0  1.928727e+09   \n",
       "\n",
       "      posting_date document_create_date document_create_date.1 due_in_date  \\\n",
       "32610   2020-02-12           2020-02-12             2020-02-12  2020-02-27   \n",
       "32611   2019-11-28           2019-11-27             2019-11-28  2019-12-13   \n",
       "32612   2019-08-23           2019-08-22             2019-08-23  2019-09-12   \n",
       "32613   2019-02-25           2019-02-25             2019-02-25  2019-03-12   \n",
       "32615   2019-02-02           2019-02-02             2019-02-02  2019-02-17   \n",
       "\n",
       "      invoice_currency  ... business_code_U007  business_code_U013  \\\n",
       "32610              USD  ...                  0                   0   \n",
       "32611              USD  ...                  0                   0   \n",
       "32612              USD  ...                  0                   0   \n",
       "32613              USD  ...                  0                   0   \n",
       "32615              USD  ...                  0                   0   \n",
       "\n",
       "       document_create_date.1.year  document_create_date.1.month  \\\n",
       "32610                         2020                             2   \n",
       "32611                         2019                            11   \n",
       "32612                         2019                             8   \n",
       "32613                         2019                             2   \n",
       "32615                         2019                             2   \n",
       "\n",
       "      document_create_date.1.Day due_in_date.year  due_in_date.month  \\\n",
       "32610                         12             2020                  2   \n",
       "32611                         28             2019                 12   \n",
       "32612                         23             2019                  9   \n",
       "32613                         25             2019                  3   \n",
       "32615                          2             2019                  2   \n",
       "\n",
       "       due_in_date.Day  invoice_currency_labelencoded  \\\n",
       "32610               27                              1   \n",
       "32611               13                              1   \n",
       "32612               12                              1   \n",
       "32613               12                              1   \n",
       "32615               17                              1   \n",
       "\n",
       "       cust_payment_terms_tencoded  \n",
       "32610                    -1.929348  \n",
       "32611                    -1.929348  \n",
       "32612                    -0.143885  \n",
       "32613                     1.220082  \n",
       "32615                     1.220082  \n",
       "\n",
       "[5 rows x 33 columns]"
      ]
     },
     "execution_count": 103,
     "metadata": {},
     "output_type": "execute_result"
    }
   ],
   "source": [
    "val.head()"
   ]
  },
  {
   "cell_type": "code",
   "execution_count": 104,
   "metadata": {},
   "outputs": [],
   "source": [
    "val.drop(['cust_number','name_customer','invoice_currency','document type','cust_payment_terms','clear_date','posting_date','document_create_date','document_create_date.1','due_in_date','baseline_create_date'],axis=1,inplace=True)"
   ]
  },
  {
   "cell_type": "code",
   "execution_count": 105,
   "metadata": {},
   "outputs": [
    {
     "data": {
      "text/plain": [
       "(13333, 22)"
      ]
     },
     "execution_count": 105,
     "metadata": {},
     "output_type": "execute_result"
    }
   ],
   "source": [
    "val.shape"
   ]
  },
  {
   "cell_type": "code",
   "execution_count": 106,
   "metadata": {},
   "outputs": [
    {
     "data": {
      "text/plain": [
       "VarianceThreshold(threshold=0)"
      ]
     },
     "execution_count": 106,
     "metadata": {},
     "output_type": "execute_result"
    }
   ],
   "source": [
    "constant_filter2=VarianceThreshold(threshold=0)\n",
    "constant_filter2.fit(val)"
   ]
  },
  {
   "cell_type": "code",
   "execution_count": 107,
   "metadata": {},
   "outputs": [
    {
     "data": {
      "text/plain": [
       "19"
      ]
     },
     "execution_count": 107,
     "metadata": {},
     "output_type": "execute_result"
    }
   ],
   "source": [
    "constant_filter2.get_support().sum()"
   ]
  },
  {
   "cell_type": "code",
   "execution_count": 108,
   "metadata": {},
   "outputs": [
    {
     "name": "stdout",
     "output_type": "stream",
     "text": [
      "['posting_id', 'area_business', 'isOpen']\n"
     ]
    }
   ],
   "source": [
    "constant_columns = [column for column in val.columns\n",
    "                    if column not in val.columns[constant_filter2.get_support()]]\n",
    "\n",
    "print((constant_columns))"
   ]
  },
  {
   "cell_type": "code",
   "execution_count": 109,
   "metadata": {},
   "outputs": [],
   "source": [
    "quasi_constant_filter2=VarianceThreshold(threshold=0.01)"
   ]
  },
  {
   "cell_type": "code",
   "execution_count": 110,
   "metadata": {},
   "outputs": [
    {
     "data": {
      "text/plain": [
       "VarianceThreshold(threshold=0.01)"
      ]
     },
     "execution_count": 110,
     "metadata": {},
     "output_type": "execute_result"
    }
   ],
   "source": [
    "quasi_constant_filter2.fit(val)"
   ]
  },
  {
   "cell_type": "code",
   "execution_count": 111,
   "metadata": {},
   "outputs": [
    {
     "data": {
      "text/plain": [
       "16"
      ]
     },
     "execution_count": 111,
     "metadata": {},
     "output_type": "execute_result"
    }
   ],
   "source": [
    "quasi_constant_filter2.get_support().sum()"
   ]
  },
  {
   "cell_type": "code",
   "execution_count": 112,
   "metadata": {},
   "outputs": [
    {
     "name": "stdout",
     "output_type": "stream",
     "text": [
      "['posting_id', 'area_business', 'isOpen', 'business_code_U002', 'business_code_U005', 'business_code_U007']\n"
     ]
    }
   ],
   "source": [
    "constant_columns = [column for column in val.columns\n",
    "                    if column not in val.columns[quasi_constant_filter2.get_support()]]\n",
    "\n",
    "print((constant_columns))"
   ]
  },
  {
   "cell_type": "code",
   "execution_count": 113,
   "metadata": {},
   "outputs": [],
   "source": [
    "val.drop(['posting_id', 'area_business', 'isOpen', 'business_code_U002', 'business_code_U005', 'business_code_U007'],axis=1,inplace=True)"
   ]
  },
  {
   "cell_type": "code",
   "execution_count": 114,
   "metadata": {},
   "outputs": [
    {
     "name": "stdout",
     "output_type": "stream",
     "text": [
      "<class 'pandas.core.frame.DataFrame'>\n",
      "Int64Index: 13333 entries, 32610 to 46586\n",
      "Data columns (total 16 columns):\n",
      " #   Column                         Non-Null Count  Dtype  \n",
      "---  ------                         --------------  -----  \n",
      " 0   buisness_year                  13333 non-null  float64\n",
      " 1   doc_id                         13333 non-null  float64\n",
      " 2   total_open_amount              13333 non-null  float64\n",
      " 3   invoice_id                     13333 non-null  float64\n",
      " 4   Delay                          13333 non-null  float64\n",
      " 5   business_code_CA02             13333 non-null  uint8  \n",
      " 6   business_code_U001             13333 non-null  uint8  \n",
      " 7   business_code_U013             13333 non-null  uint8  \n",
      " 8   document_create_date.1.year    13333 non-null  int64  \n",
      " 9   document_create_date.1.month   13333 non-null  int64  \n",
      " 10  document_create_date.1.Day     13333 non-null  int64  \n",
      " 11  due_in_date.year               13333 non-null  int64  \n",
      " 12  due_in_date.month              13333 non-null  int64  \n",
      " 13  due_in_date.Day                13333 non-null  int64  \n",
      " 14  invoice_currency_labelencoded  13333 non-null  int8   \n",
      " 15  cust_payment_terms_tencoded    13333 non-null  float64\n",
      "dtypes: float64(6), int64(6), int8(1), uint8(3)\n",
      "memory usage: 1.4 MB\n"
     ]
    }
   ],
   "source": [
    "val.info()"
   ]
  },
  {
   "cell_type": "code",
   "execution_count": 115,
   "metadata": {},
   "outputs": [],
   "source": [
    "X_val_T=val.T"
   ]
  },
  {
   "cell_type": "code",
   "execution_count": 116,
   "metadata": {},
   "outputs": [
    {
     "data": {
      "text/plain": [
       "(16, 13333)"
      ]
     },
     "execution_count": 116,
     "metadata": {},
     "output_type": "execute_result"
    }
   ],
   "source": [
    "X_val_T.shape"
   ]
  },
  {
   "cell_type": "code",
   "execution_count": 117,
   "metadata": {},
   "outputs": [],
   "source": [
    "X_val_T=pd.DataFrame(X_val_T)"
   ]
  },
  {
   "cell_type": "code",
   "execution_count": 118,
   "metadata": {},
   "outputs": [
    {
     "data": {
      "text/plain": [
       "1"
      ]
     },
     "execution_count": 118,
     "metadata": {},
     "output_type": "execute_result"
    }
   ],
   "source": [
    "X_val_T.duplicated().sum()"
   ]
  },
  {
   "cell_type": "code",
   "execution_count": 119,
   "metadata": {},
   "outputs": [
    {
     "data": {
      "text/plain": [
       "buisness_year                    False\n",
       "doc_id                           False\n",
       "total_open_amount                False\n",
       "invoice_id                        True\n",
       "Delay                            False\n",
       "business_code_CA02               False\n",
       "business_code_U001               False\n",
       "business_code_U013               False\n",
       "document_create_date.1.year      False\n",
       "document_create_date.1.month     False\n",
       "document_create_date.1.Day       False\n",
       "due_in_date.year                 False\n",
       "due_in_date.month                False\n",
       "due_in_date.Day                  False\n",
       "invoice_currency_labelencoded    False\n",
       "cust_payment_terms_tencoded      False\n",
       "dtype: bool"
      ]
     },
     "execution_count": 119,
     "metadata": {},
     "output_type": "execute_result"
    }
   ],
   "source": [
    "duplicated_feature2=X_val_T.duplicated()\n",
    "duplicated_feature2"
   ]
  },
  {
   "cell_type": "code",
   "execution_count": 120,
   "metadata": {},
   "outputs": [],
   "source": [
    "features_to_keep2=[not index for index in duplicated_feature2]"
   ]
  },
  {
   "cell_type": "code",
   "execution_count": 121,
   "metadata": {},
   "outputs": [],
   "source": [
    "X_val_unique=X_val_T[features_to_keep2].T"
   ]
  },
  {
   "cell_type": "code",
   "execution_count": 122,
   "metadata": {},
   "outputs": [
    {
     "data": {
      "text/plain": [
       "(13333, 15)"
      ]
     },
     "execution_count": 122,
     "metadata": {},
     "output_type": "execute_result"
    }
   ],
   "source": [
    "X_val_unique.shape"
   ]
  },
  {
   "cell_type": "code",
   "execution_count": 123,
   "metadata": {},
   "outputs": [],
   "source": [
    "val=X_val_unique"
   ]
  },
  {
   "cell_type": "code",
   "execution_count": 124,
   "metadata": {},
   "outputs": [
    {
     "data": {
      "text/html": [
       "<div>\n",
       "<style scoped>\n",
       "    .dataframe tbody tr th:only-of-type {\n",
       "        vertical-align: middle;\n",
       "    }\n",
       "\n",
       "    .dataframe tbody tr th {\n",
       "        vertical-align: top;\n",
       "    }\n",
       "\n",
       "    .dataframe thead th {\n",
       "        text-align: right;\n",
       "    }\n",
       "</style>\n",
       "<table border=\"1\" class=\"dataframe\">\n",
       "  <thead>\n",
       "    <tr style=\"text-align: right;\">\n",
       "      <th></th>\n",
       "      <th>buisness_year</th>\n",
       "      <th>doc_id</th>\n",
       "      <th>total_open_amount</th>\n",
       "      <th>Delay</th>\n",
       "      <th>business_code_CA02</th>\n",
       "      <th>business_code_U001</th>\n",
       "      <th>business_code_U013</th>\n",
       "      <th>document_create_date.1.year</th>\n",
       "      <th>document_create_date.1.month</th>\n",
       "      <th>document_create_date.1.Day</th>\n",
       "      <th>due_in_date.year</th>\n",
       "      <th>due_in_date.month</th>\n",
       "      <th>due_in_date.Day</th>\n",
       "      <th>invoice_currency_labelencoded</th>\n",
       "      <th>cust_payment_terms_tencoded</th>\n",
       "    </tr>\n",
       "  </thead>\n",
       "  <tbody>\n",
       "    <tr>\n",
       "      <th>32610</th>\n",
       "      <td>2020.0</td>\n",
       "      <td>1.930517e+09</td>\n",
       "      <td>6899.20</td>\n",
       "      <td>1.0</td>\n",
       "      <td>0.0</td>\n",
       "      <td>1.0</td>\n",
       "      <td>0.0</td>\n",
       "      <td>2020.0</td>\n",
       "      <td>2.0</td>\n",
       "      <td>12.0</td>\n",
       "      <td>2020.0</td>\n",
       "      <td>2.0</td>\n",
       "      <td>27.0</td>\n",
       "      <td>1.0</td>\n",
       "      <td>-1.929348</td>\n",
       "    </tr>\n",
       "    <tr>\n",
       "      <th>32611</th>\n",
       "      <td>2019.0</td>\n",
       "      <td>1.930198e+09</td>\n",
       "      <td>1897.50</td>\n",
       "      <td>-4.0</td>\n",
       "      <td>0.0</td>\n",
       "      <td>1.0</td>\n",
       "      <td>0.0</td>\n",
       "      <td>2019.0</td>\n",
       "      <td>11.0</td>\n",
       "      <td>28.0</td>\n",
       "      <td>2019.0</td>\n",
       "      <td>12.0</td>\n",
       "      <td>13.0</td>\n",
       "      <td>1.0</td>\n",
       "      <td>-1.929348</td>\n",
       "    </tr>\n",
       "    <tr>\n",
       "      <th>32612</th>\n",
       "      <td>2019.0</td>\n",
       "      <td>1.929774e+09</td>\n",
       "      <td>13479.51</td>\n",
       "      <td>-1.0</td>\n",
       "      <td>0.0</td>\n",
       "      <td>1.0</td>\n",
       "      <td>0.0</td>\n",
       "      <td>2019.0</td>\n",
       "      <td>8.0</td>\n",
       "      <td>23.0</td>\n",
       "      <td>2019.0</td>\n",
       "      <td>9.0</td>\n",
       "      <td>12.0</td>\n",
       "      <td>1.0</td>\n",
       "      <td>-0.143885</td>\n",
       "    </tr>\n",
       "    <tr>\n",
       "      <th>32613</th>\n",
       "      <td>2019.0</td>\n",
       "      <td>1.928857e+09</td>\n",
       "      <td>9508.41</td>\n",
       "      <td>6.0</td>\n",
       "      <td>0.0</td>\n",
       "      <td>1.0</td>\n",
       "      <td>0.0</td>\n",
       "      <td>2019.0</td>\n",
       "      <td>2.0</td>\n",
       "      <td>25.0</td>\n",
       "      <td>2019.0</td>\n",
       "      <td>3.0</td>\n",
       "      <td>12.0</td>\n",
       "      <td>1.0</td>\n",
       "      <td>1.220082</td>\n",
       "    </tr>\n",
       "    <tr>\n",
       "      <th>32615</th>\n",
       "      <td>2019.0</td>\n",
       "      <td>1.928727e+09</td>\n",
       "      <td>1831.09</td>\n",
       "      <td>2.0</td>\n",
       "      <td>0.0</td>\n",
       "      <td>1.0</td>\n",
       "      <td>0.0</td>\n",
       "      <td>2019.0</td>\n",
       "      <td>2.0</td>\n",
       "      <td>2.0</td>\n",
       "      <td>2019.0</td>\n",
       "      <td>2.0</td>\n",
       "      <td>17.0</td>\n",
       "      <td>1.0</td>\n",
       "      <td>1.220082</td>\n",
       "    </tr>\n",
       "    <tr>\n",
       "      <th>...</th>\n",
       "      <td>...</td>\n",
       "      <td>...</td>\n",
       "      <td>...</td>\n",
       "      <td>...</td>\n",
       "      <td>...</td>\n",
       "      <td>...</td>\n",
       "      <td>...</td>\n",
       "      <td>...</td>\n",
       "      <td>...</td>\n",
       "      <td>...</td>\n",
       "      <td>...</td>\n",
       "      <td>...</td>\n",
       "      <td>...</td>\n",
       "      <td>...</td>\n",
       "      <td>...</td>\n",
       "    </tr>\n",
       "    <tr>\n",
       "      <th>46582</th>\n",
       "      <td>2019.0</td>\n",
       "      <td>1.929343e+09</td>\n",
       "      <td>39747.01</td>\n",
       "      <td>2.0</td>\n",
       "      <td>0.0</td>\n",
       "      <td>1.0</td>\n",
       "      <td>0.0</td>\n",
       "      <td>2019.0</td>\n",
       "      <td>5.0</td>\n",
       "      <td>18.0</td>\n",
       "      <td>2019.0</td>\n",
       "      <td>6.0</td>\n",
       "      <td>2.0</td>\n",
       "      <td>1.0</td>\n",
       "      <td>-1.929348</td>\n",
       "    </tr>\n",
       "    <tr>\n",
       "      <th>46583</th>\n",
       "      <td>2019.0</td>\n",
       "      <td>2.960536e+09</td>\n",
       "      <td>19996.62</td>\n",
       "      <td>5.0</td>\n",
       "      <td>1.0</td>\n",
       "      <td>0.0</td>\n",
       "      <td>0.0</td>\n",
       "      <td>2019.0</td>\n",
       "      <td>3.0</td>\n",
       "      <td>17.0</td>\n",
       "      <td>2019.0</td>\n",
       "      <td>3.0</td>\n",
       "      <td>29.0</td>\n",
       "      <td>0.0</td>\n",
       "      <td>5.833630</td>\n",
       "    </tr>\n",
       "    <tr>\n",
       "      <th>46584</th>\n",
       "      <td>2019.0</td>\n",
       "      <td>1.930196e+09</td>\n",
       "      <td>2678.97</td>\n",
       "      <td>0.0</td>\n",
       "      <td>0.0</td>\n",
       "      <td>1.0</td>\n",
       "      <td>0.0</td>\n",
       "      <td>2019.0</td>\n",
       "      <td>12.0</td>\n",
       "      <td>3.0</td>\n",
       "      <td>2019.0</td>\n",
       "      <td>12.0</td>\n",
       "      <td>18.0</td>\n",
       "      <td>1.0</td>\n",
       "      <td>1.220082</td>\n",
       "    </tr>\n",
       "    <tr>\n",
       "      <th>46585</th>\n",
       "      <td>2020.0</td>\n",
       "      <td>1.930527e+09</td>\n",
       "      <td>17642.88</td>\n",
       "      <td>1.0</td>\n",
       "      <td>0.0</td>\n",
       "      <td>1.0</td>\n",
       "      <td>0.0</td>\n",
       "      <td>2020.0</td>\n",
       "      <td>2.0</td>\n",
       "      <td>18.0</td>\n",
       "      <td>2020.0</td>\n",
       "      <td>3.0</td>\n",
       "      <td>4.0</td>\n",
       "      <td>1.0</td>\n",
       "      <td>1.220082</td>\n",
       "    </tr>\n",
       "    <tr>\n",
       "      <th>46586</th>\n",
       "      <td>2019.0</td>\n",
       "      <td>1.930183e+09</td>\n",
       "      <td>26847.00</td>\n",
       "      <td>-7.0</td>\n",
       "      <td>0.0</td>\n",
       "      <td>1.0</td>\n",
       "      <td>0.0</td>\n",
       "      <td>2019.0</td>\n",
       "      <td>11.0</td>\n",
       "      <td>22.0</td>\n",
       "      <td>2019.0</td>\n",
       "      <td>12.0</td>\n",
       "      <td>27.0</td>\n",
       "      <td>1.0</td>\n",
       "      <td>6.436364</td>\n",
       "    </tr>\n",
       "  </tbody>\n",
       "</table>\n",
       "<p>13333 rows × 15 columns</p>\n",
       "</div>"
      ],
      "text/plain": [
       "       buisness_year        doc_id  total_open_amount  Delay  \\\n",
       "32610         2020.0  1.930517e+09            6899.20    1.0   \n",
       "32611         2019.0  1.930198e+09            1897.50   -4.0   \n",
       "32612         2019.0  1.929774e+09           13479.51   -1.0   \n",
       "32613         2019.0  1.928857e+09            9508.41    6.0   \n",
       "32615         2019.0  1.928727e+09            1831.09    2.0   \n",
       "...              ...           ...                ...    ...   \n",
       "46582         2019.0  1.929343e+09           39747.01    2.0   \n",
       "46583         2019.0  2.960536e+09           19996.62    5.0   \n",
       "46584         2019.0  1.930196e+09            2678.97    0.0   \n",
       "46585         2020.0  1.930527e+09           17642.88    1.0   \n",
       "46586         2019.0  1.930183e+09           26847.00   -7.0   \n",
       "\n",
       "       business_code_CA02  business_code_U001  business_code_U013  \\\n",
       "32610                 0.0                 1.0                 0.0   \n",
       "32611                 0.0                 1.0                 0.0   \n",
       "32612                 0.0                 1.0                 0.0   \n",
       "32613                 0.0                 1.0                 0.0   \n",
       "32615                 0.0                 1.0                 0.0   \n",
       "...                   ...                 ...                 ...   \n",
       "46582                 0.0                 1.0                 0.0   \n",
       "46583                 1.0                 0.0                 0.0   \n",
       "46584                 0.0                 1.0                 0.0   \n",
       "46585                 0.0                 1.0                 0.0   \n",
       "46586                 0.0                 1.0                 0.0   \n",
       "\n",
       "       document_create_date.1.year  document_create_date.1.month  \\\n",
       "32610                       2020.0                           2.0   \n",
       "32611                       2019.0                          11.0   \n",
       "32612                       2019.0                           8.0   \n",
       "32613                       2019.0                           2.0   \n",
       "32615                       2019.0                           2.0   \n",
       "...                            ...                           ...   \n",
       "46582                       2019.0                           5.0   \n",
       "46583                       2019.0                           3.0   \n",
       "46584                       2019.0                          12.0   \n",
       "46585                       2020.0                           2.0   \n",
       "46586                       2019.0                          11.0   \n",
       "\n",
       "       document_create_date.1.Day  due_in_date.year  due_in_date.month  \\\n",
       "32610                        12.0            2020.0                2.0   \n",
       "32611                        28.0            2019.0               12.0   \n",
       "32612                        23.0            2019.0                9.0   \n",
       "32613                        25.0            2019.0                3.0   \n",
       "32615                         2.0            2019.0                2.0   \n",
       "...                           ...               ...                ...   \n",
       "46582                        18.0            2019.0                6.0   \n",
       "46583                        17.0            2019.0                3.0   \n",
       "46584                         3.0            2019.0               12.0   \n",
       "46585                        18.0            2020.0                3.0   \n",
       "46586                        22.0            2019.0               12.0   \n",
       "\n",
       "       due_in_date.Day  invoice_currency_labelencoded  \\\n",
       "32610             27.0                            1.0   \n",
       "32611             13.0                            1.0   \n",
       "32612             12.0                            1.0   \n",
       "32613             12.0                            1.0   \n",
       "32615             17.0                            1.0   \n",
       "...                ...                            ...   \n",
       "46582              2.0                            1.0   \n",
       "46583             29.0                            0.0   \n",
       "46584             18.0                            1.0   \n",
       "46585              4.0                            1.0   \n",
       "46586             27.0                            1.0   \n",
       "\n",
       "       cust_payment_terms_tencoded  \n",
       "32610                    -1.929348  \n",
       "32611                    -1.929348  \n",
       "32612                    -0.143885  \n",
       "32613                     1.220082  \n",
       "32615                     1.220082  \n",
       "...                            ...  \n",
       "46582                    -1.929348  \n",
       "46583                     5.833630  \n",
       "46584                     1.220082  \n",
       "46585                     1.220082  \n",
       "46586                     6.436364  \n",
       "\n",
       "[13333 rows x 15 columns]"
      ]
     },
     "execution_count": 124,
     "metadata": {},
     "output_type": "execute_result"
    }
   ],
   "source": [
    "val"
   ]
  },
  {
   "cell_type": "code",
   "execution_count": 125,
   "metadata": {},
   "outputs": [
    {
     "name": "stdout",
     "output_type": "stream",
     "text": [
      "<class 'pandas.core.frame.DataFrame'>\n",
      "Int64Index: 13333 entries, 32610 to 46586\n",
      "Data columns (total 15 columns):\n",
      " #   Column                         Non-Null Count  Dtype  \n",
      "---  ------                         --------------  -----  \n",
      " 0   buisness_year                  13333 non-null  float64\n",
      " 1   doc_id                         13333 non-null  float64\n",
      " 2   total_open_amount              13333 non-null  float64\n",
      " 3   Delay                          13333 non-null  float64\n",
      " 4   business_code_CA02             13333 non-null  float64\n",
      " 5   business_code_U001             13333 non-null  float64\n",
      " 6   business_code_U013             13333 non-null  float64\n",
      " 7   document_create_date.1.year    13333 non-null  float64\n",
      " 8   document_create_date.1.month   13333 non-null  float64\n",
      " 9   document_create_date.1.Day     13333 non-null  float64\n",
      " 10  due_in_date.year               13333 non-null  float64\n",
      " 11  due_in_date.month              13333 non-null  float64\n",
      " 12  due_in_date.Day                13333 non-null  float64\n",
      " 13  invoice_currency_labelencoded  13333 non-null  float64\n",
      " 14  cust_payment_terms_tencoded    13333 non-null  float64\n",
      "dtypes: float64(15)\n",
      "memory usage: 2.1 MB\n"
     ]
    }
   ],
   "source": [
    "val.info()"
   ]
  },
  {
   "cell_type": "code",
   "execution_count": 126,
   "metadata": {},
   "outputs": [
    {
     "data": {
      "text/plain": [
       "(13333, 15)"
      ]
     },
     "execution_count": 126,
     "metadata": {},
     "output_type": "execute_result"
    }
   ],
   "source": [
    "val.shape"
   ]
  },
  {
   "cell_type": "code",
   "execution_count": 127,
   "metadata": {},
   "outputs": [
    {
     "name": "stdout",
     "output_type": "stream",
     "text": [
      "<class 'pandas.core.frame.DataFrame'>\n",
      "Int64Index: 13333 entries, 32610 to 46586\n",
      "Data columns (total 15 columns):\n",
      " #   Column                         Non-Null Count  Dtype  \n",
      "---  ------                         --------------  -----  \n",
      " 0   buisness_year                  13333 non-null  float64\n",
      " 1   doc_id                         13333 non-null  float64\n",
      " 2   total_open_amount              13333 non-null  float64\n",
      " 3   Delay                          13333 non-null  float64\n",
      " 4   business_code_CA02             13333 non-null  float64\n",
      " 5   business_code_U001             13333 non-null  float64\n",
      " 6   business_code_U013             13333 non-null  float64\n",
      " 7   document_create_date.1.year    13333 non-null  float64\n",
      " 8   document_create_date.1.month   13333 non-null  float64\n",
      " 9   document_create_date.1.Day     13333 non-null  float64\n",
      " 10  due_in_date.year               13333 non-null  float64\n",
      " 11  due_in_date.month              13333 non-null  float64\n",
      " 12  due_in_date.Day                13333 non-null  float64\n",
      " 13  invoice_currency_labelencoded  13333 non-null  float64\n",
      " 14  cust_payment_terms_tencoded    13333 non-null  float64\n",
      "dtypes: float64(15)\n",
      "memory usage: 2.1 MB\n"
     ]
    }
   ],
   "source": [
    "val.info()"
   ]
  },
  {
   "cell_type": "code",
   "execution_count": null,
   "metadata": {},
   "outputs": [],
   "source": []
  },
  {
   "cell_type": "code",
   "execution_count": null,
   "metadata": {},
   "outputs": [],
   "source": []
  },
  {
   "cell_type": "code",
   "execution_count": null,
   "metadata": {},
   "outputs": [],
   "source": []
  },
  {
   "cell_type": "code",
   "execution_count": null,
   "metadata": {},
   "outputs": [],
   "source": []
  },
  {
   "cell_type": "code",
   "execution_count": null,
   "metadata": {},
   "outputs": [],
   "source": []
  },
  {
   "cell_type": "code",
   "execution_count": 128,
   "metadata": {},
   "outputs": [
    {
     "data": {
      "text/html": [
       "<div>\n",
       "<style scoped>\n",
       "    .dataframe tbody tr th:only-of-type {\n",
       "        vertical-align: middle;\n",
       "    }\n",
       "\n",
       "    .dataframe tbody tr th {\n",
       "        vertical-align: top;\n",
       "    }\n",
       "\n",
       "    .dataframe thead th {\n",
       "        text-align: right;\n",
       "    }\n",
       "</style>\n",
       "<table border=\"1\" class=\"dataframe\">\n",
       "  <thead>\n",
       "    <tr style=\"text-align: right;\">\n",
       "      <th></th>\n",
       "      <th>business_code</th>\n",
       "      <th>cust_number</th>\n",
       "      <th>name_customer</th>\n",
       "      <th>clear_date</th>\n",
       "      <th>buisness_year</th>\n",
       "      <th>doc_id</th>\n",
       "      <th>posting_date</th>\n",
       "      <th>document_create_date</th>\n",
       "      <th>document_create_date.1</th>\n",
       "      <th>due_in_date</th>\n",
       "      <th>invoice_currency</th>\n",
       "      <th>document type</th>\n",
       "      <th>posting_id</th>\n",
       "      <th>area_business</th>\n",
       "      <th>total_open_amount</th>\n",
       "      <th>baseline_create_date</th>\n",
       "      <th>cust_payment_terms</th>\n",
       "      <th>invoice_id</th>\n",
       "      <th>isOpen</th>\n",
       "      <th>Delay</th>\n",
       "    </tr>\n",
       "  </thead>\n",
       "  <tbody>\n",
       "    <tr>\n",
       "      <th>46587</th>\n",
       "      <td>U001</td>\n",
       "      <td>0200772595</td>\n",
       "      <td>SAFEW associates</td>\n",
       "      <td>NaT</td>\n",
       "      <td>2020.0</td>\n",
       "      <td>1.930745e+09</td>\n",
       "      <td>2020-04-06</td>\n",
       "      <td>2020-04-04</td>\n",
       "      <td>2020-04-06</td>\n",
       "      <td>2020-04-21</td>\n",
       "      <td>USD</td>\n",
       "      <td>RV</td>\n",
       "      <td>1.0</td>\n",
       "      <td>NaN</td>\n",
       "      <td>55148.86</td>\n",
       "      <td>2020-04-06</td>\n",
       "      <td>NAA8</td>\n",
       "      <td>1.930745e+09</td>\n",
       "      <td>1</td>\n",
       "      <td>NaN</td>\n",
       "    </tr>\n",
       "    <tr>\n",
       "      <th>46588</th>\n",
       "      <td>U001</td>\n",
       "      <td>0200711029</td>\n",
       "      <td>WEGMAN co</td>\n",
       "      <td>NaT</td>\n",
       "      <td>2020.0</td>\n",
       "      <td>1.930619e+09</td>\n",
       "      <td>2020-03-07</td>\n",
       "      <td>2020-03-07</td>\n",
       "      <td>2020-03-07</td>\n",
       "      <td>2020-03-22</td>\n",
       "      <td>USD</td>\n",
       "      <td>RV</td>\n",
       "      <td>1.0</td>\n",
       "      <td>NaN</td>\n",
       "      <td>81042.37</td>\n",
       "      <td>2020-03-07</td>\n",
       "      <td>NAA8</td>\n",
       "      <td>1.930619e+09</td>\n",
       "      <td>1</td>\n",
       "      <td>NaN</td>\n",
       "    </tr>\n",
       "    <tr>\n",
       "      <th>46589</th>\n",
       "      <td>U001</td>\n",
       "      <td>0200769623</td>\n",
       "      <td>WAL-MAR corporation</td>\n",
       "      <td>NaT</td>\n",
       "      <td>2020.0</td>\n",
       "      <td>1.930712e+09</td>\n",
       "      <td>2020-03-29</td>\n",
       "      <td>2020-03-28</td>\n",
       "      <td>2020-03-29</td>\n",
       "      <td>2020-04-13</td>\n",
       "      <td>USD</td>\n",
       "      <td>RV</td>\n",
       "      <td>1.0</td>\n",
       "      <td>NaN</td>\n",
       "      <td>20734.45</td>\n",
       "      <td>2020-03-29</td>\n",
       "      <td>NAH4</td>\n",
       "      <td>1.930712e+09</td>\n",
       "      <td>1</td>\n",
       "      <td>NaN</td>\n",
       "    </tr>\n",
       "    <tr>\n",
       "      <th>46590</th>\n",
       "      <td>U001</td>\n",
       "      <td>0200759878</td>\n",
       "      <td>SA systems</td>\n",
       "      <td>NaT</td>\n",
       "      <td>2020.0</td>\n",
       "      <td>1.930780e+09</td>\n",
       "      <td>2020-04-13</td>\n",
       "      <td>2020-04-13</td>\n",
       "      <td>2020-04-13</td>\n",
       "      <td>2020-04-28</td>\n",
       "      <td>USD</td>\n",
       "      <td>RV</td>\n",
       "      <td>1.0</td>\n",
       "      <td>NaN</td>\n",
       "      <td>12177.42</td>\n",
       "      <td>2020-04-13</td>\n",
       "      <td>NAH4</td>\n",
       "      <td>1.930780e+09</td>\n",
       "      <td>1</td>\n",
       "      <td>NaN</td>\n",
       "    </tr>\n",
       "    <tr>\n",
       "      <th>46591</th>\n",
       "      <td>U001</td>\n",
       "      <td>0100036066</td>\n",
       "      <td>GROC in</td>\n",
       "      <td>NaT</td>\n",
       "      <td>2020.0</td>\n",
       "      <td>1.930687e+09</td>\n",
       "      <td>2020-03-23</td>\n",
       "      <td>2020-03-23</td>\n",
       "      <td>2020-03-23</td>\n",
       "      <td>2020-04-07</td>\n",
       "      <td>USD</td>\n",
       "      <td>RV</td>\n",
       "      <td>1.0</td>\n",
       "      <td>NaN</td>\n",
       "      <td>36623.39</td>\n",
       "      <td>2020-03-23</td>\n",
       "      <td>NAA8</td>\n",
       "      <td>1.930687e+09</td>\n",
       "      <td>1</td>\n",
       "      <td>NaN</td>\n",
       "    </tr>\n",
       "    <tr>\n",
       "      <th>...</th>\n",
       "      <td>...</td>\n",
       "      <td>...</td>\n",
       "      <td>...</td>\n",
       "      <td>...</td>\n",
       "      <td>...</td>\n",
       "      <td>...</td>\n",
       "      <td>...</td>\n",
       "      <td>...</td>\n",
       "      <td>...</td>\n",
       "      <td>...</td>\n",
       "      <td>...</td>\n",
       "      <td>...</td>\n",
       "      <td>...</td>\n",
       "      <td>...</td>\n",
       "      <td>...</td>\n",
       "      <td>...</td>\n",
       "      <td>...</td>\n",
       "      <td>...</td>\n",
       "      <td>...</td>\n",
       "      <td>...</td>\n",
       "    </tr>\n",
       "    <tr>\n",
       "      <th>49995</th>\n",
       "      <td>U001</td>\n",
       "      <td>0200726979</td>\n",
       "      <td>BJ'S  llc</td>\n",
       "      <td>NaT</td>\n",
       "      <td>2020.0</td>\n",
       "      <td>1.930628e+09</td>\n",
       "      <td>2020-03-10</td>\n",
       "      <td>2020-03-09</td>\n",
       "      <td>2020-03-10</td>\n",
       "      <td>2020-03-25</td>\n",
       "      <td>USD</td>\n",
       "      <td>RV</td>\n",
       "      <td>1.0</td>\n",
       "      <td>NaN</td>\n",
       "      <td>1268.69</td>\n",
       "      <td>2020-03-10</td>\n",
       "      <td>NAA8</td>\n",
       "      <td>1.930628e+09</td>\n",
       "      <td>1</td>\n",
       "      <td>NaN</td>\n",
       "    </tr>\n",
       "    <tr>\n",
       "      <th>49996</th>\n",
       "      <td>U001</td>\n",
       "      <td>0100031704</td>\n",
       "      <td>DELHAIZE foundation</td>\n",
       "      <td>NaT</td>\n",
       "      <td>2020.0</td>\n",
       "      <td>1.930621e+09</td>\n",
       "      <td>2020-03-09</td>\n",
       "      <td>2020-03-08</td>\n",
       "      <td>2020-03-09</td>\n",
       "      <td>2020-03-24</td>\n",
       "      <td>USD</td>\n",
       "      <td>RV</td>\n",
       "      <td>1.0</td>\n",
       "      <td>NaN</td>\n",
       "      <td>58973.63</td>\n",
       "      <td>2020-03-09</td>\n",
       "      <td>NAA8</td>\n",
       "      <td>1.930621e+09</td>\n",
       "      <td>1</td>\n",
       "      <td>NaN</td>\n",
       "    </tr>\n",
       "    <tr>\n",
       "      <th>49997</th>\n",
       "      <td>U001</td>\n",
       "      <td>200780383</td>\n",
       "      <td>MEIJ foundation</td>\n",
       "      <td>NaT</td>\n",
       "      <td>2020.0</td>\n",
       "      <td>1.930671e+09</td>\n",
       "      <td>2020-03-20</td>\n",
       "      <td>2020-03-19</td>\n",
       "      <td>2020-03-20</td>\n",
       "      <td>2020-04-04</td>\n",
       "      <td>USD</td>\n",
       "      <td>RV</td>\n",
       "      <td>1.0</td>\n",
       "      <td>NaN</td>\n",
       "      <td>110574.78</td>\n",
       "      <td>2020-03-20</td>\n",
       "      <td>NAA8</td>\n",
       "      <td>1.930671e+09</td>\n",
       "      <td>1</td>\n",
       "      <td>NaN</td>\n",
       "    </tr>\n",
       "    <tr>\n",
       "      <th>49998</th>\n",
       "      <td>U013</td>\n",
       "      <td>0140103983</td>\n",
       "      <td>FACE corp</td>\n",
       "      <td>NaT</td>\n",
       "      <td>2020.0</td>\n",
       "      <td>1.991841e+09</td>\n",
       "      <td>2020-04-06</td>\n",
       "      <td>2020-04-02</td>\n",
       "      <td>2020-04-06</td>\n",
       "      <td>2020-06-05</td>\n",
       "      <td>USD</td>\n",
       "      <td>RV</td>\n",
       "      <td>1.0</td>\n",
       "      <td>NaN</td>\n",
       "      <td>40409.00</td>\n",
       "      <td>2020-04-06</td>\n",
       "      <td>NAUZ</td>\n",
       "      <td>1.991841e+09</td>\n",
       "      <td>1</td>\n",
       "      <td>NaN</td>\n",
       "    </tr>\n",
       "    <tr>\n",
       "      <th>49999</th>\n",
       "      <td>U001</td>\n",
       "      <td>0200754278</td>\n",
       "      <td>MBM  trust</td>\n",
       "      <td>NaT</td>\n",
       "      <td>2020.0</td>\n",
       "      <td>1.930629e+09</td>\n",
       "      <td>2020-03-11</td>\n",
       "      <td>2020-03-10</td>\n",
       "      <td>2020-03-11</td>\n",
       "      <td>2020-03-26</td>\n",
       "      <td>USD</td>\n",
       "      <td>RV</td>\n",
       "      <td>1.0</td>\n",
       "      <td>NaN</td>\n",
       "      <td>7240.64</td>\n",
       "      <td>2020-03-11</td>\n",
       "      <td>NAA8</td>\n",
       "      <td>1.930629e+09</td>\n",
       "      <td>1</td>\n",
       "      <td>NaN</td>\n",
       "    </tr>\n",
       "  </tbody>\n",
       "</table>\n",
       "<p>3413 rows × 20 columns</p>\n",
       "</div>"
      ],
      "text/plain": [
       "      business_code cust_number        name_customer clear_date  \\\n",
       "46587          U001  0200772595     SAFEW associates        NaT   \n",
       "46588          U001  0200711029            WEGMAN co        NaT   \n",
       "46589          U001  0200769623  WAL-MAR corporation        NaT   \n",
       "46590          U001  0200759878           SA systems        NaT   \n",
       "46591          U001  0100036066              GROC in        NaT   \n",
       "...             ...         ...                  ...        ...   \n",
       "49995          U001  0200726979            BJ'S  llc        NaT   \n",
       "49996          U001  0100031704  DELHAIZE foundation        NaT   \n",
       "49997          U001   200780383      MEIJ foundation        NaT   \n",
       "49998          U013  0140103983            FACE corp        NaT   \n",
       "49999          U001  0200754278           MBM  trust        NaT   \n",
       "\n",
       "       buisness_year        doc_id posting_date document_create_date  \\\n",
       "46587         2020.0  1.930745e+09   2020-04-06           2020-04-04   \n",
       "46588         2020.0  1.930619e+09   2020-03-07           2020-03-07   \n",
       "46589         2020.0  1.930712e+09   2020-03-29           2020-03-28   \n",
       "46590         2020.0  1.930780e+09   2020-04-13           2020-04-13   \n",
       "46591         2020.0  1.930687e+09   2020-03-23           2020-03-23   \n",
       "...              ...           ...          ...                  ...   \n",
       "49995         2020.0  1.930628e+09   2020-03-10           2020-03-09   \n",
       "49996         2020.0  1.930621e+09   2020-03-09           2020-03-08   \n",
       "49997         2020.0  1.930671e+09   2020-03-20           2020-03-19   \n",
       "49998         2020.0  1.991841e+09   2020-04-06           2020-04-02   \n",
       "49999         2020.0  1.930629e+09   2020-03-11           2020-03-10   \n",
       "\n",
       "      document_create_date.1 due_in_date invoice_currency document type  \\\n",
       "46587             2020-04-06  2020-04-21              USD            RV   \n",
       "46588             2020-03-07  2020-03-22              USD            RV   \n",
       "46589             2020-03-29  2020-04-13              USD            RV   \n",
       "46590             2020-04-13  2020-04-28              USD            RV   \n",
       "46591             2020-03-23  2020-04-07              USD            RV   \n",
       "...                      ...         ...              ...           ...   \n",
       "49995             2020-03-10  2020-03-25              USD            RV   \n",
       "49996             2020-03-09  2020-03-24              USD            RV   \n",
       "49997             2020-03-20  2020-04-04              USD            RV   \n",
       "49998             2020-04-06  2020-06-05              USD            RV   \n",
       "49999             2020-03-11  2020-03-26              USD            RV   \n",
       "\n",
       "       posting_id  area_business  total_open_amount baseline_create_date  \\\n",
       "46587         1.0            NaN           55148.86           2020-04-06   \n",
       "46588         1.0            NaN           81042.37           2020-03-07   \n",
       "46589         1.0            NaN           20734.45           2020-03-29   \n",
       "46590         1.0            NaN           12177.42           2020-04-13   \n",
       "46591         1.0            NaN           36623.39           2020-03-23   \n",
       "...           ...            ...                ...                  ...   \n",
       "49995         1.0            NaN            1268.69           2020-03-10   \n",
       "49996         1.0            NaN           58973.63           2020-03-09   \n",
       "49997         1.0            NaN          110574.78           2020-03-20   \n",
       "49998         1.0            NaN           40409.00           2020-04-06   \n",
       "49999         1.0            NaN            7240.64           2020-03-11   \n",
       "\n",
       "      cust_payment_terms    invoice_id  isOpen  Delay  \n",
       "46587               NAA8  1.930745e+09       1    NaN  \n",
       "46588               NAA8  1.930619e+09       1    NaN  \n",
       "46589               NAH4  1.930712e+09       1    NaN  \n",
       "46590               NAH4  1.930780e+09       1    NaN  \n",
       "46591               NAA8  1.930687e+09       1    NaN  \n",
       "...                  ...           ...     ...    ...  \n",
       "49995               NAA8  1.930628e+09       1    NaN  \n",
       "49996               NAA8  1.930621e+09       1    NaN  \n",
       "49997               NAA8  1.930671e+09       1    NaN  \n",
       "49998               NAUZ  1.991841e+09       1    NaN  \n",
       "49999               NAA8  1.930629e+09       1    NaN  \n",
       "\n",
       "[3413 rows x 20 columns]"
      ]
     },
     "execution_count": 128,
     "metadata": {},
     "output_type": "execute_result"
    }
   ],
   "source": [
    "test_set"
   ]
  },
  {
   "cell_type": "code",
   "execution_count": 129,
   "metadata": {},
   "outputs": [
    {
     "data": {
      "text/plain": [
       "(3413, 20)"
      ]
     },
     "execution_count": 129,
     "metadata": {},
     "output_type": "execute_result"
    }
   ],
   "source": [
    "test_set.sort_values(by='document_create_date.1',ascending=True).shape"
   ]
  },
  {
   "cell_type": "code",
   "execution_count": 130,
   "metadata": {},
   "outputs": [
    {
     "data": {
      "text/plain": [
       "business_code                4\n",
       "cust_number                436\n",
       "name_customer             1027\n",
       "clear_date                   0\n",
       "buisness_year                1\n",
       "doc_id                    3413\n",
       "posting_date                77\n",
       "document_create_date        85\n",
       "document_create_date.1      77\n",
       "due_in_date                114\n",
       "invoice_currency             2\n",
       "document type                1\n",
       "posting_id                   1\n",
       "area_business                0\n",
       "total_open_amount         3273\n",
       "baseline_create_date        78\n",
       "cust_payment_terms          35\n",
       "invoice_id                3413\n",
       "isOpen                       1\n",
       "Delay                        0\n",
       "dtype: int64"
      ]
     },
     "execution_count": 130,
     "metadata": {},
     "output_type": "execute_result"
    }
   ],
   "source": [
    "test_set.nunique()"
   ]
  },
  {
   "cell_type": "code",
   "execution_count": 131,
   "metadata": {},
   "outputs": [],
   "source": [
    "test_set=test_set[test_set['document_create_date.1']<=test_set['posting_date']]"
   ]
  },
  {
   "cell_type": "code",
   "execution_count": 132,
   "metadata": {},
   "outputs": [
    {
     "data": {
      "text/plain": [
       "(3413, 20)"
      ]
     },
     "execution_count": 132,
     "metadata": {},
     "output_type": "execute_result"
    }
   ],
   "source": [
    "test_set.shape"
   ]
  },
  {
   "cell_type": "code",
   "execution_count": 133,
   "metadata": {},
   "outputs": [],
   "source": [
    "test_set=test_set[test_set['document_create_date.1']<=test_set['baseline_create_date']]\n",
    "test_set=test_set[test_set['document_create_date.1']<=test_set['due_in_date']]\n",
    "#test_set=test_set[test_set['document_create_date.1']<=test_set['clear_date']]\n",
    "test_set=test_set[test_set['posting_date']<=test_set['baseline_create_date']]\n",
    "test_set=test_set[test_set['posting_date']<=test_set['due_in_date']]\n",
    "#test_set=test_set[test_set['posting_date']<=test_set['clear_date']]\n",
    "test_set=test_set[test_set['baseline_create_date']<=test_set['due_in_date']]"
   ]
  },
  {
   "cell_type": "code",
   "execution_count": 134,
   "metadata": {},
   "outputs": [
    {
     "data": {
      "text/plain": [
       "(3258, 20)"
      ]
     },
     "execution_count": 134,
     "metadata": {},
     "output_type": "execute_result"
    }
   ],
   "source": [
    "test_set.shape"
   ]
  },
  {
   "cell_type": "code",
   "execution_count": 135,
   "metadata": {},
   "outputs": [
    {
     "data": {
      "text/plain": [
       "business_code                     object\n",
       "cust_number                       object\n",
       "name_customer                     object\n",
       "clear_date                datetime64[ns]\n",
       "buisness_year                    float64\n",
       "doc_id                           float64\n",
       "posting_date              datetime64[ns]\n",
       "document_create_date      datetime64[ns]\n",
       "document_create_date.1    datetime64[ns]\n",
       "due_in_date               datetime64[ns]\n",
       "invoice_currency                  object\n",
       "document type                     object\n",
       "posting_id                       float64\n",
       "area_business                    float64\n",
       "total_open_amount                float64\n",
       "baseline_create_date      datetime64[ns]\n",
       "cust_payment_terms                object\n",
       "invoice_id                       float64\n",
       "isOpen                             int64\n",
       "Delay                            float64\n",
       "dtype: object"
      ]
     },
     "execution_count": 135,
     "metadata": {},
     "output_type": "execute_result"
    }
   ],
   "source": [
    "test_set.dtypes"
   ]
  },
  {
   "cell_type": "code",
   "execution_count": 136,
   "metadata": {},
   "outputs": [],
   "source": [
    "#test_set[test_set.isnull().any(axis=1)]"
   ]
  },
  {
   "cell_type": "code",
   "execution_count": 137,
   "metadata": {},
   "outputs": [
    {
     "data": {
      "text/html": [
       "<div>\n",
       "<style scoped>\n",
       "    .dataframe tbody tr th:only-of-type {\n",
       "        vertical-align: middle;\n",
       "    }\n",
       "\n",
       "    .dataframe tbody tr th {\n",
       "        vertical-align: top;\n",
       "    }\n",
       "\n",
       "    .dataframe thead th {\n",
       "        text-align: right;\n",
       "    }\n",
       "</style>\n",
       "<table border=\"1\" class=\"dataframe\">\n",
       "  <thead>\n",
       "    <tr style=\"text-align: right;\">\n",
       "      <th></th>\n",
       "      <th>business_code</th>\n",
       "      <th>cust_number</th>\n",
       "      <th>name_customer</th>\n",
       "      <th>clear_date</th>\n",
       "      <th>buisness_year</th>\n",
       "      <th>doc_id</th>\n",
       "      <th>posting_date</th>\n",
       "      <th>document_create_date</th>\n",
       "      <th>document_create_date.1</th>\n",
       "      <th>due_in_date</th>\n",
       "      <th>invoice_currency</th>\n",
       "      <th>document type</th>\n",
       "      <th>posting_id</th>\n",
       "      <th>area_business</th>\n",
       "      <th>total_open_amount</th>\n",
       "      <th>baseline_create_date</th>\n",
       "      <th>cust_payment_terms</th>\n",
       "      <th>invoice_id</th>\n",
       "      <th>isOpen</th>\n",
       "      <th>Delay</th>\n",
       "    </tr>\n",
       "  </thead>\n",
       "  <tbody>\n",
       "    <tr>\n",
       "      <th>46587</th>\n",
       "      <td>U001</td>\n",
       "      <td>0200772595</td>\n",
       "      <td>SAFEW associates</td>\n",
       "      <td>NaT</td>\n",
       "      <td>2020.0</td>\n",
       "      <td>1.930745e+09</td>\n",
       "      <td>2020-04-06</td>\n",
       "      <td>2020-04-04</td>\n",
       "      <td>2020-04-06</td>\n",
       "      <td>2020-04-21</td>\n",
       "      <td>USD</td>\n",
       "      <td>RV</td>\n",
       "      <td>1.0</td>\n",
       "      <td>NaN</td>\n",
       "      <td>55148.86</td>\n",
       "      <td>2020-04-06</td>\n",
       "      <td>NAA8</td>\n",
       "      <td>1.930745e+09</td>\n",
       "      <td>1</td>\n",
       "      <td>NaN</td>\n",
       "    </tr>\n",
       "    <tr>\n",
       "      <th>46588</th>\n",
       "      <td>U001</td>\n",
       "      <td>0200711029</td>\n",
       "      <td>WEGMAN co</td>\n",
       "      <td>NaT</td>\n",
       "      <td>2020.0</td>\n",
       "      <td>1.930619e+09</td>\n",
       "      <td>2020-03-07</td>\n",
       "      <td>2020-03-07</td>\n",
       "      <td>2020-03-07</td>\n",
       "      <td>2020-03-22</td>\n",
       "      <td>USD</td>\n",
       "      <td>RV</td>\n",
       "      <td>1.0</td>\n",
       "      <td>NaN</td>\n",
       "      <td>81042.37</td>\n",
       "      <td>2020-03-07</td>\n",
       "      <td>NAA8</td>\n",
       "      <td>1.930619e+09</td>\n",
       "      <td>1</td>\n",
       "      <td>NaN</td>\n",
       "    </tr>\n",
       "    <tr>\n",
       "      <th>46589</th>\n",
       "      <td>U001</td>\n",
       "      <td>0200769623</td>\n",
       "      <td>WAL-MAR corporation</td>\n",
       "      <td>NaT</td>\n",
       "      <td>2020.0</td>\n",
       "      <td>1.930712e+09</td>\n",
       "      <td>2020-03-29</td>\n",
       "      <td>2020-03-28</td>\n",
       "      <td>2020-03-29</td>\n",
       "      <td>2020-04-13</td>\n",
       "      <td>USD</td>\n",
       "      <td>RV</td>\n",
       "      <td>1.0</td>\n",
       "      <td>NaN</td>\n",
       "      <td>20734.45</td>\n",
       "      <td>2020-03-29</td>\n",
       "      <td>NAH4</td>\n",
       "      <td>1.930712e+09</td>\n",
       "      <td>1</td>\n",
       "      <td>NaN</td>\n",
       "    </tr>\n",
       "    <tr>\n",
       "      <th>46590</th>\n",
       "      <td>U001</td>\n",
       "      <td>0200759878</td>\n",
       "      <td>SA systems</td>\n",
       "      <td>NaT</td>\n",
       "      <td>2020.0</td>\n",
       "      <td>1.930780e+09</td>\n",
       "      <td>2020-04-13</td>\n",
       "      <td>2020-04-13</td>\n",
       "      <td>2020-04-13</td>\n",
       "      <td>2020-04-28</td>\n",
       "      <td>USD</td>\n",
       "      <td>RV</td>\n",
       "      <td>1.0</td>\n",
       "      <td>NaN</td>\n",
       "      <td>12177.42</td>\n",
       "      <td>2020-04-13</td>\n",
       "      <td>NAH4</td>\n",
       "      <td>1.930780e+09</td>\n",
       "      <td>1</td>\n",
       "      <td>NaN</td>\n",
       "    </tr>\n",
       "    <tr>\n",
       "      <th>46591</th>\n",
       "      <td>U001</td>\n",
       "      <td>0100036066</td>\n",
       "      <td>GROC in</td>\n",
       "      <td>NaT</td>\n",
       "      <td>2020.0</td>\n",
       "      <td>1.930687e+09</td>\n",
       "      <td>2020-03-23</td>\n",
       "      <td>2020-03-23</td>\n",
       "      <td>2020-03-23</td>\n",
       "      <td>2020-04-07</td>\n",
       "      <td>USD</td>\n",
       "      <td>RV</td>\n",
       "      <td>1.0</td>\n",
       "      <td>NaN</td>\n",
       "      <td>36623.39</td>\n",
       "      <td>2020-03-23</td>\n",
       "      <td>NAA8</td>\n",
       "      <td>1.930687e+09</td>\n",
       "      <td>1</td>\n",
       "      <td>NaN</td>\n",
       "    </tr>\n",
       "    <tr>\n",
       "      <th>...</th>\n",
       "      <td>...</td>\n",
       "      <td>...</td>\n",
       "      <td>...</td>\n",
       "      <td>...</td>\n",
       "      <td>...</td>\n",
       "      <td>...</td>\n",
       "      <td>...</td>\n",
       "      <td>...</td>\n",
       "      <td>...</td>\n",
       "      <td>...</td>\n",
       "      <td>...</td>\n",
       "      <td>...</td>\n",
       "      <td>...</td>\n",
       "      <td>...</td>\n",
       "      <td>...</td>\n",
       "      <td>...</td>\n",
       "      <td>...</td>\n",
       "      <td>...</td>\n",
       "      <td>...</td>\n",
       "      <td>...</td>\n",
       "    </tr>\n",
       "    <tr>\n",
       "      <th>49995</th>\n",
       "      <td>U001</td>\n",
       "      <td>0200726979</td>\n",
       "      <td>BJ'S  llc</td>\n",
       "      <td>NaT</td>\n",
       "      <td>2020.0</td>\n",
       "      <td>1.930628e+09</td>\n",
       "      <td>2020-03-10</td>\n",
       "      <td>2020-03-09</td>\n",
       "      <td>2020-03-10</td>\n",
       "      <td>2020-03-25</td>\n",
       "      <td>USD</td>\n",
       "      <td>RV</td>\n",
       "      <td>1.0</td>\n",
       "      <td>NaN</td>\n",
       "      <td>1268.69</td>\n",
       "      <td>2020-03-10</td>\n",
       "      <td>NAA8</td>\n",
       "      <td>1.930628e+09</td>\n",
       "      <td>1</td>\n",
       "      <td>NaN</td>\n",
       "    </tr>\n",
       "    <tr>\n",
       "      <th>49996</th>\n",
       "      <td>U001</td>\n",
       "      <td>0100031704</td>\n",
       "      <td>DELHAIZE foundation</td>\n",
       "      <td>NaT</td>\n",
       "      <td>2020.0</td>\n",
       "      <td>1.930621e+09</td>\n",
       "      <td>2020-03-09</td>\n",
       "      <td>2020-03-08</td>\n",
       "      <td>2020-03-09</td>\n",
       "      <td>2020-03-24</td>\n",
       "      <td>USD</td>\n",
       "      <td>RV</td>\n",
       "      <td>1.0</td>\n",
       "      <td>NaN</td>\n",
       "      <td>58973.63</td>\n",
       "      <td>2020-03-09</td>\n",
       "      <td>NAA8</td>\n",
       "      <td>1.930621e+09</td>\n",
       "      <td>1</td>\n",
       "      <td>NaN</td>\n",
       "    </tr>\n",
       "    <tr>\n",
       "      <th>49997</th>\n",
       "      <td>U001</td>\n",
       "      <td>200780383</td>\n",
       "      <td>MEIJ foundation</td>\n",
       "      <td>NaT</td>\n",
       "      <td>2020.0</td>\n",
       "      <td>1.930671e+09</td>\n",
       "      <td>2020-03-20</td>\n",
       "      <td>2020-03-19</td>\n",
       "      <td>2020-03-20</td>\n",
       "      <td>2020-04-04</td>\n",
       "      <td>USD</td>\n",
       "      <td>RV</td>\n",
       "      <td>1.0</td>\n",
       "      <td>NaN</td>\n",
       "      <td>110574.78</td>\n",
       "      <td>2020-03-20</td>\n",
       "      <td>NAA8</td>\n",
       "      <td>1.930671e+09</td>\n",
       "      <td>1</td>\n",
       "      <td>NaN</td>\n",
       "    </tr>\n",
       "    <tr>\n",
       "      <th>49998</th>\n",
       "      <td>U013</td>\n",
       "      <td>0140103983</td>\n",
       "      <td>FACE corp</td>\n",
       "      <td>NaT</td>\n",
       "      <td>2020.0</td>\n",
       "      <td>1.991841e+09</td>\n",
       "      <td>2020-04-06</td>\n",
       "      <td>2020-04-02</td>\n",
       "      <td>2020-04-06</td>\n",
       "      <td>2020-06-05</td>\n",
       "      <td>USD</td>\n",
       "      <td>RV</td>\n",
       "      <td>1.0</td>\n",
       "      <td>NaN</td>\n",
       "      <td>40409.00</td>\n",
       "      <td>2020-04-06</td>\n",
       "      <td>NAUZ</td>\n",
       "      <td>1.991841e+09</td>\n",
       "      <td>1</td>\n",
       "      <td>NaN</td>\n",
       "    </tr>\n",
       "    <tr>\n",
       "      <th>49999</th>\n",
       "      <td>U001</td>\n",
       "      <td>0200754278</td>\n",
       "      <td>MBM  trust</td>\n",
       "      <td>NaT</td>\n",
       "      <td>2020.0</td>\n",
       "      <td>1.930629e+09</td>\n",
       "      <td>2020-03-11</td>\n",
       "      <td>2020-03-10</td>\n",
       "      <td>2020-03-11</td>\n",
       "      <td>2020-03-26</td>\n",
       "      <td>USD</td>\n",
       "      <td>RV</td>\n",
       "      <td>1.0</td>\n",
       "      <td>NaN</td>\n",
       "      <td>7240.64</td>\n",
       "      <td>2020-03-11</td>\n",
       "      <td>NAA8</td>\n",
       "      <td>1.930629e+09</td>\n",
       "      <td>1</td>\n",
       "      <td>NaN</td>\n",
       "    </tr>\n",
       "  </tbody>\n",
       "</table>\n",
       "<p>3258 rows × 20 columns</p>\n",
       "</div>"
      ],
      "text/plain": [
       "      business_code cust_number        name_customer clear_date  \\\n",
       "46587          U001  0200772595     SAFEW associates        NaT   \n",
       "46588          U001  0200711029            WEGMAN co        NaT   \n",
       "46589          U001  0200769623  WAL-MAR corporation        NaT   \n",
       "46590          U001  0200759878           SA systems        NaT   \n",
       "46591          U001  0100036066              GROC in        NaT   \n",
       "...             ...         ...                  ...        ...   \n",
       "49995          U001  0200726979            BJ'S  llc        NaT   \n",
       "49996          U001  0100031704  DELHAIZE foundation        NaT   \n",
       "49997          U001   200780383      MEIJ foundation        NaT   \n",
       "49998          U013  0140103983            FACE corp        NaT   \n",
       "49999          U001  0200754278           MBM  trust        NaT   \n",
       "\n",
       "       buisness_year        doc_id posting_date document_create_date  \\\n",
       "46587         2020.0  1.930745e+09   2020-04-06           2020-04-04   \n",
       "46588         2020.0  1.930619e+09   2020-03-07           2020-03-07   \n",
       "46589         2020.0  1.930712e+09   2020-03-29           2020-03-28   \n",
       "46590         2020.0  1.930780e+09   2020-04-13           2020-04-13   \n",
       "46591         2020.0  1.930687e+09   2020-03-23           2020-03-23   \n",
       "...              ...           ...          ...                  ...   \n",
       "49995         2020.0  1.930628e+09   2020-03-10           2020-03-09   \n",
       "49996         2020.0  1.930621e+09   2020-03-09           2020-03-08   \n",
       "49997         2020.0  1.930671e+09   2020-03-20           2020-03-19   \n",
       "49998         2020.0  1.991841e+09   2020-04-06           2020-04-02   \n",
       "49999         2020.0  1.930629e+09   2020-03-11           2020-03-10   \n",
       "\n",
       "      document_create_date.1 due_in_date invoice_currency document type  \\\n",
       "46587             2020-04-06  2020-04-21              USD            RV   \n",
       "46588             2020-03-07  2020-03-22              USD            RV   \n",
       "46589             2020-03-29  2020-04-13              USD            RV   \n",
       "46590             2020-04-13  2020-04-28              USD            RV   \n",
       "46591             2020-03-23  2020-04-07              USD            RV   \n",
       "...                      ...         ...              ...           ...   \n",
       "49995             2020-03-10  2020-03-25              USD            RV   \n",
       "49996             2020-03-09  2020-03-24              USD            RV   \n",
       "49997             2020-03-20  2020-04-04              USD            RV   \n",
       "49998             2020-04-06  2020-06-05              USD            RV   \n",
       "49999             2020-03-11  2020-03-26              USD            RV   \n",
       "\n",
       "       posting_id  area_business  total_open_amount baseline_create_date  \\\n",
       "46587         1.0            NaN           55148.86           2020-04-06   \n",
       "46588         1.0            NaN           81042.37           2020-03-07   \n",
       "46589         1.0            NaN           20734.45           2020-03-29   \n",
       "46590         1.0            NaN           12177.42           2020-04-13   \n",
       "46591         1.0            NaN           36623.39           2020-03-23   \n",
       "...           ...            ...                ...                  ...   \n",
       "49995         1.0            NaN            1268.69           2020-03-10   \n",
       "49996         1.0            NaN           58973.63           2020-03-09   \n",
       "49997         1.0            NaN          110574.78           2020-03-20   \n",
       "49998         1.0            NaN           40409.00           2020-04-06   \n",
       "49999         1.0            NaN            7240.64           2020-03-11   \n",
       "\n",
       "      cust_payment_terms    invoice_id  isOpen  Delay  \n",
       "46587               NAA8  1.930745e+09       1    NaN  \n",
       "46588               NAA8  1.930619e+09       1    NaN  \n",
       "46589               NAH4  1.930712e+09       1    NaN  \n",
       "46590               NAH4  1.930780e+09       1    NaN  \n",
       "46591               NAA8  1.930687e+09       1    NaN  \n",
       "...                  ...           ...     ...    ...  \n",
       "49995               NAA8  1.930628e+09       1    NaN  \n",
       "49996               NAA8  1.930621e+09       1    NaN  \n",
       "49997               NAA8  1.930671e+09       1    NaN  \n",
       "49998               NAUZ  1.991841e+09       1    NaN  \n",
       "49999               NAA8  1.930629e+09       1    NaN  \n",
       "\n",
       "[3258 rows x 20 columns]"
      ]
     },
     "execution_count": 137,
     "metadata": {},
     "output_type": "execute_result"
    }
   ],
   "source": [
    "test_set"
   ]
  },
  {
   "cell_type": "code",
   "execution_count": 138,
   "metadata": {},
   "outputs": [
    {
     "data": {
      "text/html": [
       "<div>\n",
       "<style scoped>\n",
       "    .dataframe tbody tr th:only-of-type {\n",
       "        vertical-align: middle;\n",
       "    }\n",
       "\n",
       "    .dataframe tbody tr th {\n",
       "        vertical-align: top;\n",
       "    }\n",
       "\n",
       "    .dataframe thead th {\n",
       "        text-align: right;\n",
       "    }\n",
       "</style>\n",
       "<table border=\"1\" class=\"dataframe\">\n",
       "  <thead>\n",
       "    <tr style=\"text-align: right;\">\n",
       "      <th></th>\n",
       "      <th>business_code</th>\n",
       "      <th>cust_number</th>\n",
       "      <th>name_customer</th>\n",
       "      <th>clear_date</th>\n",
       "      <th>buisness_year</th>\n",
       "      <th>doc_id</th>\n",
       "      <th>posting_date</th>\n",
       "      <th>document_create_date</th>\n",
       "      <th>document_create_date.1</th>\n",
       "      <th>due_in_date</th>\n",
       "      <th>invoice_currency</th>\n",
       "      <th>document type</th>\n",
       "      <th>posting_id</th>\n",
       "      <th>area_business</th>\n",
       "      <th>total_open_amount</th>\n",
       "      <th>baseline_create_date</th>\n",
       "      <th>cust_payment_terms</th>\n",
       "      <th>invoice_id</th>\n",
       "      <th>isOpen</th>\n",
       "      <th>Delay</th>\n",
       "    </tr>\n",
       "  </thead>\n",
       "  <tbody>\n",
       "  </tbody>\n",
       "</table>\n",
       "</div>"
      ],
      "text/plain": [
       "Empty DataFrame\n",
       "Columns: [business_code, cust_number, name_customer, clear_date, buisness_year, doc_id, posting_date, document_create_date, document_create_date.1, due_in_date, invoice_currency, document type, posting_id, area_business, total_open_amount, baseline_create_date, cust_payment_terms, invoice_id, isOpen, Delay]\n",
       "Index: []"
      ]
     },
     "execution_count": 138,
     "metadata": {},
     "output_type": "execute_result"
    }
   ],
   "source": [
    "test_set[test_set['business_code']=='U007']"
   ]
  },
  {
   "cell_type": "code",
   "execution_count": 139,
   "metadata": {},
   "outputs": [],
   "source": [
    "test_set=pd.get_dummies(test_set,columns=[\"business_code\"])"
   ]
  },
  {
   "cell_type": "code",
   "execution_count": 140,
   "metadata": {},
   "outputs": [
    {
     "name": "stdout",
     "output_type": "stream",
     "text": [
      "<class 'pandas.core.frame.DataFrame'>\n",
      "Int64Index: 3258 entries, 46587 to 49999\n",
      "Data columns (total 23 columns):\n",
      " #   Column                  Non-Null Count  Dtype         \n",
      "---  ------                  --------------  -----         \n",
      " 0   cust_number             3258 non-null   object        \n",
      " 1   name_customer           3258 non-null   object        \n",
      " 2   clear_date              0 non-null      datetime64[ns]\n",
      " 3   buisness_year           3258 non-null   float64       \n",
      " 4   doc_id                  3258 non-null   float64       \n",
      " 5   posting_date            3258 non-null   datetime64[ns]\n",
      " 6   document_create_date    3258 non-null   datetime64[ns]\n",
      " 7   document_create_date.1  3258 non-null   datetime64[ns]\n",
      " 8   due_in_date             3258 non-null   datetime64[ns]\n",
      " 9   invoice_currency        3258 non-null   object        \n",
      " 10  document type           3258 non-null   object        \n",
      " 11  posting_id              3258 non-null   float64       \n",
      " 12  area_business           0 non-null      float64       \n",
      " 13  total_open_amount       3258 non-null   float64       \n",
      " 14  baseline_create_date    3258 non-null   datetime64[ns]\n",
      " 15  cust_payment_terms      3258 non-null   object        \n",
      " 16  invoice_id              3258 non-null   float64       \n",
      " 17  isOpen                  3258 non-null   int64         \n",
      " 18  Delay                   0 non-null      float64       \n",
      " 19  business_code_CA02      3258 non-null   uint8         \n",
      " 20  business_code_U001      3258 non-null   uint8         \n",
      " 21  business_code_U002      3258 non-null   uint8         \n",
      " 22  business_code_U013      3258 non-null   uint8         \n",
      "dtypes: datetime64[ns](6), float64(7), int64(1), object(5), uint8(4)\n",
      "memory usage: 521.8+ KB\n"
     ]
    }
   ],
   "source": [
    "test_set.info()"
   ]
  },
  {
   "cell_type": "code",
   "execution_count": 141,
   "metadata": {},
   "outputs": [
    {
     "data": {
      "text/plain": [
       "(3258, 23)"
      ]
     },
     "execution_count": 141,
     "metadata": {},
     "output_type": "execute_result"
    }
   ],
   "source": [
    "test_set.shape"
   ]
  },
  {
   "cell_type": "code",
   "execution_count": 142,
   "metadata": {},
   "outputs": [
    {
     "data": {
      "text/plain": [
       "0    3251\n",
       "1       7\n",
       "Name: business_code_U002, dtype: int64"
      ]
     },
     "execution_count": 142,
     "metadata": {},
     "output_type": "execute_result"
    }
   ],
   "source": [
    "test_set['business_code_U002'].value_counts()"
   ]
  },
  {
   "cell_type": "code",
   "execution_count": 143,
   "metadata": {},
   "outputs": [
    {
     "data": {
      "text/html": [
       "<div>\n",
       "<style scoped>\n",
       "    .dataframe tbody tr th:only-of-type {\n",
       "        vertical-align: middle;\n",
       "    }\n",
       "\n",
       "    .dataframe tbody tr th {\n",
       "        vertical-align: top;\n",
       "    }\n",
       "\n",
       "    .dataframe thead th {\n",
       "        text-align: right;\n",
       "    }\n",
       "</style>\n",
       "<table border=\"1\" class=\"dataframe\">\n",
       "  <thead>\n",
       "    <tr style=\"text-align: right;\">\n",
       "      <th></th>\n",
       "      <th>cust_number</th>\n",
       "      <th>name_customer</th>\n",
       "      <th>clear_date</th>\n",
       "      <th>buisness_year</th>\n",
       "      <th>doc_id</th>\n",
       "      <th>posting_date</th>\n",
       "      <th>document_create_date</th>\n",
       "      <th>document_create_date.1</th>\n",
       "      <th>due_in_date</th>\n",
       "      <th>invoice_currency</th>\n",
       "      <th>...</th>\n",
       "      <th>total_open_amount</th>\n",
       "      <th>baseline_create_date</th>\n",
       "      <th>cust_payment_terms</th>\n",
       "      <th>invoice_id</th>\n",
       "      <th>isOpen</th>\n",
       "      <th>Delay</th>\n",
       "      <th>business_code_CA02</th>\n",
       "      <th>business_code_U001</th>\n",
       "      <th>business_code_U002</th>\n",
       "      <th>business_code_U013</th>\n",
       "    </tr>\n",
       "  </thead>\n",
       "  <tbody>\n",
       "    <tr>\n",
       "      <th>46587</th>\n",
       "      <td>0200772595</td>\n",
       "      <td>SAFEW associates</td>\n",
       "      <td>NaT</td>\n",
       "      <td>2020.0</td>\n",
       "      <td>1.930745e+09</td>\n",
       "      <td>2020-04-06</td>\n",
       "      <td>2020-04-04</td>\n",
       "      <td>2020-04-06</td>\n",
       "      <td>2020-04-21</td>\n",
       "      <td>USD</td>\n",
       "      <td>...</td>\n",
       "      <td>55148.86</td>\n",
       "      <td>2020-04-06</td>\n",
       "      <td>NAA8</td>\n",
       "      <td>1.930745e+09</td>\n",
       "      <td>1</td>\n",
       "      <td>NaN</td>\n",
       "      <td>0</td>\n",
       "      <td>1</td>\n",
       "      <td>0</td>\n",
       "      <td>0</td>\n",
       "    </tr>\n",
       "    <tr>\n",
       "      <th>46588</th>\n",
       "      <td>0200711029</td>\n",
       "      <td>WEGMAN co</td>\n",
       "      <td>NaT</td>\n",
       "      <td>2020.0</td>\n",
       "      <td>1.930619e+09</td>\n",
       "      <td>2020-03-07</td>\n",
       "      <td>2020-03-07</td>\n",
       "      <td>2020-03-07</td>\n",
       "      <td>2020-03-22</td>\n",
       "      <td>USD</td>\n",
       "      <td>...</td>\n",
       "      <td>81042.37</td>\n",
       "      <td>2020-03-07</td>\n",
       "      <td>NAA8</td>\n",
       "      <td>1.930619e+09</td>\n",
       "      <td>1</td>\n",
       "      <td>NaN</td>\n",
       "      <td>0</td>\n",
       "      <td>1</td>\n",
       "      <td>0</td>\n",
       "      <td>0</td>\n",
       "    </tr>\n",
       "    <tr>\n",
       "      <th>46589</th>\n",
       "      <td>0200769623</td>\n",
       "      <td>WAL-MAR corporation</td>\n",
       "      <td>NaT</td>\n",
       "      <td>2020.0</td>\n",
       "      <td>1.930712e+09</td>\n",
       "      <td>2020-03-29</td>\n",
       "      <td>2020-03-28</td>\n",
       "      <td>2020-03-29</td>\n",
       "      <td>2020-04-13</td>\n",
       "      <td>USD</td>\n",
       "      <td>...</td>\n",
       "      <td>20734.45</td>\n",
       "      <td>2020-03-29</td>\n",
       "      <td>NAH4</td>\n",
       "      <td>1.930712e+09</td>\n",
       "      <td>1</td>\n",
       "      <td>NaN</td>\n",
       "      <td>0</td>\n",
       "      <td>1</td>\n",
       "      <td>0</td>\n",
       "      <td>0</td>\n",
       "    </tr>\n",
       "    <tr>\n",
       "      <th>46590</th>\n",
       "      <td>0200759878</td>\n",
       "      <td>SA systems</td>\n",
       "      <td>NaT</td>\n",
       "      <td>2020.0</td>\n",
       "      <td>1.930780e+09</td>\n",
       "      <td>2020-04-13</td>\n",
       "      <td>2020-04-13</td>\n",
       "      <td>2020-04-13</td>\n",
       "      <td>2020-04-28</td>\n",
       "      <td>USD</td>\n",
       "      <td>...</td>\n",
       "      <td>12177.42</td>\n",
       "      <td>2020-04-13</td>\n",
       "      <td>NAH4</td>\n",
       "      <td>1.930780e+09</td>\n",
       "      <td>1</td>\n",
       "      <td>NaN</td>\n",
       "      <td>0</td>\n",
       "      <td>1</td>\n",
       "      <td>0</td>\n",
       "      <td>0</td>\n",
       "    </tr>\n",
       "    <tr>\n",
       "      <th>46591</th>\n",
       "      <td>0100036066</td>\n",
       "      <td>GROC in</td>\n",
       "      <td>NaT</td>\n",
       "      <td>2020.0</td>\n",
       "      <td>1.930687e+09</td>\n",
       "      <td>2020-03-23</td>\n",
       "      <td>2020-03-23</td>\n",
       "      <td>2020-03-23</td>\n",
       "      <td>2020-04-07</td>\n",
       "      <td>USD</td>\n",
       "      <td>...</td>\n",
       "      <td>36623.39</td>\n",
       "      <td>2020-03-23</td>\n",
       "      <td>NAA8</td>\n",
       "      <td>1.930687e+09</td>\n",
       "      <td>1</td>\n",
       "      <td>NaN</td>\n",
       "      <td>0</td>\n",
       "      <td>1</td>\n",
       "      <td>0</td>\n",
       "      <td>0</td>\n",
       "    </tr>\n",
       "    <tr>\n",
       "      <th>...</th>\n",
       "      <td>...</td>\n",
       "      <td>...</td>\n",
       "      <td>...</td>\n",
       "      <td>...</td>\n",
       "      <td>...</td>\n",
       "      <td>...</td>\n",
       "      <td>...</td>\n",
       "      <td>...</td>\n",
       "      <td>...</td>\n",
       "      <td>...</td>\n",
       "      <td>...</td>\n",
       "      <td>...</td>\n",
       "      <td>...</td>\n",
       "      <td>...</td>\n",
       "      <td>...</td>\n",
       "      <td>...</td>\n",
       "      <td>...</td>\n",
       "      <td>...</td>\n",
       "      <td>...</td>\n",
       "      <td>...</td>\n",
       "      <td>...</td>\n",
       "    </tr>\n",
       "    <tr>\n",
       "      <th>49995</th>\n",
       "      <td>0200726979</td>\n",
       "      <td>BJ'S  llc</td>\n",
       "      <td>NaT</td>\n",
       "      <td>2020.0</td>\n",
       "      <td>1.930628e+09</td>\n",
       "      <td>2020-03-10</td>\n",
       "      <td>2020-03-09</td>\n",
       "      <td>2020-03-10</td>\n",
       "      <td>2020-03-25</td>\n",
       "      <td>USD</td>\n",
       "      <td>...</td>\n",
       "      <td>1268.69</td>\n",
       "      <td>2020-03-10</td>\n",
       "      <td>NAA8</td>\n",
       "      <td>1.930628e+09</td>\n",
       "      <td>1</td>\n",
       "      <td>NaN</td>\n",
       "      <td>0</td>\n",
       "      <td>1</td>\n",
       "      <td>0</td>\n",
       "      <td>0</td>\n",
       "    </tr>\n",
       "    <tr>\n",
       "      <th>49996</th>\n",
       "      <td>0100031704</td>\n",
       "      <td>DELHAIZE foundation</td>\n",
       "      <td>NaT</td>\n",
       "      <td>2020.0</td>\n",
       "      <td>1.930621e+09</td>\n",
       "      <td>2020-03-09</td>\n",
       "      <td>2020-03-08</td>\n",
       "      <td>2020-03-09</td>\n",
       "      <td>2020-03-24</td>\n",
       "      <td>USD</td>\n",
       "      <td>...</td>\n",
       "      <td>58973.63</td>\n",
       "      <td>2020-03-09</td>\n",
       "      <td>NAA8</td>\n",
       "      <td>1.930621e+09</td>\n",
       "      <td>1</td>\n",
       "      <td>NaN</td>\n",
       "      <td>0</td>\n",
       "      <td>1</td>\n",
       "      <td>0</td>\n",
       "      <td>0</td>\n",
       "    </tr>\n",
       "    <tr>\n",
       "      <th>49997</th>\n",
       "      <td>200780383</td>\n",
       "      <td>MEIJ foundation</td>\n",
       "      <td>NaT</td>\n",
       "      <td>2020.0</td>\n",
       "      <td>1.930671e+09</td>\n",
       "      <td>2020-03-20</td>\n",
       "      <td>2020-03-19</td>\n",
       "      <td>2020-03-20</td>\n",
       "      <td>2020-04-04</td>\n",
       "      <td>USD</td>\n",
       "      <td>...</td>\n",
       "      <td>110574.78</td>\n",
       "      <td>2020-03-20</td>\n",
       "      <td>NAA8</td>\n",
       "      <td>1.930671e+09</td>\n",
       "      <td>1</td>\n",
       "      <td>NaN</td>\n",
       "      <td>0</td>\n",
       "      <td>1</td>\n",
       "      <td>0</td>\n",
       "      <td>0</td>\n",
       "    </tr>\n",
       "    <tr>\n",
       "      <th>49998</th>\n",
       "      <td>0140103983</td>\n",
       "      <td>FACE corp</td>\n",
       "      <td>NaT</td>\n",
       "      <td>2020.0</td>\n",
       "      <td>1.991841e+09</td>\n",
       "      <td>2020-04-06</td>\n",
       "      <td>2020-04-02</td>\n",
       "      <td>2020-04-06</td>\n",
       "      <td>2020-06-05</td>\n",
       "      <td>USD</td>\n",
       "      <td>...</td>\n",
       "      <td>40409.00</td>\n",
       "      <td>2020-04-06</td>\n",
       "      <td>NAUZ</td>\n",
       "      <td>1.991841e+09</td>\n",
       "      <td>1</td>\n",
       "      <td>NaN</td>\n",
       "      <td>0</td>\n",
       "      <td>0</td>\n",
       "      <td>0</td>\n",
       "      <td>1</td>\n",
       "    </tr>\n",
       "    <tr>\n",
       "      <th>49999</th>\n",
       "      <td>0200754278</td>\n",
       "      <td>MBM  trust</td>\n",
       "      <td>NaT</td>\n",
       "      <td>2020.0</td>\n",
       "      <td>1.930629e+09</td>\n",
       "      <td>2020-03-11</td>\n",
       "      <td>2020-03-10</td>\n",
       "      <td>2020-03-11</td>\n",
       "      <td>2020-03-26</td>\n",
       "      <td>USD</td>\n",
       "      <td>...</td>\n",
       "      <td>7240.64</td>\n",
       "      <td>2020-03-11</td>\n",
       "      <td>NAA8</td>\n",
       "      <td>1.930629e+09</td>\n",
       "      <td>1</td>\n",
       "      <td>NaN</td>\n",
       "      <td>0</td>\n",
       "      <td>1</td>\n",
       "      <td>0</td>\n",
       "      <td>0</td>\n",
       "    </tr>\n",
       "  </tbody>\n",
       "</table>\n",
       "<p>3258 rows × 23 columns</p>\n",
       "</div>"
      ],
      "text/plain": [
       "      cust_number        name_customer clear_date  buisness_year  \\\n",
       "46587  0200772595     SAFEW associates        NaT         2020.0   \n",
       "46588  0200711029            WEGMAN co        NaT         2020.0   \n",
       "46589  0200769623  WAL-MAR corporation        NaT         2020.0   \n",
       "46590  0200759878           SA systems        NaT         2020.0   \n",
       "46591  0100036066              GROC in        NaT         2020.0   \n",
       "...           ...                  ...        ...            ...   \n",
       "49995  0200726979            BJ'S  llc        NaT         2020.0   \n",
       "49996  0100031704  DELHAIZE foundation        NaT         2020.0   \n",
       "49997   200780383      MEIJ foundation        NaT         2020.0   \n",
       "49998  0140103983            FACE corp        NaT         2020.0   \n",
       "49999  0200754278           MBM  trust        NaT         2020.0   \n",
       "\n",
       "             doc_id posting_date document_create_date document_create_date.1  \\\n",
       "46587  1.930745e+09   2020-04-06           2020-04-04             2020-04-06   \n",
       "46588  1.930619e+09   2020-03-07           2020-03-07             2020-03-07   \n",
       "46589  1.930712e+09   2020-03-29           2020-03-28             2020-03-29   \n",
       "46590  1.930780e+09   2020-04-13           2020-04-13             2020-04-13   \n",
       "46591  1.930687e+09   2020-03-23           2020-03-23             2020-03-23   \n",
       "...             ...          ...                  ...                    ...   \n",
       "49995  1.930628e+09   2020-03-10           2020-03-09             2020-03-10   \n",
       "49996  1.930621e+09   2020-03-09           2020-03-08             2020-03-09   \n",
       "49997  1.930671e+09   2020-03-20           2020-03-19             2020-03-20   \n",
       "49998  1.991841e+09   2020-04-06           2020-04-02             2020-04-06   \n",
       "49999  1.930629e+09   2020-03-11           2020-03-10             2020-03-11   \n",
       "\n",
       "      due_in_date invoice_currency  ... total_open_amount  \\\n",
       "46587  2020-04-21              USD  ...          55148.86   \n",
       "46588  2020-03-22              USD  ...          81042.37   \n",
       "46589  2020-04-13              USD  ...          20734.45   \n",
       "46590  2020-04-28              USD  ...          12177.42   \n",
       "46591  2020-04-07              USD  ...          36623.39   \n",
       "...           ...              ...  ...               ...   \n",
       "49995  2020-03-25              USD  ...           1268.69   \n",
       "49996  2020-03-24              USD  ...          58973.63   \n",
       "49997  2020-04-04              USD  ...         110574.78   \n",
       "49998  2020-06-05              USD  ...          40409.00   \n",
       "49999  2020-03-26              USD  ...           7240.64   \n",
       "\n",
       "       baseline_create_date  cust_payment_terms    invoice_id isOpen Delay  \\\n",
       "46587            2020-04-06                NAA8  1.930745e+09      1   NaN   \n",
       "46588            2020-03-07                NAA8  1.930619e+09      1   NaN   \n",
       "46589            2020-03-29                NAH4  1.930712e+09      1   NaN   \n",
       "46590            2020-04-13                NAH4  1.930780e+09      1   NaN   \n",
       "46591            2020-03-23                NAA8  1.930687e+09      1   NaN   \n",
       "...                     ...                 ...           ...    ...   ...   \n",
       "49995            2020-03-10                NAA8  1.930628e+09      1   NaN   \n",
       "49996            2020-03-09                NAA8  1.930621e+09      1   NaN   \n",
       "49997            2020-03-20                NAA8  1.930671e+09      1   NaN   \n",
       "49998            2020-04-06                NAUZ  1.991841e+09      1   NaN   \n",
       "49999            2020-03-11                NAA8  1.930629e+09      1   NaN   \n",
       "\n",
       "       business_code_CA02  business_code_U001  business_code_U002  \\\n",
       "46587                   0                   1                   0   \n",
       "46588                   0                   1                   0   \n",
       "46589                   0                   1                   0   \n",
       "46590                   0                   1                   0   \n",
       "46591                   0                   1                   0   \n",
       "...                   ...                 ...                 ...   \n",
       "49995                   0                   1                   0   \n",
       "49996                   0                   1                   0   \n",
       "49997                   0                   1                   0   \n",
       "49998                   0                   0                   0   \n",
       "49999                   0                   1                   0   \n",
       "\n",
       "       business_code_U013  \n",
       "46587                   0  \n",
       "46588                   0  \n",
       "46589                   0  \n",
       "46590                   0  \n",
       "46591                   0  \n",
       "...                   ...  \n",
       "49995                   0  \n",
       "49996                   0  \n",
       "49997                   0  \n",
       "49998                   1  \n",
       "49999                   0  \n",
       "\n",
       "[3258 rows x 23 columns]"
      ]
     },
     "execution_count": 143,
     "metadata": {},
     "output_type": "execute_result"
    }
   ],
   "source": [
    "test_set"
   ]
  },
  {
   "cell_type": "code",
   "execution_count": 144,
   "metadata": {},
   "outputs": [
    {
     "data": {
      "text/plain": [
       "USD    2996\n",
       "CAD     262\n",
       "Name: invoice_currency, dtype: int64"
      ]
     },
     "execution_count": 144,
     "metadata": {},
     "output_type": "execute_result"
    }
   ],
   "source": [
    "test_set['invoice_currency'].value_counts()"
   ]
  },
  {
   "cell_type": "code",
   "execution_count": 145,
   "metadata": {},
   "outputs": [],
   "source": [
    "test_set['document_create_date.1.year']=test_set['document_create_date.1'].dt.year\n",
    "test_set['document_create_date.1.month']=test_set['document_create_date.1'].dt.month\n",
    "test_set['document_create_date.1.Day']=test_set['document_create_date.1'].dt.day"
   ]
  },
  {
   "cell_type": "code",
   "execution_count": 146,
   "metadata": {},
   "outputs": [],
   "source": [
    "test_set['due_in_date.year']=test_set['due_in_date'].dt.year\n",
    "test_set['due_in_date.month']=test_set['due_in_date'].dt.month\n",
    "test_set['due_in_date.Day']=test_set['due_in_date'].dt.day"
   ]
  },
  {
   "cell_type": "code",
   "execution_count": 147,
   "metadata": {},
   "outputs": [
    {
     "data": {
      "text/plain": [
       "(3258, 29)"
      ]
     },
     "execution_count": 147,
     "metadata": {},
     "output_type": "execute_result"
    }
   ],
   "source": [
    "test_set.shape"
   ]
  },
  {
   "cell_type": "code",
   "execution_count": 148,
   "metadata": {},
   "outputs": [
    {
     "data": {
      "text/plain": [
       "USD    2996\n",
       "CAD     262\n",
       "Name: invoice_currency, dtype: int64"
      ]
     },
     "execution_count": 148,
     "metadata": {},
     "output_type": "execute_result"
    }
   ],
   "source": [
    "test_set['invoice_currency'].value_counts()"
   ]
  },
  {
   "cell_type": "code",
   "execution_count": 149,
   "metadata": {},
   "outputs": [],
   "source": [
    "test_set[\"invoice_currency\"]=test_set[\"invoice_currency\"].astype('category')"
   ]
  },
  {
   "cell_type": "code",
   "execution_count": 150,
   "metadata": {},
   "outputs": [],
   "source": [
    "test_set[\"invoice_currency_labelencoded\"]=test_set[\"invoice_currency\"].cat.codes"
   ]
  },
  {
   "cell_type": "code",
   "execution_count": 151,
   "metadata": {},
   "outputs": [
    {
     "data": {
      "text/plain": [
       "(3258, 30)"
      ]
     },
     "execution_count": 151,
     "metadata": {},
     "output_type": "execute_result"
    }
   ],
   "source": [
    "test_set.shape"
   ]
  },
  {
   "cell_type": "code",
   "execution_count": 152,
   "metadata": {},
   "outputs": [
    {
     "data": {
      "text/plain": [
       "1    2996\n",
       "0     262\n",
       "Name: invoice_currency_labelencoded, dtype: int64"
      ]
     },
     "execution_count": 152,
     "metadata": {},
     "output_type": "execute_result"
    }
   ],
   "source": [
    "test_set[\"invoice_currency_labelencoded\"].value_counts()"
   ]
  },
  {
   "cell_type": "code",
   "execution_count": 153,
   "metadata": {},
   "outputs": [
    {
     "data": {
      "text/plain": [
       "NAA8    1401\n",
       "NAH4    1024\n",
       "CA10     261\n",
       "NAC6     138\n",
       "NAGD     103\n",
       "NAAX      81\n",
       "NAU5      58\n",
       "NAD1      31\n",
       "NAG2      30\n",
       "NA10      24\n",
       "NA32      20\n",
       "NAX2      18\n",
       "NAD5      12\n",
       "NAVE      10\n",
       "NAAW       8\n",
       "NAWP       7\n",
       "NAUZ       5\n",
       "NAVF       4\n",
       "NAVQ       3\n",
       "NAB1       3\n",
       "NA38       3\n",
       "C106       2\n",
       "NAVD       2\n",
       "NABG       2\n",
       "NA84       2\n",
       "NA3F       1\n",
       "NACE       1\n",
       "BR56       1\n",
       "CA60       1\n",
       "90M7       1\n",
       "NACB       1\n",
       "Name: cust_payment_terms, dtype: int64"
      ]
     },
     "execution_count": 153,
     "metadata": {},
     "output_type": "execute_result"
    }
   ],
   "source": [
    "test_set['cust_payment_terms'].value_counts()"
   ]
  },
  {
   "cell_type": "code",
   "execution_count": 154,
   "metadata": {},
   "outputs": [],
   "source": [
    "test_set_mean=test_set.groupby('cust_payment_terms').mean()"
   ]
  },
  {
   "cell_type": "code",
   "execution_count": 155,
   "metadata": {},
   "outputs": [
    {
     "data": {
      "text/plain": [
       "(31, 19)"
      ]
     },
     "execution_count": 155,
     "metadata": {},
     "output_type": "execute_result"
    }
   ],
   "source": [
    "test_set_mean.shape"
   ]
  },
  {
   "cell_type": "code",
   "execution_count": 156,
   "metadata": {},
   "outputs": [
    {
     "data": {
      "text/plain": [
       "(3258, 30)"
      ]
     },
     "execution_count": 156,
     "metadata": {},
     "output_type": "execute_result"
    }
   ],
   "source": [
    "test_set.shape"
   ]
  },
  {
   "cell_type": "code",
   "execution_count": 157,
   "metadata": {},
   "outputs": [
    {
     "data": {
      "text/plain": [
       "count     3258\n",
       "unique      31\n",
       "top       NAA8\n",
       "freq      1401\n",
       "Name: cust_payment_terms, dtype: object"
      ]
     },
     "execution_count": 157,
     "metadata": {},
     "output_type": "execute_result"
    }
   ],
   "source": [
    "test_set['cust_payment_terms'].describe()"
   ]
  },
  {
   "cell_type": "code",
   "execution_count": 158,
   "metadata": {},
   "outputs": [
    {
     "data": {
      "text/html": [
       "<div>\n",
       "<style scoped>\n",
       "    .dataframe tbody tr th:only-of-type {\n",
       "        vertical-align: middle;\n",
       "    }\n",
       "\n",
       "    .dataframe tbody tr th {\n",
       "        vertical-align: top;\n",
       "    }\n",
       "\n",
       "    .dataframe thead th {\n",
       "        text-align: right;\n",
       "    }\n",
       "</style>\n",
       "<table border=\"1\" class=\"dataframe\">\n",
       "  <thead>\n",
       "    <tr style=\"text-align: right;\">\n",
       "      <th></th>\n",
       "      <th>cust_payment_terms</th>\n",
       "      <th>Delay</th>\n",
       "    </tr>\n",
       "  </thead>\n",
       "  <tbody>\n",
       "    <tr>\n",
       "      <th>46587</th>\n",
       "      <td>NAA8</td>\n",
       "      <td>NaN</td>\n",
       "    </tr>\n",
       "    <tr>\n",
       "      <th>46588</th>\n",
       "      <td>NAA8</td>\n",
       "      <td>NaN</td>\n",
       "    </tr>\n",
       "    <tr>\n",
       "      <th>46589</th>\n",
       "      <td>NAH4</td>\n",
       "      <td>NaN</td>\n",
       "    </tr>\n",
       "    <tr>\n",
       "      <th>46590</th>\n",
       "      <td>NAH4</td>\n",
       "      <td>NaN</td>\n",
       "    </tr>\n",
       "    <tr>\n",
       "      <th>46591</th>\n",
       "      <td>NAA8</td>\n",
       "      <td>NaN</td>\n",
       "    </tr>\n",
       "    <tr>\n",
       "      <th>...</th>\n",
       "      <td>...</td>\n",
       "      <td>...</td>\n",
       "    </tr>\n",
       "    <tr>\n",
       "      <th>49995</th>\n",
       "      <td>NAA8</td>\n",
       "      <td>NaN</td>\n",
       "    </tr>\n",
       "    <tr>\n",
       "      <th>49996</th>\n",
       "      <td>NAA8</td>\n",
       "      <td>NaN</td>\n",
       "    </tr>\n",
       "    <tr>\n",
       "      <th>49997</th>\n",
       "      <td>NAA8</td>\n",
       "      <td>NaN</td>\n",
       "    </tr>\n",
       "    <tr>\n",
       "      <th>49998</th>\n",
       "      <td>NAUZ</td>\n",
       "      <td>NaN</td>\n",
       "    </tr>\n",
       "    <tr>\n",
       "      <th>49999</th>\n",
       "      <td>NAA8</td>\n",
       "      <td>NaN</td>\n",
       "    </tr>\n",
       "  </tbody>\n",
       "</table>\n",
       "<p>3258 rows × 2 columns</p>\n",
       "</div>"
      ],
      "text/plain": [
       "      cust_payment_terms  Delay\n",
       "46587               NAA8    NaN\n",
       "46588               NAA8    NaN\n",
       "46589               NAH4    NaN\n",
       "46590               NAH4    NaN\n",
       "46591               NAA8    NaN\n",
       "...                  ...    ...\n",
       "49995               NAA8    NaN\n",
       "49996               NAA8    NaN\n",
       "49997               NAA8    NaN\n",
       "49998               NAUZ    NaN\n",
       "49999               NAA8    NaN\n",
       "\n",
       "[3258 rows x 2 columns]"
      ]
     },
     "execution_count": 158,
     "metadata": {},
     "output_type": "execute_result"
    }
   ],
   "source": [
    "test_set[['cust_payment_terms','Delay']]"
   ]
  },
  {
   "cell_type": "code",
   "execution_count": 159,
   "metadata": {},
   "outputs": [],
   "source": [
    "x2=test_set.groupby(['cust_payment_terms'])['Delay'].mean().to_dict()"
   ]
  },
  {
   "cell_type": "code",
   "execution_count": 160,
   "metadata": {},
   "outputs": [],
   "source": [
    "#x2"
   ]
  },
  {
   "cell_type": "code",
   "execution_count": 161,
   "metadata": {},
   "outputs": [],
   "source": [
    "test_set['cust_payment_terms_tencoded']=test_set['cust_payment_terms'].map(x2)"
   ]
  },
  {
   "cell_type": "code",
   "execution_count": 162,
   "metadata": {},
   "outputs": [
    {
     "data": {
      "text/plain": [
       "(3258, 31)"
      ]
     },
     "execution_count": 162,
     "metadata": {},
     "output_type": "execute_result"
    }
   ],
   "source": [
    "test_set.shape"
   ]
  },
  {
   "cell_type": "code",
   "execution_count": 163,
   "metadata": {},
   "outputs": [
    {
     "data": {
      "text/html": [
       "<div>\n",
       "<style scoped>\n",
       "    .dataframe tbody tr th:only-of-type {\n",
       "        vertical-align: middle;\n",
       "    }\n",
       "\n",
       "    .dataframe tbody tr th {\n",
       "        vertical-align: top;\n",
       "    }\n",
       "\n",
       "    .dataframe thead th {\n",
       "        text-align: right;\n",
       "    }\n",
       "</style>\n",
       "<table border=\"1\" class=\"dataframe\">\n",
       "  <thead>\n",
       "    <tr style=\"text-align: right;\">\n",
       "      <th></th>\n",
       "      <th>cust_number</th>\n",
       "      <th>name_customer</th>\n",
       "      <th>clear_date</th>\n",
       "      <th>buisness_year</th>\n",
       "      <th>doc_id</th>\n",
       "      <th>posting_date</th>\n",
       "      <th>document_create_date</th>\n",
       "      <th>document_create_date.1</th>\n",
       "      <th>due_in_date</th>\n",
       "      <th>invoice_currency</th>\n",
       "      <th>...</th>\n",
       "      <th>business_code_U002</th>\n",
       "      <th>business_code_U013</th>\n",
       "      <th>document_create_date.1.year</th>\n",
       "      <th>document_create_date.1.month</th>\n",
       "      <th>document_create_date.1.Day</th>\n",
       "      <th>due_in_date.year</th>\n",
       "      <th>due_in_date.month</th>\n",
       "      <th>due_in_date.Day</th>\n",
       "      <th>invoice_currency_labelencoded</th>\n",
       "      <th>cust_payment_terms_tencoded</th>\n",
       "    </tr>\n",
       "  </thead>\n",
       "  <tbody>\n",
       "    <tr>\n",
       "      <th>46587</th>\n",
       "      <td>0200772595</td>\n",
       "      <td>SAFEW associates</td>\n",
       "      <td>NaT</td>\n",
       "      <td>2020.0</td>\n",
       "      <td>1.930745e+09</td>\n",
       "      <td>2020-04-06</td>\n",
       "      <td>2020-04-04</td>\n",
       "      <td>2020-04-06</td>\n",
       "      <td>2020-04-21</td>\n",
       "      <td>USD</td>\n",
       "      <td>...</td>\n",
       "      <td>0</td>\n",
       "      <td>0</td>\n",
       "      <td>2020</td>\n",
       "      <td>4</td>\n",
       "      <td>6</td>\n",
       "      <td>2020</td>\n",
       "      <td>4</td>\n",
       "      <td>21</td>\n",
       "      <td>1</td>\n",
       "      <td>NaN</td>\n",
       "    </tr>\n",
       "    <tr>\n",
       "      <th>46588</th>\n",
       "      <td>0200711029</td>\n",
       "      <td>WEGMAN co</td>\n",
       "      <td>NaT</td>\n",
       "      <td>2020.0</td>\n",
       "      <td>1.930619e+09</td>\n",
       "      <td>2020-03-07</td>\n",
       "      <td>2020-03-07</td>\n",
       "      <td>2020-03-07</td>\n",
       "      <td>2020-03-22</td>\n",
       "      <td>USD</td>\n",
       "      <td>...</td>\n",
       "      <td>0</td>\n",
       "      <td>0</td>\n",
       "      <td>2020</td>\n",
       "      <td>3</td>\n",
       "      <td>7</td>\n",
       "      <td>2020</td>\n",
       "      <td>3</td>\n",
       "      <td>22</td>\n",
       "      <td>1</td>\n",
       "      <td>NaN</td>\n",
       "    </tr>\n",
       "    <tr>\n",
       "      <th>46589</th>\n",
       "      <td>0200769623</td>\n",
       "      <td>WAL-MAR corporation</td>\n",
       "      <td>NaT</td>\n",
       "      <td>2020.0</td>\n",
       "      <td>1.930712e+09</td>\n",
       "      <td>2020-03-29</td>\n",
       "      <td>2020-03-28</td>\n",
       "      <td>2020-03-29</td>\n",
       "      <td>2020-04-13</td>\n",
       "      <td>USD</td>\n",
       "      <td>...</td>\n",
       "      <td>0</td>\n",
       "      <td>0</td>\n",
       "      <td>2020</td>\n",
       "      <td>3</td>\n",
       "      <td>29</td>\n",
       "      <td>2020</td>\n",
       "      <td>4</td>\n",
       "      <td>13</td>\n",
       "      <td>1</td>\n",
       "      <td>NaN</td>\n",
       "    </tr>\n",
       "    <tr>\n",
       "      <th>46590</th>\n",
       "      <td>0200759878</td>\n",
       "      <td>SA systems</td>\n",
       "      <td>NaT</td>\n",
       "      <td>2020.0</td>\n",
       "      <td>1.930780e+09</td>\n",
       "      <td>2020-04-13</td>\n",
       "      <td>2020-04-13</td>\n",
       "      <td>2020-04-13</td>\n",
       "      <td>2020-04-28</td>\n",
       "      <td>USD</td>\n",
       "      <td>...</td>\n",
       "      <td>0</td>\n",
       "      <td>0</td>\n",
       "      <td>2020</td>\n",
       "      <td>4</td>\n",
       "      <td>13</td>\n",
       "      <td>2020</td>\n",
       "      <td>4</td>\n",
       "      <td>28</td>\n",
       "      <td>1</td>\n",
       "      <td>NaN</td>\n",
       "    </tr>\n",
       "    <tr>\n",
       "      <th>46591</th>\n",
       "      <td>0100036066</td>\n",
       "      <td>GROC in</td>\n",
       "      <td>NaT</td>\n",
       "      <td>2020.0</td>\n",
       "      <td>1.930687e+09</td>\n",
       "      <td>2020-03-23</td>\n",
       "      <td>2020-03-23</td>\n",
       "      <td>2020-03-23</td>\n",
       "      <td>2020-04-07</td>\n",
       "      <td>USD</td>\n",
       "      <td>...</td>\n",
       "      <td>0</td>\n",
       "      <td>0</td>\n",
       "      <td>2020</td>\n",
       "      <td>3</td>\n",
       "      <td>23</td>\n",
       "      <td>2020</td>\n",
       "      <td>4</td>\n",
       "      <td>7</td>\n",
       "      <td>1</td>\n",
       "      <td>NaN</td>\n",
       "    </tr>\n",
       "  </tbody>\n",
       "</table>\n",
       "<p>5 rows × 31 columns</p>\n",
       "</div>"
      ],
      "text/plain": [
       "      cust_number        name_customer clear_date  buisness_year  \\\n",
       "46587  0200772595     SAFEW associates        NaT         2020.0   \n",
       "46588  0200711029            WEGMAN co        NaT         2020.0   \n",
       "46589  0200769623  WAL-MAR corporation        NaT         2020.0   \n",
       "46590  0200759878           SA systems        NaT         2020.0   \n",
       "46591  0100036066              GROC in        NaT         2020.0   \n",
       "\n",
       "             doc_id posting_date document_create_date document_create_date.1  \\\n",
       "46587  1.930745e+09   2020-04-06           2020-04-04             2020-04-06   \n",
       "46588  1.930619e+09   2020-03-07           2020-03-07             2020-03-07   \n",
       "46589  1.930712e+09   2020-03-29           2020-03-28             2020-03-29   \n",
       "46590  1.930780e+09   2020-04-13           2020-04-13             2020-04-13   \n",
       "46591  1.930687e+09   2020-03-23           2020-03-23             2020-03-23   \n",
       "\n",
       "      due_in_date invoice_currency  ... business_code_U002  \\\n",
       "46587  2020-04-21              USD  ...                  0   \n",
       "46588  2020-03-22              USD  ...                  0   \n",
       "46589  2020-04-13              USD  ...                  0   \n",
       "46590  2020-04-28              USD  ...                  0   \n",
       "46591  2020-04-07              USD  ...                  0   \n",
       "\n",
       "       business_code_U013  document_create_date.1.year  \\\n",
       "46587                   0                         2020   \n",
       "46588                   0                         2020   \n",
       "46589                   0                         2020   \n",
       "46590                   0                         2020   \n",
       "46591                   0                         2020   \n",
       "\n",
       "       document_create_date.1.month document_create_date.1.Day  \\\n",
       "46587                             4                          6   \n",
       "46588                             3                          7   \n",
       "46589                             3                         29   \n",
       "46590                             4                         13   \n",
       "46591                             3                         23   \n",
       "\n",
       "      due_in_date.year  due_in_date.month  due_in_date.Day  \\\n",
       "46587             2020                  4               21   \n",
       "46588             2020                  3               22   \n",
       "46589             2020                  4               13   \n",
       "46590             2020                  4               28   \n",
       "46591             2020                  4                7   \n",
       "\n",
       "       invoice_currency_labelencoded  cust_payment_terms_tencoded  \n",
       "46587                              1                          NaN  \n",
       "46588                              1                          NaN  \n",
       "46589                              1                          NaN  \n",
       "46590                              1                          NaN  \n",
       "46591                              1                          NaN  \n",
       "\n",
       "[5 rows x 31 columns]"
      ]
     },
     "execution_count": 163,
     "metadata": {},
     "output_type": "execute_result"
    }
   ],
   "source": [
    "test_set.head()"
   ]
  },
  {
   "cell_type": "code",
   "execution_count": 164,
   "metadata": {},
   "outputs": [],
   "source": [
    "test_set.drop(['cust_number','name_customer','invoice_currency','document type','cust_payment_terms','clear_date','posting_date','document_create_date','document_create_date.1','due_in_date','baseline_create_date'],axis=1,inplace=True)"
   ]
  },
  {
   "cell_type": "code",
   "execution_count": 165,
   "metadata": {},
   "outputs": [
    {
     "data": {
      "text/plain": [
       "(3258, 20)"
      ]
     },
     "execution_count": 165,
     "metadata": {},
     "output_type": "execute_result"
    }
   ],
   "source": [
    "test_set.shape"
   ]
  },
  {
   "cell_type": "code",
   "execution_count": 166,
   "metadata": {},
   "outputs": [
    {
     "data": {
      "text/plain": [
       "VarianceThreshold(threshold=0)"
      ]
     },
     "execution_count": 166,
     "metadata": {},
     "output_type": "execute_result"
    }
   ],
   "source": [
    "constant_filter3=VarianceThreshold(threshold=0)\n",
    "constant_filter3.fit(test_set)"
   ]
  },
  {
   "cell_type": "code",
   "execution_count": 167,
   "metadata": {},
   "outputs": [
    {
     "data": {
      "text/plain": [
       "12"
      ]
     },
     "execution_count": 167,
     "metadata": {},
     "output_type": "execute_result"
    }
   ],
   "source": [
    "constant_filter3.get_support().sum()"
   ]
  },
  {
   "cell_type": "code",
   "execution_count": 168,
   "metadata": {},
   "outputs": [
    {
     "name": "stdout",
     "output_type": "stream",
     "text": [
      "['buisness_year', 'posting_id', 'area_business', 'isOpen', 'Delay', 'document_create_date.1.year', 'due_in_date.year', 'cust_payment_terms_tencoded']\n"
     ]
    }
   ],
   "source": [
    "constant_columns = [column for column in test_set.columns\n",
    "                    if column not in test_set.columns[constant_filter3.get_support()]]\n",
    "\n",
    "print((constant_columns))"
   ]
  },
  {
   "cell_type": "code",
   "execution_count": 169,
   "metadata": {},
   "outputs": [],
   "source": [
    "quasi_constant_filter3=VarianceThreshold(threshold=0.01)"
   ]
  },
  {
   "cell_type": "code",
   "execution_count": 170,
   "metadata": {},
   "outputs": [
    {
     "data": {
      "text/plain": [
       "VarianceThreshold(threshold=0.01)"
      ]
     },
     "execution_count": 170,
     "metadata": {},
     "output_type": "execute_result"
    }
   ],
   "source": [
    "quasi_constant_filter3.fit(test_set)"
   ]
  },
  {
   "cell_type": "code",
   "execution_count": 171,
   "metadata": {},
   "outputs": [
    {
     "data": {
      "text/plain": [
       "10"
      ]
     },
     "execution_count": 171,
     "metadata": {},
     "output_type": "execute_result"
    }
   ],
   "source": [
    "quasi_constant_filter3.get_support().sum()"
   ]
  },
  {
   "cell_type": "code",
   "execution_count": 172,
   "metadata": {},
   "outputs": [
    {
     "name": "stdout",
     "output_type": "stream",
     "text": [
      "['buisness_year', 'posting_id', 'area_business', 'isOpen', 'Delay', 'business_code_U002', 'business_code_U013', 'document_create_date.1.year', 'due_in_date.year', 'cust_payment_terms_tencoded']\n"
     ]
    }
   ],
   "source": [
    "constant_columns = [column for column in test_set.columns\n",
    "                    if column not in test_set.columns[quasi_constant_filter3.get_support()]]\n",
    "\n",
    "print((constant_columns))"
   ]
  },
  {
   "cell_type": "code",
   "execution_count": 173,
   "metadata": {},
   "outputs": [],
   "source": [
    "test_set.drop(['buisness_year', 'posting_id', 'area_business', 'isOpen', 'Delay', 'business_code_U002', 'business_code_U013', 'document_create_date.1.year', 'due_in_date.year', 'cust_payment_terms_tencoded'],axis=1,inplace=True)"
   ]
  },
  {
   "cell_type": "code",
   "execution_count": 174,
   "metadata": {},
   "outputs": [
    {
     "name": "stdout",
     "output_type": "stream",
     "text": [
      "<class 'pandas.core.frame.DataFrame'>\n",
      "Int64Index: 3258 entries, 46587 to 49999\n",
      "Data columns (total 10 columns):\n",
      " #   Column                         Non-Null Count  Dtype  \n",
      "---  ------                         --------------  -----  \n",
      " 0   doc_id                         3258 non-null   float64\n",
      " 1   total_open_amount              3258 non-null   float64\n",
      " 2   invoice_id                     3258 non-null   float64\n",
      " 3   business_code_CA02             3258 non-null   uint8  \n",
      " 4   business_code_U001             3258 non-null   uint8  \n",
      " 5   document_create_date.1.month   3258 non-null   int64  \n",
      " 6   document_create_date.1.Day     3258 non-null   int64  \n",
      " 7   due_in_date.month              3258 non-null   int64  \n",
      " 8   due_in_date.Day                3258 non-null   int64  \n",
      " 9   invoice_currency_labelencoded  3258 non-null   int8   \n",
      "dtypes: float64(3), int64(4), int8(1), uint8(2)\n",
      "memory usage: 213.2 KB\n"
     ]
    }
   ],
   "source": [
    "test_set.info()"
   ]
  },
  {
   "cell_type": "code",
   "execution_count": 175,
   "metadata": {},
   "outputs": [
    {
     "data": {
      "text/plain": [
       "(3258, 10)"
      ]
     },
     "execution_count": 175,
     "metadata": {},
     "output_type": "execute_result"
    }
   ],
   "source": [
    "test_set.shape"
   ]
  },
  {
   "cell_type": "code",
   "execution_count": 176,
   "metadata": {},
   "outputs": [
    {
     "name": "stdout",
     "output_type": "stream",
     "text": [
      "<class 'pandas.core.frame.DataFrame'>\n",
      "Int64Index: 3258 entries, 46587 to 49999\n",
      "Data columns (total 10 columns):\n",
      " #   Column                         Non-Null Count  Dtype  \n",
      "---  ------                         --------------  -----  \n",
      " 0   doc_id                         3258 non-null   float64\n",
      " 1   total_open_amount              3258 non-null   float64\n",
      " 2   invoice_id                     3258 non-null   float64\n",
      " 3   business_code_CA02             3258 non-null   uint8  \n",
      " 4   business_code_U001             3258 non-null   uint8  \n",
      " 5   document_create_date.1.month   3258 non-null   int64  \n",
      " 6   document_create_date.1.Day     3258 non-null   int64  \n",
      " 7   due_in_date.month              3258 non-null   int64  \n",
      " 8   due_in_date.Day                3258 non-null   int64  \n",
      " 9   invoice_currency_labelencoded  3258 non-null   int8   \n",
      "dtypes: float64(3), int64(4), int8(1), uint8(2)\n",
      "memory usage: 213.2 KB\n"
     ]
    }
   ],
   "source": [
    "test_set.info()#.shape,val.shape,train_data1.shape"
   ]
  },
  {
   "cell_type": "code",
   "execution_count": 177,
   "metadata": {},
   "outputs": [
    {
     "name": "stdout",
     "output_type": "stream",
     "text": [
      "<class 'pandas.core.frame.DataFrame'>\n",
      "Int64Index: 13333 entries, 32610 to 46586\n",
      "Data columns (total 15 columns):\n",
      " #   Column                         Non-Null Count  Dtype  \n",
      "---  ------                         --------------  -----  \n",
      " 0   buisness_year                  13333 non-null  float64\n",
      " 1   doc_id                         13333 non-null  float64\n",
      " 2   total_open_amount              13333 non-null  float64\n",
      " 3   Delay                          13333 non-null  float64\n",
      " 4   business_code_CA02             13333 non-null  float64\n",
      " 5   business_code_U001             13333 non-null  float64\n",
      " 6   business_code_U013             13333 non-null  float64\n",
      " 7   document_create_date.1.year    13333 non-null  float64\n",
      " 8   document_create_date.1.month   13333 non-null  float64\n",
      " 9   document_create_date.1.Day     13333 non-null  float64\n",
      " 10  due_in_date.year               13333 non-null  float64\n",
      " 11  due_in_date.month              13333 non-null  float64\n",
      " 12  due_in_date.Day                13333 non-null  float64\n",
      " 13  invoice_currency_labelencoded  13333 non-null  float64\n",
      " 14  cust_payment_terms_tencoded    13333 non-null  float64\n",
      "dtypes: float64(15)\n",
      "memory usage: 2.1 MB\n"
     ]
    }
   ],
   "source": [
    "val.info()"
   ]
  },
  {
   "cell_type": "code",
   "execution_count": 178,
   "metadata": {},
   "outputs": [
    {
     "name": "stdout",
     "output_type": "stream",
     "text": [
      "<class 'pandas.core.frame.DataFrame'>\n",
      "Int64Index: 31193 entries, 0 to 32609\n",
      "Data columns (total 15 columns):\n",
      " #   Column                         Non-Null Count  Dtype  \n",
      "---  ------                         --------------  -----  \n",
      " 0   buisness_year                  31193 non-null  float64\n",
      " 1   doc_id                         31193 non-null  float64\n",
      " 2   total_open_amount              31193 non-null  float64\n",
      " 3   Delay                          31193 non-null  float64\n",
      " 4   business_code_CA02             31193 non-null  float64\n",
      " 5   business_code_U001             31193 non-null  float64\n",
      " 6   business_code_U013             31193 non-null  float64\n",
      " 7   document_create_date.1.year    31193 non-null  float64\n",
      " 8   document_create_date.1.month   31193 non-null  float64\n",
      " 9   document_create_date.1.Day     31193 non-null  float64\n",
      " 10  due_in_date.year               31193 non-null  float64\n",
      " 11  due_in_date.month              31193 non-null  float64\n",
      " 12  due_in_date.Day                31193 non-null  float64\n",
      " 13  invoice_currency_labelencoded  31193 non-null  float64\n",
      " 14  cust_payment_terms_tencoded    31193 non-null  float64\n",
      "dtypes: float64(15)\n",
      "memory usage: 4.8 MB\n"
     ]
    }
   ],
   "source": [
    "train_data1.info()"
   ]
  },
  {
   "cell_type": "code",
   "execution_count": 179,
   "metadata": {},
   "outputs": [
    {
     "ename": "KeyError",
     "evalue": "\"['posting_id' 'area_business' 'isOpen' 'business_code_U002'] not found in axis\"",
     "output_type": "error",
     "traceback": [
      "\u001b[1;31m---------------------------------------------------------------------------\u001b[0m",
      "\u001b[1;31mKeyError\u001b[0m                                  Traceback (most recent call last)",
      "\u001b[1;32m<ipython-input-179-83694fa223d1>\u001b[0m in \u001b[0;36m<module>\u001b[1;34m\u001b[0m\n\u001b[1;32m----> 1\u001b[1;33m \u001b[0mval\u001b[0m\u001b[1;33m.\u001b[0m\u001b[0mdrop\u001b[0m\u001b[1;33m(\u001b[0m\u001b[1;33m[\u001b[0m\u001b[1;34m'buisness_year'\u001b[0m\u001b[1;33m,\u001b[0m \u001b[1;34m'posting_id'\u001b[0m\u001b[1;33m,\u001b[0m \u001b[1;34m'area_business'\u001b[0m\u001b[1;33m,\u001b[0m \u001b[1;34m'isOpen'\u001b[0m\u001b[1;33m,\u001b[0m \u001b[1;34m'Delay'\u001b[0m\u001b[1;33m,\u001b[0m \u001b[1;34m'business_code_U002'\u001b[0m\u001b[1;33m,\u001b[0m \u001b[1;34m'business_code_U013'\u001b[0m\u001b[1;33m,\u001b[0m \u001b[1;34m'document_create_date.1.year'\u001b[0m\u001b[1;33m,\u001b[0m \u001b[1;34m'due_in_date.year'\u001b[0m\u001b[1;33m,\u001b[0m \u001b[1;34m'cust_payment_terms_tencoded'\u001b[0m\u001b[1;33m]\u001b[0m\u001b[1;33m,\u001b[0m\u001b[0maxis\u001b[0m\u001b[1;33m=\u001b[0m\u001b[1;36m1\u001b[0m\u001b[1;33m,\u001b[0m\u001b[0minplace\u001b[0m\u001b[1;33m=\u001b[0m\u001b[1;32mTrue\u001b[0m\u001b[1;33m)\u001b[0m\u001b[1;33m\u001b[0m\u001b[1;33m\u001b[0m\u001b[0m\n\u001b[0m",
      "\u001b[1;32mc:\\users\\kiit\\appdata\\local\\programs\\python\\python37\\lib\\site-packages\\pandas\\core\\frame.py\u001b[0m in \u001b[0;36mdrop\u001b[1;34m(self, labels, axis, index, columns, level, inplace, errors)\u001b[0m\n\u001b[0;32m   4310\u001b[0m             \u001b[0mlevel\u001b[0m\u001b[1;33m=\u001b[0m\u001b[0mlevel\u001b[0m\u001b[1;33m,\u001b[0m\u001b[1;33m\u001b[0m\u001b[1;33m\u001b[0m\u001b[0m\n\u001b[0;32m   4311\u001b[0m             \u001b[0minplace\u001b[0m\u001b[1;33m=\u001b[0m\u001b[0minplace\u001b[0m\u001b[1;33m,\u001b[0m\u001b[1;33m\u001b[0m\u001b[1;33m\u001b[0m\u001b[0m\n\u001b[1;32m-> 4312\u001b[1;33m             \u001b[0merrors\u001b[0m\u001b[1;33m=\u001b[0m\u001b[0merrors\u001b[0m\u001b[1;33m,\u001b[0m\u001b[1;33m\u001b[0m\u001b[1;33m\u001b[0m\u001b[0m\n\u001b[0m\u001b[0;32m   4313\u001b[0m         )\n\u001b[0;32m   4314\u001b[0m \u001b[1;33m\u001b[0m\u001b[0m\n",
      "\u001b[1;32mc:\\users\\kiit\\appdata\\local\\programs\\python\\python37\\lib\\site-packages\\pandas\\core\\generic.py\u001b[0m in \u001b[0;36mdrop\u001b[1;34m(self, labels, axis, index, columns, level, inplace, errors)\u001b[0m\n\u001b[0;32m   4148\u001b[0m         \u001b[1;32mfor\u001b[0m \u001b[0maxis\u001b[0m\u001b[1;33m,\u001b[0m \u001b[0mlabels\u001b[0m \u001b[1;32min\u001b[0m \u001b[0maxes\u001b[0m\u001b[1;33m.\u001b[0m\u001b[0mitems\u001b[0m\u001b[1;33m(\u001b[0m\u001b[1;33m)\u001b[0m\u001b[1;33m:\u001b[0m\u001b[1;33m\u001b[0m\u001b[1;33m\u001b[0m\u001b[0m\n\u001b[0;32m   4149\u001b[0m             \u001b[1;32mif\u001b[0m \u001b[0mlabels\u001b[0m \u001b[1;32mis\u001b[0m \u001b[1;32mnot\u001b[0m \u001b[1;32mNone\u001b[0m\u001b[1;33m:\u001b[0m\u001b[1;33m\u001b[0m\u001b[1;33m\u001b[0m\u001b[0m\n\u001b[1;32m-> 4150\u001b[1;33m                 \u001b[0mobj\u001b[0m \u001b[1;33m=\u001b[0m \u001b[0mobj\u001b[0m\u001b[1;33m.\u001b[0m\u001b[0m_drop_axis\u001b[0m\u001b[1;33m(\u001b[0m\u001b[0mlabels\u001b[0m\u001b[1;33m,\u001b[0m \u001b[0maxis\u001b[0m\u001b[1;33m,\u001b[0m \u001b[0mlevel\u001b[0m\u001b[1;33m=\u001b[0m\u001b[0mlevel\u001b[0m\u001b[1;33m,\u001b[0m \u001b[0merrors\u001b[0m\u001b[1;33m=\u001b[0m\u001b[0merrors\u001b[0m\u001b[1;33m)\u001b[0m\u001b[1;33m\u001b[0m\u001b[1;33m\u001b[0m\u001b[0m\n\u001b[0m\u001b[0;32m   4151\u001b[0m \u001b[1;33m\u001b[0m\u001b[0m\n\u001b[0;32m   4152\u001b[0m         \u001b[1;32mif\u001b[0m \u001b[0minplace\u001b[0m\u001b[1;33m:\u001b[0m\u001b[1;33m\u001b[0m\u001b[1;33m\u001b[0m\u001b[0m\n",
      "\u001b[1;32mc:\\users\\kiit\\appdata\\local\\programs\\python\\python37\\lib\\site-packages\\pandas\\core\\generic.py\u001b[0m in \u001b[0;36m_drop_axis\u001b[1;34m(self, labels, axis, level, errors)\u001b[0m\n\u001b[0;32m   4183\u001b[0m                 \u001b[0mnew_axis\u001b[0m \u001b[1;33m=\u001b[0m \u001b[0maxis\u001b[0m\u001b[1;33m.\u001b[0m\u001b[0mdrop\u001b[0m\u001b[1;33m(\u001b[0m\u001b[0mlabels\u001b[0m\u001b[1;33m,\u001b[0m \u001b[0mlevel\u001b[0m\u001b[1;33m=\u001b[0m\u001b[0mlevel\u001b[0m\u001b[1;33m,\u001b[0m \u001b[0merrors\u001b[0m\u001b[1;33m=\u001b[0m\u001b[0merrors\u001b[0m\u001b[1;33m)\u001b[0m\u001b[1;33m\u001b[0m\u001b[1;33m\u001b[0m\u001b[0m\n\u001b[0;32m   4184\u001b[0m             \u001b[1;32melse\u001b[0m\u001b[1;33m:\u001b[0m\u001b[1;33m\u001b[0m\u001b[1;33m\u001b[0m\u001b[0m\n\u001b[1;32m-> 4185\u001b[1;33m                 \u001b[0mnew_axis\u001b[0m \u001b[1;33m=\u001b[0m \u001b[0maxis\u001b[0m\u001b[1;33m.\u001b[0m\u001b[0mdrop\u001b[0m\u001b[1;33m(\u001b[0m\u001b[0mlabels\u001b[0m\u001b[1;33m,\u001b[0m \u001b[0merrors\u001b[0m\u001b[1;33m=\u001b[0m\u001b[0merrors\u001b[0m\u001b[1;33m)\u001b[0m\u001b[1;33m\u001b[0m\u001b[1;33m\u001b[0m\u001b[0m\n\u001b[0m\u001b[0;32m   4186\u001b[0m             \u001b[0mresult\u001b[0m \u001b[1;33m=\u001b[0m \u001b[0mself\u001b[0m\u001b[1;33m.\u001b[0m\u001b[0mreindex\u001b[0m\u001b[1;33m(\u001b[0m\u001b[1;33m**\u001b[0m\u001b[1;33m{\u001b[0m\u001b[0maxis_name\u001b[0m\u001b[1;33m:\u001b[0m \u001b[0mnew_axis\u001b[0m\u001b[1;33m}\u001b[0m\u001b[1;33m)\u001b[0m\u001b[1;33m\u001b[0m\u001b[1;33m\u001b[0m\u001b[0m\n\u001b[0;32m   4187\u001b[0m \u001b[1;33m\u001b[0m\u001b[0m\n",
      "\u001b[1;32mc:\\users\\kiit\\appdata\\local\\programs\\python\\python37\\lib\\site-packages\\pandas\\core\\indexes\\base.py\u001b[0m in \u001b[0;36mdrop\u001b[1;34m(self, labels, errors)\u001b[0m\n\u001b[0;32m   5589\u001b[0m         \u001b[1;32mif\u001b[0m \u001b[0mmask\u001b[0m\u001b[1;33m.\u001b[0m\u001b[0many\u001b[0m\u001b[1;33m(\u001b[0m\u001b[1;33m)\u001b[0m\u001b[1;33m:\u001b[0m\u001b[1;33m\u001b[0m\u001b[1;33m\u001b[0m\u001b[0m\n\u001b[0;32m   5590\u001b[0m             \u001b[1;32mif\u001b[0m \u001b[0merrors\u001b[0m \u001b[1;33m!=\u001b[0m \u001b[1;34m\"ignore\"\u001b[0m\u001b[1;33m:\u001b[0m\u001b[1;33m\u001b[0m\u001b[1;33m\u001b[0m\u001b[0m\n\u001b[1;32m-> 5591\u001b[1;33m                 \u001b[1;32mraise\u001b[0m \u001b[0mKeyError\u001b[0m\u001b[1;33m(\u001b[0m\u001b[1;34mf\"{labels[mask]} not found in axis\"\u001b[0m\u001b[1;33m)\u001b[0m\u001b[1;33m\u001b[0m\u001b[1;33m\u001b[0m\u001b[0m\n\u001b[0m\u001b[0;32m   5592\u001b[0m             \u001b[0mindexer\u001b[0m \u001b[1;33m=\u001b[0m \u001b[0mindexer\u001b[0m\u001b[1;33m[\u001b[0m\u001b[1;33m~\u001b[0m\u001b[0mmask\u001b[0m\u001b[1;33m]\u001b[0m\u001b[1;33m\u001b[0m\u001b[1;33m\u001b[0m\u001b[0m\n\u001b[0;32m   5593\u001b[0m         \u001b[1;32mreturn\u001b[0m \u001b[0mself\u001b[0m\u001b[1;33m.\u001b[0m\u001b[0mdelete\u001b[0m\u001b[1;33m(\u001b[0m\u001b[0mindexer\u001b[0m\u001b[1;33m)\u001b[0m\u001b[1;33m\u001b[0m\u001b[1;33m\u001b[0m\u001b[0m\n",
      "\u001b[1;31mKeyError\u001b[0m: \"['posting_id' 'area_business' 'isOpen' 'business_code_U002'] not found in axis\""
     ]
    }
   ],
   "source": [
    "val.drop(['buisness_year', 'posting_id', 'area_business', 'isOpen', 'Delay', 'business_code_U002', 'business_code_U013', 'document_create_date.1.year', 'due_in_date.year', 'cust_payment_terms_tencoded'],axis=1,inplace=True)"
   ]
  },
  {
   "cell_type": "code",
   "execution_count": null,
   "metadata": {},
   "outputs": [],
   "source": [
    "val.shape"
   ]
  },
  {
   "cell_type": "code",
   "execution_count": null,
   "metadata": {},
   "outputs": [],
   "source": [
    "validate1,validate2=train_test_split(val,test_size=0.5,shuffle=False,stratify=None)"
   ]
  },
  {
   "cell_type": "code",
   "execution_count": null,
   "metadata": {},
   "outputs": [],
   "source": [
    "validate1.shape"
   ]
  },
  {
   "cell_type": "code",
   "execution_count": null,
   "metadata": {},
   "outputs": [],
   "source": [
    "validate1.shape,validate2.shape"
   ]
  },
  {
   "cell_type": "code",
   "execution_count": null,
   "metadata": {},
   "outputs": [],
   "source": [
    "y_train=train_data1[['Delay']]\n",
    "y_train"
   ]
  },
  {
   "cell_type": "code",
   "execution_count": null,
   "metadata": {},
   "outputs": [],
   "source": [
    "validate1.info()"
   ]
  },
  {
   "cell_type": "code",
   "execution_count": null,
   "metadata": {},
   "outputs": [],
   "source": [
    "y_validate1=validate1[['Delay']]\n",
    "y_validate1\n"
   ]
  },
  {
   "cell_type": "code",
   "execution_count": null,
   "metadata": {},
   "outputs": [],
   "source": [
    "y_validate2=validate2[['Delay']]\n",
    "y_validate2"
   ]
  },
  {
   "cell_type": "code",
   "execution_count": null,
   "metadata": {},
   "outputs": [],
   "source": [
    "#train_data1.drop(['Delay','cust_payment_terms_tencoded'],axis=1,inplace=True)\n",
    "validate1.drop(['Delay','cust_payment_terms_tencoded'],axis=1,inplace=True)\n",
    "validate2.drop(['Delay','cust_payment_terms_tencoded'],axis=1,inplace=True)"
   ]
  },
  {
   "cell_type": "code",
   "execution_count": null,
   "metadata": {},
   "outputs": [],
   "source": [
    "train_data1.drop(['buisness_year','doc_id','total_open_amount','Delay','cust_payment_terms_tencoded'],axis=1,inplace=True)"
   ]
  },
  {
   "cell_type": "code",
   "execution_count": null,
   "metadata": {},
   "outputs": [],
   "source": [
    "from sklearn.linear_model import LinearRegression\n",
    "from sklearn.metrics import mean_squared_error\n",
    "from sklearn.preprocessing import StandardScaler\n",
    "from sklearn.metrics import r2_score\n",
    "MSE_Score = []\n",
    "R2_Score = []\n",
    "Algorithm = []"
   ]
  },
  {
   "cell_type": "code",
   "execution_count": null,
   "metadata": {},
   "outputs": [],
   "source": [
    "Algorithm.append('Linear Regression')\n",
    "clf=LinearRegression()\n",
    "clf.fit(train_data1,y_train)\n",
    "\n",
    "# Predicting the Test Set Results\n",
    "predicted=clf.predict(train_data1)\n",
    "\n",
    "MSE_Score.append(mean_squared_error(y_train,predicted))\n",
    "R2_Score.append(r2_score(y_train,predicted))\n"
   ]
  },
  {
   "cell_type": "code",
   "execution_count": null,
   "metadata": {},
   "outputs": [],
   "source": [
    "Algorithm.append('Linear Regression')\n",
    "clf=LinearRegression()\n",
    "clf.fit(train_data1,y_train)\n",
    "\n",
    "# Predicting the Test Set Results\n",
    "predicted = clf.predict(validate1)\n",
    "\n",
    "MSE_Score.append(mean_squared_error(y_validate1,predicted))\n",
    "R2_Score.append(r2_score(y_validate1,predicted))\n",
    "\n"
   ]
  },
  {
   "cell_type": "code",
   "execution_count": null,
   "metadata": {},
   "outputs": [],
   "source": [
    "\n",
    "\n",
    "Algorithm.append('Linear Regression')\n",
    "clf = LinearRegression()\n",
    "clf.fit(train_data1,y_train)\n",
    "\n",
    "# Predicting the Test Set Results\n",
    "predicted = clf.predict(validate2)\n",
    "\n",
    "MSE_Score.append(mean_squared_error(y_validate2, predicted))\n",
    "R2_Score.append(r2_score(y_validate2, predicted))\n"
   ]
  },
  {
   "cell_type": "code",
   "execution_count": null,
   "metadata": {},
   "outputs": [],
   "source": [
    "Comparison = pd.DataFrame(list(zip(Algorithm, MSE_Score, R2_Score)), columns = ['Algorithm', 'MSE_Score', 'R2_Score'])\n",
    "Comparison"
   ]
  },
  {
   "cell_type": "code",
   "execution_count": null,
   "metadata": {},
   "outputs": [],
   "source": [
    "Algorithm.append('Linear Regression')\n",
    "clf = LinearRegression()\n",
    "clf.fit(train_data1,y_train)\n",
    "\n",
    "# Predicting the Test Set Results\n",
    "predicted = clf.predict(test_set)\n",
    "predicted\n"
   ]
  },
  {
   "cell_type": "code",
   "execution_count": null,
   "metadata": {},
   "outputs": [],
   "source": [
    "test_set.info()"
   ]
  },
  {
   "cell_type": "code",
   "execution_count": null,
   "metadata": {},
   "outputs": [],
   "source": [
    "train_data1.info()"
   ]
  },
  {
   "cell_type": "code",
   "execution_count": null,
   "metadata": {},
   "outputs": [],
   "source": [
    "val.info()"
   ]
  },
  {
   "cell_type": "code",
   "execution_count": null,
   "metadata": {},
   "outputs": [],
   "source": [
    "import math\n",
    "Y_test = pd.DataFrame(predicted,columns=['pred_delay'])\n",
    "Y_test['pred_delay'] = Y_test.apply(lambda x : math.ceil(x),axis=1)\n",
    "Y_test\n"
   ]
  },
  {
   "cell_type": "code",
   "execution_count": null,
   "metadata": {},
   "outputs": [],
   "source": [
    "test_set['Delay']=Y_test['pred_delay'].values"
   ]
  },
  {
   "cell_type": "code",
   "execution_count": null,
   "metadata": {},
   "outputs": [],
   "source": [
    "test_set['Delay']"
   ]
  },
  {
   "cell_type": "code",
   "execution_count": null,
   "metadata": {},
   "outputs": [],
   "source": [
    "test_set"
   ]
  },
  {
   "cell_type": "code",
   "execution_count": null,
   "metadata": {},
   "outputs": [],
   "source": [
    "from datetime import datetime, timedelta"
   ]
  },
  {
   "cell_type": "code",
   "execution_count": null,
   "metadata": {},
   "outputs": [],
   "source": [
    "test_set['clear_date'] = test_set.apply(lambda x: x['due_in_date.Day'] + x['Delay'], axis=1)"
   ]
  },
  {
   "cell_type": "code",
   "execution_count": null,
   "metadata": {},
   "outputs": [],
   "source": [
    "def bucketization(Delay):\n",
    "    if Delay <= 15:\n",
    "        bucket = '0-15 days'\n",
    "    elif Delay in range(16,31):\n",
    "        bucket = '16-30 days'\n",
    "    elif Delay in range(31,46):\n",
    "        bucket = '31-45 days'\n",
    "    elif Delay in range(46,61):\n",
    "        bucket = '46-60 days'\n",
    "    else:\n",
    "        bucket = 'Greater than 60'\n",
    "    return bucket"
   ]
  },
  {
   "cell_type": "code",
   "execution_count": null,
   "metadata": {},
   "outputs": [],
   "source": [
    "test_set['Aging_Bucket'] = test_set['Delay'].apply(bucketization)"
   ]
  },
  {
   "cell_type": "code",
   "execution_count": null,
   "metadata": {},
   "outputs": [],
   "source": [
    "test_set['Delay'].max()"
   ]
  },
  {
   "cell_type": "code",
   "execution_count": null,
   "metadata": {},
   "outputs": [],
   "source": [
    "test_set['predicted_date']=test_set['Delay']+test_set['due_in_date.Day']"
   ]
  },
  {
   "cell_type": "code",
   "execution_count": null,
   "metadata": {},
   "outputs": [],
   "source": [
    "test_set['predicted_date'].max()"
   ]
  },
  {
   "cell_type": "code",
   "execution_count": null,
   "metadata": {},
   "outputs": [],
   "source": [
    "test_set.head()"
   ]
  },
  {
   "cell_type": "code",
   "execution_count": null,
   "metadata": {},
   "outputs": [],
   "source": [
    "#PREDICTED DATE OF INVOICE PAYMENT\n",
    "test_set['predicted_date']"
   ]
  },
  {
   "cell_type": "code",
   "execution_count": null,
   "metadata": {},
   "outputs": [],
   "source": []
  },
  {
   "cell_type": "code",
   "execution_count": null,
   "metadata": {},
   "outputs": [],
   "source": []
  },
  {
   "cell_type": "code",
   "execution_count": null,
   "metadata": {},
   "outputs": [],
   "source": []
  },
  {
   "cell_type": "code",
   "execution_count": null,
   "metadata": {},
   "outputs": [],
   "source": []
  },
  {
   "cell_type": "code",
   "execution_count": null,
   "metadata": {},
   "outputs": [],
   "source": []
  },
  {
   "cell_type": "code",
   "execution_count": null,
   "metadata": {},
   "outputs": [],
   "source": []
  },
  {
   "cell_type": "code",
   "execution_count": null,
   "metadata": {},
   "outputs": [],
   "source": []
  },
  {
   "cell_type": "code",
   "execution_count": null,
   "metadata": {},
   "outputs": [],
   "source": []
  },
  {
   "cell_type": "code",
   "execution_count": null,
   "metadata": {},
   "outputs": [],
   "source": []
  },
  {
   "cell_type": "code",
   "execution_count": null,
   "metadata": {},
   "outputs": [],
   "source": []
  }
 ],
 "metadata": {
  "kernelspec": {
   "display_name": "Python 3",
   "language": "python",
   "name": "python3"
  },
  "language_info": {
   "codemirror_mode": {
    "name": "ipython",
    "version": 3
   },
   "file_extension": ".py",
   "mimetype": "text/x-python",
   "name": "python",
   "nbconvert_exporter": "python",
   "pygments_lexer": "ipython3",
   "version": "3.7.7"
  }
 },
 "nbformat": 4,
 "nbformat_minor": 4
}
